{
  "nbformat": 4,
  "nbformat_minor": 0,
  "metadata": {
    "colab": {
      "provenance": []
    },
    "kernelspec": {
      "name": "python3",
      "display_name": "Python 3"
    },
    "language_info": {
      "name": "python"
    },
    "accelerator": "GPU",
    "gpuClass": "standard"
  },
  "cells": [
    {
      "cell_type": "markdown",
      "source": [
        "# BitPredict Project: Time Series Forecasting\n",
        "\n",
        "Predicting the price of bitcoin based on its historical price."
      ],
      "metadata": {
        "id": "OB2S6UM-Xrt2"
      }
    },
    {
      "cell_type": "markdown",
      "source": [
        "## Preparation"
      ],
      "metadata": {
        "id": "G1_fI_I6X9F4"
      }
    },
    {
      "cell_type": "code",
      "source": [
        "import tensorflow as tf\n",
        "import pandas as pd\n",
        "import matplotlib.pyplot as plt\n",
        "from tensorflow.keras import layers\n",
        "import numpy as np\n",
        "import os\n",
        "from sklearn.model_selection import train_test_split"
      ],
      "metadata": {
        "id": "2SfzkW9Miopx"
      },
      "execution_count": 1,
      "outputs": []
    },
    {
      "cell_type": "markdown",
      "source": [
        "Helper functions"
      ],
      "metadata": {
        "id": "zvgZ3dMaYB4-"
      }
    },
    {
      "cell_type": "code",
      "execution_count": 2,
      "metadata": {
        "id": "YrjQyRsiXnd5"
      },
      "outputs": [],
      "source": [
        "WINDOW_SIZE = 7\n",
        "HORIZON = 1"
      ]
    },
    {
      "cell_type": "code",
      "source": [
        "def mean_absolute_scaled_error(y_true,y_pred):\n",
        "  \"\"\"\n",
        "  implement MASE (assuming no seasonality of data).\n",
        "  \"\"\"\n",
        "  mae = tf.reduce_mean(tf.abs(y_true-y_pred))\n",
        "\n",
        "  # find MAE of naive forecast (no seasonality)\n",
        "  mae_naive_no_season = tf.reduce_mean(tf.abs(y_true[1:]-y_true[:-1])) # our seasonality is 1 day, hence the shift of 1\n",
        "\n",
        "  return mae/mae_naive_no_season\n",
        "  "
      ],
      "metadata": {
        "id": "3krHthndYNRk"
      },
      "execution_count": 3,
      "outputs": []
    },
    {
      "cell_type": "code",
      "source": [
        "def evaluate_preds(y_true,y_pred):\n",
        "  y_true = tf.cast(y_true,tf.float32)\n",
        "  y_pred = tf.cast(y_pred,tf.float32)\n",
        "  result = {}\n",
        "  result[\"MAE\"] = tf.metrics.mean_absolute_error(y_true,y_pred).numpy()\n",
        "  result[\"MAPE\"] = tf.keras.metrics.mean_absolute_percentage_error(y_true,y_pred).numpy()\n",
        "  result[\"MASE\"] = mean_absolute_scaled_error(y_true,y_pred).numpy()\n",
        "  result[\"MSE\"] = tf.metrics.mean_squared_error(y_true,y_pred).numpy()\n",
        "  result[\"RMSE\"] = tf.sqrt(tf.metrics.mean_squared_error(y_true,y_pred)).numpy()\n",
        "  return result\n",
        "  "
      ],
      "metadata": {
        "id": "kAhNv0UzYO7D"
      },
      "execution_count": 4,
      "outputs": []
    },
    {
      "cell_type": "code",
      "source": [
        "def make_preds(model,input_data):\n",
        "  \"\"\"\n",
        "  uses model to make predictions on input_data.\n",
        "  \"\"\"\n",
        "  forecast = model.predict(input_data)\n",
        "  return tf.squeeze(forecast) # return 1D array of predictions\n"
      ],
      "metadata": {
        "id": "SoLUb2oYYR2y"
      },
      "execution_count": 5,
      "outputs": []
    },
    {
      "cell_type": "code",
      "source": [
        "def get_labeled_windows(x,horizon=HORIZON):\n",
        "  \"\"\"\n",
        "  creates labels for windowed dataset.\n",
        "  \n",
        "  e.g. if horizon = 1\n",
        "  input: [0,1,2,3,4,5,6,7] -> output: ([0,1,2,3,4,5,6],[7])\n",
        "  input: [1,2,3,4,5,6,7,8] -> output: ([1,2,3,4,5,6,7],[8])\n",
        "  input: [2,3,4,5,6,7,8,9] -> output: ([2,3,4,5,6,7,8],[9])\n",
        "  \"\"\"\n",
        "  return (x[:,:-horizon],x[:,-horizon:])\n"
      ],
      "metadata": {
        "id": "4jy_HXxWYU0l"
      },
      "execution_count": 6,
      "outputs": []
    },
    {
      "cell_type": "code",
      "source": [
        "def make_windows(x,window_size=WINDOW_SIZE,horizon=HORIZON):\n",
        "  \"\"\"\n",
        "  turns a 1d array into a 2d array of sequential labeled windows of \n",
        "  window_size with horizon size labels.\n",
        "  \"\"\"\n",
        "  # 1. create a window of specified window_size \n",
        "  # (add the horizon on the end for labeling later)\n",
        "  window_step = np.expand_dims(np.arange(window_size+horizon),axis=0)\n",
        "  # print(f\"window_step:\\n{window_step}\")\n",
        "\n",
        "  # 2. use numpy indexing to create a 2d array of multiple window steps\n",
        "  # (minus 1 to account for 0 indexing)\n",
        "  window_indices = window_step + np.expand_dims(np.arange(len(x)-(window_size+horizon-1)),axis=0).T # create 2D array of windows of size window_size\n",
        "  # print(f\"window indices:\\n{window_indices,window_indices.shape}\")\n",
        "\n",
        "  # print(f\"that expand dims:\\n {np.expand_dims(np.arange(len(x)-(window_size+horizon-1)),axis=0).T}\")\n",
        "\n",
        "  # 3. index on the target array (a time series) with 2d array of multiple window steps\n",
        "  windowed_array = x[window_indices]\n",
        "  # print(windowed_array)\n",
        "\n",
        "  # 4. get the labeled windows\n",
        "  test_window,test_label = get_labeled_windows(windowed_array,horizon=horizon)\n",
        "  return test_window,test_label\n"
      ],
      "metadata": {
        "id": "O52348QdYZcG"
      },
      "execution_count": 7,
      "outputs": []
    },
    {
      "cell_type": "code",
      "source": [
        "def make_train_test_splits(windows,labels,test_split=0.2):\n",
        "  \"\"\"\n",
        "  splits matching pairs of windows and labels into train and test splits.\n",
        "  \"\"\"\n",
        "  split_size = int(len(windows)*(1-test_split)) # this will default to 80% train, 20% test\n",
        "  train_windows = windows[:split_size]\n",
        "  train_labels = labels[:split_size]\n",
        "  test_windows = windows[split_size:]\n",
        "  test_labels = labels[split_size:]\n",
        "  return train_windows,test_windows,train_labels,test_labels\n",
        "  "
      ],
      "metadata": {
        "id": "nJz9Qi6kYeBk"
      },
      "execution_count": 8,
      "outputs": []
    },
    {
      "cell_type": "code",
      "source": [
        "def create_model_checkpoint(model_name,save_path=\"model_experiments\"):\n",
        "  return tf.keras.callbacks.ModelCheckpoint(filepath=os.path.join(save_path,model_name),\n",
        "                                            verbose=0,\n",
        "                                            monitor=\"val_loss\",\n",
        "                                            save_best_only=True)\n",
        "  "
      ],
      "metadata": {
        "id": "WkFSJEVYYgMx"
      },
      "execution_count": 9,
      "outputs": []
    },
    {
      "cell_type": "code",
      "source": [
        "def get_future_dates(start_date,into_future,offset=1):\n",
        "  \"\"\"\n",
        "  returns array of datetime values ranging from start_date \n",
        "  to start_date + into_future\n",
        "  \"\"\"\n",
        "  start_date = start_date + np.timedelta64(offset,\"D\") # specify start date, \"D\" stands for day\n",
        "  end_date = start_date + np.timedelta64(into_future,\"D\") # specify end date\n",
        "  return np.arange(start_date,end_date,dtype=\"datetime64[D]\") # return a date range between start and end date\n",
        "  "
      ],
      "metadata": {
        "id": "99I6nZM828bS"
      },
      "execution_count": 35,
      "outputs": []
    },
    {
      "cell_type": "markdown",
      "source": [
        "## BTC price forecasting (with test dataset)"
      ],
      "metadata": {
        "id": "dkKh4ZG2dfnE"
      }
    },
    {
      "cell_type": "markdown",
      "source": [
        "Retrieve data"
      ],
      "metadata": {
        "id": "a1MXaVWuYE1t"
      }
    },
    {
      "cell_type": "code",
      "source": [
        "!wget https://raw.githubusercontent.com/mrdbourke/tensorflow-deep-learning/main/extras/BTC_USD_2013-10-01_2021-05-18-CoinDesk.csv\n",
        "\n",
        "# read in bitcoin data and parse the dates\n",
        "df = pd.read_csv(\"/content/BTC_USD_2013-10-01_2021-05-18-CoinDesk.csv\",\n",
        "                 parse_dates=[\"Date\"],\n",
        "                 index_col=[\"Date\"]) # parse the date column and tell pandas col 1 is datetime\n",
        "\n",
        "bitcoin_prices = pd.DataFrame(df[\"Closing Price (USD)\"]).rename(columns={\"Closing Price (USD)\":\"Price\"})\n",
        "\n",
        "# get bitcoin date and price arrays\n",
        "timesteps = bitcoin_prices.index.to_numpy()\n",
        "prices = bitcoin_prices[\"Price\"].to_numpy()"
      ],
      "metadata": {
        "colab": {
          "base_uri": "https://localhost:8080/"
        },
        "id": "40Cb5uvGYisP",
        "outputId": "9830aa4b-bcfe-48c8-eced-72129fb0f3f3"
      },
      "execution_count": 10,
      "outputs": [
        {
          "output_type": "stream",
          "name": "stdout",
          "text": [
            "--2023-03-02 00:14:07--  https://raw.githubusercontent.com/mrdbourke/tensorflow-deep-learning/main/extras/BTC_USD_2013-10-01_2021-05-18-CoinDesk.csv\n",
            "Resolving raw.githubusercontent.com (raw.githubusercontent.com)... 185.199.108.133, 185.199.109.133, 185.199.110.133, ...\n",
            "Connecting to raw.githubusercontent.com (raw.githubusercontent.com)|185.199.108.133|:443... connected.\n",
            "HTTP request sent, awaiting response... 200 OK\n",
            "Length: 178509 (174K) [text/plain]\n",
            "Saving to: ‘BTC_USD_2013-10-01_2021-05-18-CoinDesk.csv’\n",
            "\n",
            "BTC_USD_2013-10-01_ 100%[===================>] 174.33K  --.-KB/s    in 0.003s  \n",
            "\n",
            "2023-03-02 00:14:07 (57.0 MB/s) - ‘BTC_USD_2013-10-01_2021-05-18-CoinDesk.csv’ saved [178509/178509]\n",
            "\n"
          ]
        }
      ]
    },
    {
      "cell_type": "markdown",
      "source": [
        "Create train and test sets"
      ],
      "metadata": {
        "id": "F7CWNBUvea2S"
      }
    },
    {
      "cell_type": "code",
      "source": [
        "# create test and test splits the right way for time series data\n",
        "split_size = int(0.8*len(prices)) # 80% train, 20% test\n",
        "\n",
        "# create train data splits (everything before split)\n",
        "X_train,y_train = timesteps[:split_size],prices[:split_size]\n",
        "\n",
        "# create test data splits (everything after split)\n",
        "X_test,y_test = timesteps[split_size:],prices[split_size:]\n",
        "\n",
        "len(X_train), len(y_train), len(X_test), len(y_test)"
      ],
      "metadata": {
        "colab": {
          "base_uri": "https://localhost:8080/"
        },
        "id": "IpY9DsFfZya1",
        "outputId": "e05703b6-6b7d-4c8b-b0ab-4bd1acc92e90"
      },
      "execution_count": 11,
      "outputs": [
        {
          "output_type": "execute_result",
          "data": {
            "text/plain": [
              "(2229, 2229, 558, 558)"
            ]
          },
          "metadata": {},
          "execution_count": 11
        }
      ]
    },
    {
      "cell_type": "markdown",
      "source": [
        "Create windowed data, to consider a window of prior BTC price values (preceding projection)"
      ],
      "metadata": {
        "id": "lBCHWlhvfsg9"
      }
    },
    {
      "cell_type": "code",
      "source": [
        "# create train and test windows\n",
        "full_windows,full_labels = make_windows(prices,window_size=WINDOW_SIZE,horizon=HORIZON)\n",
        "train_windows,test_windows,train_labels,test_labels = make_train_test_splits(full_windows,full_labels)"
      ],
      "metadata": {
        "id": "UvGE1jKTfpaS"
      },
      "execution_count": 12,
      "outputs": []
    },
    {
      "cell_type": "markdown",
      "source": [
        "Design, compile, train, and evaluate a simple model"
      ],
      "metadata": {
        "id": "fOvTPynufuLh"
      }
    },
    {
      "cell_type": "code",
      "source": [
        "model_BTC = tf.keras.models.Sequential([\n",
        "    layers.Dense(128,activation=\"relu\"),\n",
        "    layers.Dense(HORIZON,activation=\"linear\") # or just leave activation unspecified\n",
        "],name=\"model_BTC\")\n",
        "\n",
        "# compile\n",
        "model_BTC.compile(loss=\"mae\",\n",
        "                optimizer=tf.keras.optimizers.Adam(),\n",
        "                metrics = [\"mae\",\"mse\"])\n",
        "\n",
        "# fit\n",
        "history_1 = model_BTC.fit(x=train_windows,\n",
        "            y=train_labels,\n",
        "            epochs=100,\n",
        "            verbose=0,\n",
        "            batch_size=128,\n",
        "            validation_data=(test_windows,test_labels),\n",
        "            callbacks=[create_model_checkpoint(\"model_BTC\")])\n",
        "\n",
        "model_BTC.evaluate(test_windows,test_labels)"
      ],
      "metadata": {
        "colab": {
          "base_uri": "https://localhost:8080/"
        },
        "id": "S1suFDJLf4Ko",
        "outputId": "57427093-75f5-472d-b43a-75b6c5f092f8"
      },
      "execution_count": 13,
      "outputs": [
        {
          "output_type": "stream",
          "name": "stderr",
          "text": [
            "WARNING:absl:Found untraced functions such as _update_step_xla while saving (showing 1 of 1). These functions will not be directly callable after loading.\n",
            "WARNING:absl:Found untraced functions such as _update_step_xla while saving (showing 1 of 1). These functions will not be directly callable after loading.\n",
            "WARNING:absl:Found untraced functions such as _update_step_xla while saving (showing 1 of 1). These functions will not be directly callable after loading.\n",
            "WARNING:absl:Found untraced functions such as _update_step_xla while saving (showing 1 of 1). These functions will not be directly callable after loading.\n",
            "WARNING:absl:Found untraced functions such as _update_step_xla while saving (showing 1 of 1). These functions will not be directly callable after loading.\n",
            "WARNING:absl:Found untraced functions such as _update_step_xla while saving (showing 1 of 1). These functions will not be directly callable after loading.\n",
            "WARNING:absl:Found untraced functions such as _update_step_xla while saving (showing 1 of 1). These functions will not be directly callable after loading.\n",
            "WARNING:absl:Found untraced functions such as _update_step_xla while saving (showing 1 of 1). These functions will not be directly callable after loading.\n",
            "WARNING:absl:Found untraced functions such as _update_step_xla while saving (showing 1 of 1). These functions will not be directly callable after loading.\n",
            "WARNING:absl:Found untraced functions such as _update_step_xla while saving (showing 1 of 1). These functions will not be directly callable after loading.\n",
            "WARNING:absl:Found untraced functions such as _update_step_xla while saving (showing 1 of 1). These functions will not be directly callable after loading.\n",
            "WARNING:absl:Found untraced functions such as _update_step_xla while saving (showing 1 of 1). These functions will not be directly callable after loading.\n",
            "WARNING:absl:Found untraced functions such as _update_step_xla while saving (showing 1 of 1). These functions will not be directly callable after loading.\n",
            "WARNING:absl:Found untraced functions such as _update_step_xla while saving (showing 1 of 1). These functions will not be directly callable after loading.\n",
            "WARNING:absl:Found untraced functions such as _update_step_xla while saving (showing 1 of 1). These functions will not be directly callable after loading.\n",
            "WARNING:absl:Found untraced functions such as _update_step_xla while saving (showing 1 of 1). These functions will not be directly callable after loading.\n",
            "WARNING:absl:Found untraced functions such as _update_step_xla while saving (showing 1 of 1). These functions will not be directly callable after loading.\n",
            "WARNING:absl:Found untraced functions such as _update_step_xla while saving (showing 1 of 1). These functions will not be directly callable after loading.\n",
            "WARNING:absl:Found untraced functions such as _update_step_xla while saving (showing 1 of 1). These functions will not be directly callable after loading.\n",
            "WARNING:absl:Found untraced functions such as _update_step_xla while saving (showing 1 of 1). These functions will not be directly callable after loading.\n",
            "WARNING:absl:Found untraced functions such as _update_step_xla while saving (showing 1 of 1). These functions will not be directly callable after loading.\n",
            "WARNING:absl:Found untraced functions such as _update_step_xla while saving (showing 1 of 1). These functions will not be directly callable after loading.\n",
            "WARNING:absl:Found untraced functions such as _update_step_xla while saving (showing 1 of 1). These functions will not be directly callable after loading.\n",
            "WARNING:absl:Found untraced functions such as _update_step_xla while saving (showing 1 of 1). These functions will not be directly callable after loading.\n",
            "WARNING:absl:Found untraced functions such as _update_step_xla while saving (showing 1 of 1). These functions will not be directly callable after loading.\n",
            "WARNING:absl:Found untraced functions such as _update_step_xla while saving (showing 1 of 1). These functions will not be directly callable after loading.\n",
            "WARNING:absl:Found untraced functions such as _update_step_xla while saving (showing 1 of 1). These functions will not be directly callable after loading.\n",
            "WARNING:absl:Found untraced functions such as _update_step_xla while saving (showing 1 of 1). These functions will not be directly callable after loading.\n",
            "WARNING:absl:Found untraced functions such as _update_step_xla while saving (showing 1 of 1). These functions will not be directly callable after loading.\n",
            "WARNING:absl:Found untraced functions such as _update_step_xla while saving (showing 1 of 1). These functions will not be directly callable after loading.\n",
            "WARNING:absl:Found untraced functions such as _update_step_xla while saving (showing 1 of 1). These functions will not be directly callable after loading.\n",
            "WARNING:absl:Found untraced functions such as _update_step_xla while saving (showing 1 of 1). These functions will not be directly callable after loading.\n",
            "WARNING:absl:Found untraced functions such as _update_step_xla while saving (showing 1 of 1). These functions will not be directly callable after loading.\n",
            "WARNING:absl:Found untraced functions such as _update_step_xla while saving (showing 1 of 1). These functions will not be directly callable after loading.\n",
            "WARNING:absl:Found untraced functions such as _update_step_xla while saving (showing 1 of 1). These functions will not be directly callable after loading.\n",
            "WARNING:absl:Found untraced functions such as _update_step_xla while saving (showing 1 of 1). These functions will not be directly callable after loading.\n",
            "WARNING:absl:Found untraced functions such as _update_step_xla while saving (showing 1 of 1). These functions will not be directly callable after loading.\n"
          ]
        },
        {
          "output_type": "stream",
          "name": "stdout",
          "text": [
            "18/18 [==============================] - 0s 3ms/step - loss: 565.5221 - mae: 565.5221 - mse: 1144265.7500\n"
          ]
        },
        {
          "output_type": "execute_result",
          "data": {
            "text/plain": [
              "[565.5220947265625, 565.5220947265625, 1144265.75]"
            ]
          },
          "metadata": {},
          "execution_count": 13
        }
      ]
    },
    {
      "cell_type": "markdown",
      "source": [
        "Create normalized windowed data, to consider a window of prior BTC price values (preceding projection)"
      ],
      "metadata": {
        "id": "qWGNqfsaeiek"
      }
    },
    {
      "cell_type": "code",
      "source": [
        "# create train and test windows\n",
        "full_windows_norm,full_labels_norm = make_windows(prices/max(prices),window_size=WINDOW_SIZE,horizon=HORIZON)\n",
        "train_windows_norm,test_windows_norm,train_labels_norm,test_labels_norm = make_train_test_splits(full_windows_norm,full_labels_norm)"
      ],
      "metadata": {
        "id": "v8debz96eDy0"
      },
      "execution_count": 14,
      "outputs": []
    },
    {
      "cell_type": "markdown",
      "source": [
        "Design, compile, train, and evaluate a simple model with normalized data"
      ],
      "metadata": {
        "id": "Egr9eOcMeSsk"
      }
    },
    {
      "cell_type": "code",
      "source": [
        "model_BTC_norm = tf.keras.models.Sequential([\n",
        "    layers.Dense(128,activation=\"relu\"),\n",
        "    layers.Dense(HORIZON,activation=\"linear\") # or just leave activation unspecified\n",
        "],name=\"model_BTC_norm\")\n",
        "\n",
        "# compile\n",
        "model_BTC_norm.compile(loss=\"mae\",\n",
        "                optimizer=tf.keras.optimizers.Adam(),\n",
        "                metrics = [\"mae\",\"mse\"])\n",
        "\n",
        "# fit\n",
        "history_BTC_norm = model_BTC_norm.fit(x=train_windows_norm,\n",
        "            y=train_labels_norm,\n",
        "            epochs=100,\n",
        "            verbose=0,\n",
        "            batch_size=128,\n",
        "            validation_data=(test_windows_norm,test_labels_norm),\n",
        "            callbacks=[create_model_checkpoint(\"model_BTC_norm\")])\n",
        "\n",
        "model_BTC_norm.evaluate(test_windows_norm,test_labels_norm)"
      ],
      "metadata": {
        "colab": {
          "base_uri": "https://localhost:8080/"
        },
        "id": "FCNA27roeszt",
        "outputId": "a1d6fc45-efba-4a55-d92d-51303bd74e64"
      },
      "execution_count": 15,
      "outputs": [
        {
          "output_type": "stream",
          "name": "stderr",
          "text": [
            "WARNING:absl:Found untraced functions such as _update_step_xla while saving (showing 1 of 1). These functions will not be directly callable after loading.\n",
            "WARNING:absl:Found untraced functions such as _update_step_xla while saving (showing 1 of 1). These functions will not be directly callable after loading.\n",
            "WARNING:absl:Found untraced functions such as _update_step_xla while saving (showing 1 of 1). These functions will not be directly callable after loading.\n",
            "WARNING:absl:Found untraced functions such as _update_step_xla while saving (showing 1 of 1). These functions will not be directly callable after loading.\n",
            "WARNING:absl:Found untraced functions such as _update_step_xla while saving (showing 1 of 1). These functions will not be directly callable after loading.\n",
            "WARNING:absl:Found untraced functions such as _update_step_xla while saving (showing 1 of 1). These functions will not be directly callable after loading.\n",
            "WARNING:absl:Found untraced functions such as _update_step_xla while saving (showing 1 of 1). These functions will not be directly callable after loading.\n",
            "WARNING:absl:Found untraced functions such as _update_step_xla while saving (showing 1 of 1). These functions will not be directly callable after loading.\n",
            "WARNING:absl:Found untraced functions such as _update_step_xla while saving (showing 1 of 1). These functions will not be directly callable after loading.\n",
            "WARNING:absl:Found untraced functions such as _update_step_xla while saving (showing 1 of 1). These functions will not be directly callable after loading.\n",
            "WARNING:absl:Found untraced functions such as _update_step_xla while saving (showing 1 of 1). These functions will not be directly callable after loading.\n",
            "WARNING:absl:Found untraced functions such as _update_step_xla while saving (showing 1 of 1). These functions will not be directly callable after loading.\n",
            "WARNING:absl:Found untraced functions such as _update_step_xla while saving (showing 1 of 1). These functions will not be directly callable after loading.\n",
            "WARNING:absl:Found untraced functions such as _update_step_xla while saving (showing 1 of 1). These functions will not be directly callable after loading.\n",
            "WARNING:absl:Found untraced functions such as _update_step_xla while saving (showing 1 of 1). These functions will not be directly callable after loading.\n",
            "WARNING:absl:Found untraced functions such as _update_step_xla while saving (showing 1 of 1). These functions will not be directly callable after loading.\n",
            "WARNING:absl:Found untraced functions such as _update_step_xla while saving (showing 1 of 1). These functions will not be directly callable after loading.\n",
            "WARNING:absl:Found untraced functions such as _update_step_xla while saving (showing 1 of 1). These functions will not be directly callable after loading.\n",
            "WARNING:absl:Found untraced functions such as _update_step_xla while saving (showing 1 of 1). These functions will not be directly callable after loading.\n",
            "WARNING:absl:Found untraced functions such as _update_step_xla while saving (showing 1 of 1). These functions will not be directly callable after loading.\n",
            "WARNING:absl:Found untraced functions such as _update_step_xla while saving (showing 1 of 1). These functions will not be directly callable after loading.\n",
            "WARNING:absl:Found untraced functions such as _update_step_xla while saving (showing 1 of 1). These functions will not be directly callable after loading.\n",
            "WARNING:absl:Found untraced functions such as _update_step_xla while saving (showing 1 of 1). These functions will not be directly callable after loading.\n",
            "WARNING:absl:Found untraced functions such as _update_step_xla while saving (showing 1 of 1). These functions will not be directly callable after loading.\n"
          ]
        },
        {
          "output_type": "stream",
          "name": "stdout",
          "text": [
            "18/18 [==============================] - 0s 3ms/step - loss: 0.0098 - mae: 0.0098 - mse: 3.3405e-04\n"
          ]
        },
        {
          "output_type": "execute_result",
          "data": {
            "text/plain": [
              "[0.00978706032037735, 0.00978706032037735, 0.0003340468683745712]"
            ]
          },
          "metadata": {},
          "execution_count": 15
        }
      ]
    },
    {
      "cell_type": "markdown",
      "source": [
        "## Set up a search for the best window size"
      ],
      "metadata": {
        "id": "wFizkNPOX-W7"
      }
    },
    {
      "cell_type": "code",
      "source": [
        "# 3. set up a series of experiments to find whether or not there's a \n",
        "# better window size. \n",
        "tf.random.set_seed(42)\n",
        "\n",
        "# train 10 different models with HORIZON=1 \n",
        "# but with window size ranging from 2-12.\n",
        "HORIZON = 1\n",
        "window_size_models = []\n",
        "window_size_results = {}\n",
        "\n",
        "for ws in range(2,13):\n",
        "  WINDOW_SIZE = ws\n",
        "\n",
        "  model_window_size = tf.keras.models.Sequential([\n",
        "      layers.Dense(128,activation=\"relu\"),\n",
        "      layers.Dense(HORIZON)\n",
        "  ],name=\"model_window_size\")\n",
        "\n",
        "  # compile\n",
        "  model_window_size.compile(loss=\"mae\",\n",
        "                  optimizer=tf.keras.optimizers.Adam(),\n",
        "                  metrics = [\"mae\",\"mse\"])\n",
        "\n",
        "  # need to redefine data in accordance with window size, then re-fit\n",
        "  full_windows_search,full_labels_search = make_windows(prices,window_size=WINDOW_SIZE,horizon=HORIZON)\n",
        "  train_windows_search,test_windows_search,train_labels_search,test_labels_search = make_train_test_splits(full_windows_search,full_labels_search)\n",
        "\n",
        "  # fit\n",
        "  model_window_size.fit(x=train_windows_search,\n",
        "                        y=train_labels_search,\n",
        "                        epochs=100,\n",
        "                        verbose=0,\n",
        "                        batch_size=128,\n",
        "                        validation_data=(test_windows_search,test_labels_search),\n",
        "                        callbacks=[create_model_checkpoint(f\"model_window_size_{ws}\")])\n",
        "  \n",
        "  model_window_size = tf.keras.models.load_model(f\"model_experiments/model_window_size_{ws}/\")\n",
        "  model_window_size_results_preds = make_preds(model_window_size,test_windows_search)\n",
        "  model_window_size_results = evaluate_preds(y_true=tf.squeeze(test_labels_search),\n",
        "                                             y_pred=model_window_size_results_preds)\n",
        "  \n",
        "  window_size_models.append(model_window_size)\n",
        "  window_size_results[f\"model_window_size_{ws}\"] = model_window_size_results\n",
        "\n",
        "window_size_df = pd.DataFrame(window_size_results)"
      ],
      "metadata": {
        "colab": {
          "base_uri": "https://localhost:8080/"
        },
        "id": "4LqLIL1sZTl1",
        "outputId": "80ff70e3-7d3c-4315-df3f-093648daf091"
      },
      "execution_count": 16,
      "outputs": [
        {
          "output_type": "stream",
          "name": "stderr",
          "text": [
            "WARNING:absl:Found untraced functions such as _update_step_xla while saving (showing 1 of 1). These functions will not be directly callable after loading.\n",
            "WARNING:absl:Found untraced functions such as _update_step_xla while saving (showing 1 of 1). These functions will not be directly callable after loading.\n",
            "WARNING:absl:Found untraced functions such as _update_step_xla while saving (showing 1 of 1). These functions will not be directly callable after loading.\n",
            "WARNING:absl:Found untraced functions such as _update_step_xla while saving (showing 1 of 1). These functions will not be directly callable after loading.\n",
            "WARNING:absl:Found untraced functions such as _update_step_xla while saving (showing 1 of 1). These functions will not be directly callable after loading.\n",
            "WARNING:absl:Found untraced functions such as _update_step_xla while saving (showing 1 of 1). These functions will not be directly callable after loading.\n",
            "WARNING:absl:Found untraced functions such as _update_step_xla while saving (showing 1 of 1). These functions will not be directly callable after loading.\n",
            "WARNING:absl:Found untraced functions such as _update_step_xla while saving (showing 1 of 1). These functions will not be directly callable after loading.\n",
            "WARNING:absl:Found untraced functions such as _update_step_xla while saving (showing 1 of 1). These functions will not be directly callable after loading.\n",
            "WARNING:absl:Found untraced functions such as _update_step_xla while saving (showing 1 of 1). These functions will not be directly callable after loading.\n",
            "WARNING:absl:Found untraced functions such as _update_step_xla while saving (showing 1 of 1). These functions will not be directly callable after loading.\n",
            "WARNING:absl:Found untraced functions such as _update_step_xla while saving (showing 1 of 1). These functions will not be directly callable after loading.\n",
            "WARNING:absl:Found untraced functions such as _update_step_xla while saving (showing 1 of 1). These functions will not be directly callable after loading.\n",
            "WARNING:absl:Found untraced functions such as _update_step_xla while saving (showing 1 of 1). These functions will not be directly callable after loading.\n",
            "WARNING:absl:Found untraced functions such as _update_step_xla while saving (showing 1 of 1). These functions will not be directly callable after loading.\n",
            "WARNING:absl:Found untraced functions such as _update_step_xla while saving (showing 1 of 1). These functions will not be directly callable after loading.\n",
            "WARNING:absl:Found untraced functions such as _update_step_xla while saving (showing 1 of 1). These functions will not be directly callable after loading.\n",
            "WARNING:absl:Found untraced functions such as _update_step_xla while saving (showing 1 of 1). These functions will not be directly callable after loading.\n",
            "WARNING:absl:Found untraced functions such as _update_step_xla while saving (showing 1 of 1). These functions will not be directly callable after loading.\n",
            "WARNING:absl:Found untraced functions such as _update_step_xla while saving (showing 1 of 1). These functions will not be directly callable after loading.\n",
            "WARNING:absl:Found untraced functions such as _update_step_xla while saving (showing 1 of 1). These functions will not be directly callable after loading.\n",
            "WARNING:absl:Found untraced functions such as _update_step_xla while saving (showing 1 of 1). These functions will not be directly callable after loading.\n",
            "WARNING:absl:Found untraced functions such as _update_step_xla while saving (showing 1 of 1). These functions will not be directly callable after loading.\n",
            "WARNING:absl:Found untraced functions such as _update_step_xla while saving (showing 1 of 1). These functions will not be directly callable after loading.\n",
            "WARNING:absl:Found untraced functions such as _update_step_xla while saving (showing 1 of 1). These functions will not be directly callable after loading.\n",
            "WARNING:absl:Found untraced functions such as _update_step_xla while saving (showing 1 of 1). These functions will not be directly callable after loading.\n",
            "WARNING:absl:Found untraced functions such as _update_step_xla while saving (showing 1 of 1). These functions will not be directly callable after loading.\n",
            "WARNING:absl:Found untraced functions such as _update_step_xla while saving (showing 1 of 1). These functions will not be directly callable after loading.\n",
            "WARNING:absl:Found untraced functions such as _update_step_xla while saving (showing 1 of 1). These functions will not be directly callable after loading.\n",
            "WARNING:absl:Found untraced functions such as _update_step_xla while saving (showing 1 of 1). These functions will not be directly callable after loading.\n",
            "WARNING:absl:Found untraced functions such as _update_step_xla while saving (showing 1 of 1). These functions will not be directly callable after loading.\n",
            "WARNING:absl:Found untraced functions such as _update_step_xla while saving (showing 1 of 1). These functions will not be directly callable after loading.\n",
            "WARNING:absl:Found untraced functions such as _update_step_xla while saving (showing 1 of 1). These functions will not be directly callable after loading.\n",
            "WARNING:absl:Found untraced functions such as _update_step_xla while saving (showing 1 of 1). These functions will not be directly callable after loading.\n",
            "WARNING:absl:Found untraced functions such as _update_step_xla while saving (showing 1 of 1). These functions will not be directly callable after loading.\n",
            "WARNING:absl:Found untraced functions such as _update_step_xla while saving (showing 1 of 1). These functions will not be directly callable after loading.\n",
            "WARNING:absl:Found untraced functions such as _update_step_xla while saving (showing 1 of 1). These functions will not be directly callable after loading.\n",
            "WARNING:absl:Found untraced functions such as _update_step_xla while saving (showing 1 of 1). These functions will not be directly callable after loading.\n",
            "WARNING:absl:Found untraced functions such as _update_step_xla while saving (showing 1 of 1). These functions will not be directly callable after loading.\n",
            "WARNING:absl:Found untraced functions such as _update_step_xla while saving (showing 1 of 1). These functions will not be directly callable after loading.\n"
          ]
        },
        {
          "output_type": "stream",
          "name": "stdout",
          "text": [
            "18/18 [==============================] - 0s 2ms/step\n"
          ]
        },
        {
          "output_type": "stream",
          "name": "stderr",
          "text": [
            "WARNING:absl:Found untraced functions such as _update_step_xla while saving (showing 1 of 1). These functions will not be directly callable after loading.\n",
            "WARNING:absl:Found untraced functions such as _update_step_xla while saving (showing 1 of 1). These functions will not be directly callable after loading.\n",
            "WARNING:absl:Found untraced functions such as _update_step_xla while saving (showing 1 of 1). These functions will not be directly callable after loading.\n",
            "WARNING:absl:Found untraced functions such as _update_step_xla while saving (showing 1 of 1). These functions will not be directly callable after loading.\n",
            "WARNING:absl:Found untraced functions such as _update_step_xla while saving (showing 1 of 1). These functions will not be directly callable after loading.\n",
            "WARNING:absl:Found untraced functions such as _update_step_xla while saving (showing 1 of 1). These functions will not be directly callable after loading.\n",
            "WARNING:absl:Found untraced functions such as _update_step_xla while saving (showing 1 of 1). These functions will not be directly callable after loading.\n",
            "WARNING:absl:Found untraced functions such as _update_step_xla while saving (showing 1 of 1). These functions will not be directly callable after loading.\n",
            "WARNING:absl:Found untraced functions such as _update_step_xla while saving (showing 1 of 1). These functions will not be directly callable after loading.\n",
            "WARNING:absl:Found untraced functions such as _update_step_xla while saving (showing 1 of 1). These functions will not be directly callable after loading.\n",
            "WARNING:absl:Found untraced functions such as _update_step_xla while saving (showing 1 of 1). These functions will not be directly callable after loading.\n",
            "WARNING:absl:Found untraced functions such as _update_step_xla while saving (showing 1 of 1). These functions will not be directly callable after loading.\n",
            "WARNING:absl:Found untraced functions such as _update_step_xla while saving (showing 1 of 1). These functions will not be directly callable after loading.\n",
            "WARNING:absl:Found untraced functions such as _update_step_xla while saving (showing 1 of 1). These functions will not be directly callable after loading.\n",
            "WARNING:absl:Found untraced functions such as _update_step_xla while saving (showing 1 of 1). These functions will not be directly callable after loading.\n",
            "WARNING:absl:Found untraced functions such as _update_step_xla while saving (showing 1 of 1). These functions will not be directly callable after loading.\n",
            "WARNING:absl:Found untraced functions such as _update_step_xla while saving (showing 1 of 1). These functions will not be directly callable after loading.\n",
            "WARNING:absl:Found untraced functions such as _update_step_xla while saving (showing 1 of 1). These functions will not be directly callable after loading.\n",
            "WARNING:absl:Found untraced functions such as _update_step_xla while saving (showing 1 of 1). These functions will not be directly callable after loading.\n",
            "WARNING:absl:Found untraced functions such as _update_step_xla while saving (showing 1 of 1). These functions will not be directly callable after loading.\n",
            "WARNING:absl:Found untraced functions such as _update_step_xla while saving (showing 1 of 1). These functions will not be directly callable after loading.\n",
            "WARNING:absl:Found untraced functions such as _update_step_xla while saving (showing 1 of 1). These functions will not be directly callable after loading.\n",
            "WARNING:absl:Found untraced functions such as _update_step_xla while saving (showing 1 of 1). These functions will not be directly callable after loading.\n",
            "WARNING:absl:Found untraced functions such as _update_step_xla while saving (showing 1 of 1). These functions will not be directly callable after loading.\n",
            "WARNING:absl:Found untraced functions such as _update_step_xla while saving (showing 1 of 1). These functions will not be directly callable after loading.\n",
            "WARNING:absl:Found untraced functions such as _update_step_xla while saving (showing 1 of 1). These functions will not be directly callable after loading.\n",
            "WARNING:absl:Found untraced functions such as _update_step_xla while saving (showing 1 of 1). These functions will not be directly callable after loading.\n",
            "WARNING:absl:Found untraced functions such as _update_step_xla while saving (showing 1 of 1). These functions will not be directly callable after loading.\n",
            "WARNING:absl:Found untraced functions such as _update_step_xla while saving (showing 1 of 1). These functions will not be directly callable after loading.\n",
            "WARNING:absl:Found untraced functions such as _update_step_xla while saving (showing 1 of 1). These functions will not be directly callable after loading.\n",
            "WARNING:absl:Found untraced functions such as _update_step_xla while saving (showing 1 of 1). These functions will not be directly callable after loading.\n",
            "WARNING:absl:Found untraced functions such as _update_step_xla while saving (showing 1 of 1). These functions will not be directly callable after loading.\n",
            "WARNING:absl:Found untraced functions such as _update_step_xla while saving (showing 1 of 1). These functions will not be directly callable after loading.\n",
            "WARNING:absl:Found untraced functions such as _update_step_xla while saving (showing 1 of 1). These functions will not be directly callable after loading.\n",
            "WARNING:absl:Found untraced functions such as _update_step_xla while saving (showing 1 of 1). These functions will not be directly callable after loading.\n",
            "WARNING:absl:Found untraced functions such as _update_step_xla while saving (showing 1 of 1). These functions will not be directly callable after loading.\n",
            "WARNING:absl:Found untraced functions such as _update_step_xla while saving (showing 1 of 1). These functions will not be directly callable after loading.\n",
            "WARNING:absl:Found untraced functions such as _update_step_xla while saving (showing 1 of 1). These functions will not be directly callable after loading.\n",
            "WARNING:absl:Found untraced functions such as _update_step_xla while saving (showing 1 of 1). These functions will not be directly callable after loading.\n",
            "WARNING:absl:Found untraced functions such as _update_step_xla while saving (showing 1 of 1). These functions will not be directly callable after loading.\n",
            "WARNING:absl:Found untraced functions such as _update_step_xla while saving (showing 1 of 1). These functions will not be directly callable after loading.\n",
            "WARNING:absl:Found untraced functions such as _update_step_xla while saving (showing 1 of 1). These functions will not be directly callable after loading.\n",
            "WARNING:absl:Found untraced functions such as _update_step_xla while saving (showing 1 of 1). These functions will not be directly callable after loading.\n",
            "WARNING:absl:Found untraced functions such as _update_step_xla while saving (showing 1 of 1). These functions will not be directly callable after loading.\n"
          ]
        },
        {
          "output_type": "stream",
          "name": "stdout",
          "text": [
            "18/18 [==============================] - 0s 2ms/step\n"
          ]
        },
        {
          "output_type": "stream",
          "name": "stderr",
          "text": [
            "WARNING:absl:Found untraced functions such as _update_step_xla while saving (showing 1 of 1). These functions will not be directly callable after loading.\n",
            "WARNING:absl:Found untraced functions such as _update_step_xla while saving (showing 1 of 1). These functions will not be directly callable after loading.\n",
            "WARNING:absl:Found untraced functions such as _update_step_xla while saving (showing 1 of 1). These functions will not be directly callable after loading.\n",
            "WARNING:absl:Found untraced functions such as _update_step_xla while saving (showing 1 of 1). These functions will not be directly callable after loading.\n",
            "WARNING:absl:Found untraced functions such as _update_step_xla while saving (showing 1 of 1). These functions will not be directly callable after loading.\n",
            "WARNING:absl:Found untraced functions such as _update_step_xla while saving (showing 1 of 1). These functions will not be directly callable after loading.\n",
            "WARNING:absl:Found untraced functions such as _update_step_xla while saving (showing 1 of 1). These functions will not be directly callable after loading.\n",
            "WARNING:absl:Found untraced functions such as _update_step_xla while saving (showing 1 of 1). These functions will not be directly callable after loading.\n",
            "WARNING:absl:Found untraced functions such as _update_step_xla while saving (showing 1 of 1). These functions will not be directly callable after loading.\n",
            "WARNING:absl:Found untraced functions such as _update_step_xla while saving (showing 1 of 1). These functions will not be directly callable after loading.\n",
            "WARNING:absl:Found untraced functions such as _update_step_xla while saving (showing 1 of 1). These functions will not be directly callable after loading.\n",
            "WARNING:absl:Found untraced functions such as _update_step_xla while saving (showing 1 of 1). These functions will not be directly callable after loading.\n",
            "WARNING:absl:Found untraced functions such as _update_step_xla while saving (showing 1 of 1). These functions will not be directly callable after loading.\n",
            "WARNING:absl:Found untraced functions such as _update_step_xla while saving (showing 1 of 1). These functions will not be directly callable after loading.\n",
            "WARNING:absl:Found untraced functions such as _update_step_xla while saving (showing 1 of 1). These functions will not be directly callable after loading.\n",
            "WARNING:absl:Found untraced functions such as _update_step_xla while saving (showing 1 of 1). These functions will not be directly callable after loading.\n",
            "WARNING:absl:Found untraced functions such as _update_step_xla while saving (showing 1 of 1). These functions will not be directly callable after loading.\n",
            "WARNING:absl:Found untraced functions such as _update_step_xla while saving (showing 1 of 1). These functions will not be directly callable after loading.\n",
            "WARNING:absl:Found untraced functions such as _update_step_xla while saving (showing 1 of 1). These functions will not be directly callable after loading.\n",
            "WARNING:absl:Found untraced functions such as _update_step_xla while saving (showing 1 of 1). These functions will not be directly callable after loading.\n",
            "WARNING:absl:Found untraced functions such as _update_step_xla while saving (showing 1 of 1). These functions will not be directly callable after loading.\n",
            "WARNING:absl:Found untraced functions such as _update_step_xla while saving (showing 1 of 1). These functions will not be directly callable after loading.\n",
            "WARNING:absl:Found untraced functions such as _update_step_xla while saving (showing 1 of 1). These functions will not be directly callable after loading.\n",
            "WARNING:absl:Found untraced functions such as _update_step_xla while saving (showing 1 of 1). These functions will not be directly callable after loading.\n",
            "WARNING:absl:Found untraced functions such as _update_step_xla while saving (showing 1 of 1). These functions will not be directly callable after loading.\n",
            "WARNING:absl:Found untraced functions such as _update_step_xla while saving (showing 1 of 1). These functions will not be directly callable after loading.\n",
            "WARNING:absl:Found untraced functions such as _update_step_xla while saving (showing 1 of 1). These functions will not be directly callable after loading.\n",
            "WARNING:absl:Found untraced functions such as _update_step_xla while saving (showing 1 of 1). These functions will not be directly callable after loading.\n",
            "WARNING:absl:Found untraced functions such as _update_step_xla while saving (showing 1 of 1). These functions will not be directly callable after loading.\n",
            "WARNING:absl:Found untraced functions such as _update_step_xla while saving (showing 1 of 1). These functions will not be directly callable after loading.\n",
            "WARNING:absl:Found untraced functions such as _update_step_xla while saving (showing 1 of 1). These functions will not be directly callable after loading.\n",
            "WARNING:absl:Found untraced functions such as _update_step_xla while saving (showing 1 of 1). These functions will not be directly callable after loading.\n",
            "WARNING:absl:Found untraced functions such as _update_step_xla while saving (showing 1 of 1). These functions will not be directly callable after loading.\n",
            "WARNING:absl:Found untraced functions such as _update_step_xla while saving (showing 1 of 1). These functions will not be directly callable after loading.\n",
            "WARNING:absl:Found untraced functions such as _update_step_xla while saving (showing 1 of 1). These functions will not be directly callable after loading.\n",
            "WARNING:absl:Found untraced functions such as _update_step_xla while saving (showing 1 of 1). These functions will not be directly callable after loading.\n",
            "WARNING:absl:Found untraced functions such as _update_step_xla while saving (showing 1 of 1). These functions will not be directly callable after loading.\n",
            "WARNING:absl:Found untraced functions such as _update_step_xla while saving (showing 1 of 1). These functions will not be directly callable after loading.\n",
            "WARNING:absl:Found untraced functions such as _update_step_xla while saving (showing 1 of 1). These functions will not be directly callable after loading.\n",
            "WARNING:absl:Found untraced functions such as _update_step_xla while saving (showing 1 of 1). These functions will not be directly callable after loading.\n",
            "WARNING:absl:Found untraced functions such as _update_step_xla while saving (showing 1 of 1). These functions will not be directly callable after loading.\n",
            "WARNING:absl:Found untraced functions such as _update_step_xla while saving (showing 1 of 1). These functions will not be directly callable after loading.\n"
          ]
        },
        {
          "output_type": "stream",
          "name": "stdout",
          "text": [
            "18/18 [==============================] - 0s 2ms/step\n"
          ]
        },
        {
          "output_type": "stream",
          "name": "stderr",
          "text": [
            "WARNING:absl:Found untraced functions such as _update_step_xla while saving (showing 1 of 1). These functions will not be directly callable after loading.\n",
            "WARNING:absl:Found untraced functions such as _update_step_xla while saving (showing 1 of 1). These functions will not be directly callable after loading.\n",
            "WARNING:absl:Found untraced functions such as _update_step_xla while saving (showing 1 of 1). These functions will not be directly callable after loading.\n",
            "WARNING:absl:Found untraced functions such as _update_step_xla while saving (showing 1 of 1). These functions will not be directly callable after loading.\n",
            "WARNING:absl:Found untraced functions such as _update_step_xla while saving (showing 1 of 1). These functions will not be directly callable after loading.\n",
            "WARNING:absl:Found untraced functions such as _update_step_xla while saving (showing 1 of 1). These functions will not be directly callable after loading.\n",
            "WARNING:absl:Found untraced functions such as _update_step_xla while saving (showing 1 of 1). These functions will not be directly callable after loading.\n",
            "WARNING:absl:Found untraced functions such as _update_step_xla while saving (showing 1 of 1). These functions will not be directly callable after loading.\n",
            "WARNING:absl:Found untraced functions such as _update_step_xla while saving (showing 1 of 1). These functions will not be directly callable after loading.\n",
            "WARNING:absl:Found untraced functions such as _update_step_xla while saving (showing 1 of 1). These functions will not be directly callable after loading.\n",
            "WARNING:absl:Found untraced functions such as _update_step_xla while saving (showing 1 of 1). These functions will not be directly callable after loading.\n",
            "WARNING:absl:Found untraced functions such as _update_step_xla while saving (showing 1 of 1). These functions will not be directly callable after loading.\n",
            "WARNING:absl:Found untraced functions such as _update_step_xla while saving (showing 1 of 1). These functions will not be directly callable after loading.\n",
            "WARNING:absl:Found untraced functions such as _update_step_xla while saving (showing 1 of 1). These functions will not be directly callable after loading.\n",
            "WARNING:absl:Found untraced functions such as _update_step_xla while saving (showing 1 of 1). These functions will not be directly callable after loading.\n",
            "WARNING:absl:Found untraced functions such as _update_step_xla while saving (showing 1 of 1). These functions will not be directly callable after loading.\n",
            "WARNING:absl:Found untraced functions such as _update_step_xla while saving (showing 1 of 1). These functions will not be directly callable after loading.\n",
            "WARNING:absl:Found untraced functions such as _update_step_xla while saving (showing 1 of 1). These functions will not be directly callable after loading.\n",
            "WARNING:absl:Found untraced functions such as _update_step_xla while saving (showing 1 of 1). These functions will not be directly callable after loading.\n",
            "WARNING:absl:Found untraced functions such as _update_step_xla while saving (showing 1 of 1). These functions will not be directly callable after loading.\n",
            "WARNING:absl:Found untraced functions such as _update_step_xla while saving (showing 1 of 1). These functions will not be directly callable after loading.\n",
            "WARNING:absl:Found untraced functions such as _update_step_xla while saving (showing 1 of 1). These functions will not be directly callable after loading.\n",
            "WARNING:absl:Found untraced functions such as _update_step_xla while saving (showing 1 of 1). These functions will not be directly callable after loading.\n",
            "WARNING:absl:Found untraced functions such as _update_step_xla while saving (showing 1 of 1). These functions will not be directly callable after loading.\n",
            "WARNING:absl:Found untraced functions such as _update_step_xla while saving (showing 1 of 1). These functions will not be directly callable after loading.\n",
            "WARNING:absl:Found untraced functions such as _update_step_xla while saving (showing 1 of 1). These functions will not be directly callable after loading.\n",
            "WARNING:absl:Found untraced functions such as _update_step_xla while saving (showing 1 of 1). These functions will not be directly callable after loading.\n",
            "WARNING:absl:Found untraced functions such as _update_step_xla while saving (showing 1 of 1). These functions will not be directly callable after loading.\n",
            "WARNING:absl:Found untraced functions such as _update_step_xla while saving (showing 1 of 1). These functions will not be directly callable after loading.\n",
            "WARNING:absl:Found untraced functions such as _update_step_xla while saving (showing 1 of 1). These functions will not be directly callable after loading.\n",
            "WARNING:absl:Found untraced functions such as _update_step_xla while saving (showing 1 of 1). These functions will not be directly callable after loading.\n",
            "WARNING:absl:Found untraced functions such as _update_step_xla while saving (showing 1 of 1). These functions will not be directly callable after loading.\n",
            "WARNING:absl:Found untraced functions such as _update_step_xla while saving (showing 1 of 1). These functions will not be directly callable after loading.\n",
            "WARNING:absl:Found untraced functions such as _update_step_xla while saving (showing 1 of 1). These functions will not be directly callable after loading.\n",
            "WARNING:absl:Found untraced functions such as _update_step_xla while saving (showing 1 of 1). These functions will not be directly callable after loading.\n",
            "WARNING:absl:Found untraced functions such as _update_step_xla while saving (showing 1 of 1). These functions will not be directly callable after loading.\n",
            "WARNING:absl:Found untraced functions such as _update_step_xla while saving (showing 1 of 1). These functions will not be directly callable after loading.\n"
          ]
        },
        {
          "output_type": "stream",
          "name": "stdout",
          "text": [
            "18/18 [==============================] - 0s 3ms/step\n"
          ]
        },
        {
          "output_type": "stream",
          "name": "stderr",
          "text": [
            "WARNING:absl:Found untraced functions such as _update_step_xla while saving (showing 1 of 1). These functions will not be directly callable after loading.\n",
            "WARNING:absl:Found untraced functions such as _update_step_xla while saving (showing 1 of 1). These functions will not be directly callable after loading.\n",
            "WARNING:absl:Found untraced functions such as _update_step_xla while saving (showing 1 of 1). These functions will not be directly callable after loading.\n",
            "WARNING:absl:Found untraced functions such as _update_step_xla while saving (showing 1 of 1). These functions will not be directly callable after loading.\n",
            "WARNING:absl:Found untraced functions such as _update_step_xla while saving (showing 1 of 1). These functions will not be directly callable after loading.\n",
            "WARNING:absl:Found untraced functions such as _update_step_xla while saving (showing 1 of 1). These functions will not be directly callable after loading.\n",
            "WARNING:absl:Found untraced functions such as _update_step_xla while saving (showing 1 of 1). These functions will not be directly callable after loading.\n",
            "WARNING:absl:Found untraced functions such as _update_step_xla while saving (showing 1 of 1). These functions will not be directly callable after loading.\n",
            "WARNING:absl:Found untraced functions such as _update_step_xla while saving (showing 1 of 1). These functions will not be directly callable after loading.\n",
            "WARNING:absl:Found untraced functions such as _update_step_xla while saving (showing 1 of 1). These functions will not be directly callable after loading.\n",
            "WARNING:absl:Found untraced functions such as _update_step_xla while saving (showing 1 of 1). These functions will not be directly callable after loading.\n",
            "WARNING:absl:Found untraced functions such as _update_step_xla while saving (showing 1 of 1). These functions will not be directly callable after loading.\n",
            "WARNING:absl:Found untraced functions such as _update_step_xla while saving (showing 1 of 1). These functions will not be directly callable after loading.\n",
            "WARNING:absl:Found untraced functions such as _update_step_xla while saving (showing 1 of 1). These functions will not be directly callable after loading.\n",
            "WARNING:absl:Found untraced functions such as _update_step_xla while saving (showing 1 of 1). These functions will not be directly callable after loading.\n",
            "WARNING:absl:Found untraced functions such as _update_step_xla while saving (showing 1 of 1). These functions will not be directly callable after loading.\n",
            "WARNING:absl:Found untraced functions such as _update_step_xla while saving (showing 1 of 1). These functions will not be directly callable after loading.\n",
            "WARNING:absl:Found untraced functions such as _update_step_xla while saving (showing 1 of 1). These functions will not be directly callable after loading.\n",
            "WARNING:absl:Found untraced functions such as _update_step_xla while saving (showing 1 of 1). These functions will not be directly callable after loading.\n",
            "WARNING:absl:Found untraced functions such as _update_step_xla while saving (showing 1 of 1). These functions will not be directly callable after loading.\n",
            "WARNING:absl:Found untraced functions such as _update_step_xla while saving (showing 1 of 1). These functions will not be directly callable after loading.\n",
            "WARNING:absl:Found untraced functions such as _update_step_xla while saving (showing 1 of 1). These functions will not be directly callable after loading.\n",
            "WARNING:absl:Found untraced functions such as _update_step_xla while saving (showing 1 of 1). These functions will not be directly callable after loading.\n",
            "WARNING:absl:Found untraced functions such as _update_step_xla while saving (showing 1 of 1). These functions will not be directly callable after loading.\n",
            "WARNING:absl:Found untraced functions such as _update_step_xla while saving (showing 1 of 1). These functions will not be directly callable after loading.\n",
            "WARNING:absl:Found untraced functions such as _update_step_xla while saving (showing 1 of 1). These functions will not be directly callable after loading.\n",
            "WARNING:absl:Found untraced functions such as _update_step_xla while saving (showing 1 of 1). These functions will not be directly callable after loading.\n",
            "WARNING:absl:Found untraced functions such as _update_step_xla while saving (showing 1 of 1). These functions will not be directly callable after loading.\n",
            "WARNING:absl:Found untraced functions such as _update_step_xla while saving (showing 1 of 1). These functions will not be directly callable after loading.\n",
            "WARNING:absl:Found untraced functions such as _update_step_xla while saving (showing 1 of 1). These functions will not be directly callable after loading.\n",
            "WARNING:absl:Found untraced functions such as _update_step_xla while saving (showing 1 of 1). These functions will not be directly callable after loading.\n",
            "WARNING:absl:Found untraced functions such as _update_step_xla while saving (showing 1 of 1). These functions will not be directly callable after loading.\n"
          ]
        },
        {
          "output_type": "stream",
          "name": "stdout",
          "text": [
            "18/18 [==============================] - 0s 2ms/step\n"
          ]
        },
        {
          "output_type": "stream",
          "name": "stderr",
          "text": [
            "WARNING:absl:Found untraced functions such as _update_step_xla while saving (showing 1 of 1). These functions will not be directly callable after loading.\n",
            "WARNING:absl:Found untraced functions such as _update_step_xla while saving (showing 1 of 1). These functions will not be directly callable after loading.\n",
            "WARNING:absl:Found untraced functions such as _update_step_xla while saving (showing 1 of 1). These functions will not be directly callable after loading.\n",
            "WARNING:absl:Found untraced functions such as _update_step_xla while saving (showing 1 of 1). These functions will not be directly callable after loading.\n",
            "WARNING:absl:Found untraced functions such as _update_step_xla while saving (showing 1 of 1). These functions will not be directly callable after loading.\n",
            "WARNING:absl:Found untraced functions such as _update_step_xla while saving (showing 1 of 1). These functions will not be directly callable after loading.\n",
            "WARNING:absl:Found untraced functions such as _update_step_xla while saving (showing 1 of 1). These functions will not be directly callable after loading.\n",
            "WARNING:absl:Found untraced functions such as _update_step_xla while saving (showing 1 of 1). These functions will not be directly callable after loading.\n",
            "WARNING:absl:Found untraced functions such as _update_step_xla while saving (showing 1 of 1). These functions will not be directly callable after loading.\n",
            "WARNING:absl:Found untraced functions such as _update_step_xla while saving (showing 1 of 1). These functions will not be directly callable after loading.\n",
            "WARNING:absl:Found untraced functions such as _update_step_xla while saving (showing 1 of 1). These functions will not be directly callable after loading.\n",
            "WARNING:absl:Found untraced functions such as _update_step_xla while saving (showing 1 of 1). These functions will not be directly callable after loading.\n",
            "WARNING:absl:Found untraced functions such as _update_step_xla while saving (showing 1 of 1). These functions will not be directly callable after loading.\n",
            "WARNING:absl:Found untraced functions such as _update_step_xla while saving (showing 1 of 1). These functions will not be directly callable after loading.\n",
            "WARNING:absl:Found untraced functions such as _update_step_xla while saving (showing 1 of 1). These functions will not be directly callable after loading.\n",
            "WARNING:absl:Found untraced functions such as _update_step_xla while saving (showing 1 of 1). These functions will not be directly callable after loading.\n",
            "WARNING:absl:Found untraced functions such as _update_step_xla while saving (showing 1 of 1). These functions will not be directly callable after loading.\n",
            "WARNING:absl:Found untraced functions such as _update_step_xla while saving (showing 1 of 1). These functions will not be directly callable after loading.\n",
            "WARNING:absl:Found untraced functions such as _update_step_xla while saving (showing 1 of 1). These functions will not be directly callable after loading.\n",
            "WARNING:absl:Found untraced functions such as _update_step_xla while saving (showing 1 of 1). These functions will not be directly callable after loading.\n",
            "WARNING:absl:Found untraced functions such as _update_step_xla while saving (showing 1 of 1). These functions will not be directly callable after loading.\n",
            "WARNING:absl:Found untraced functions such as _update_step_xla while saving (showing 1 of 1). These functions will not be directly callable after loading.\n",
            "WARNING:absl:Found untraced functions such as _update_step_xla while saving (showing 1 of 1). These functions will not be directly callable after loading.\n",
            "WARNING:absl:Found untraced functions such as _update_step_xla while saving (showing 1 of 1). These functions will not be directly callable after loading.\n",
            "WARNING:absl:Found untraced functions such as _update_step_xla while saving (showing 1 of 1). These functions will not be directly callable after loading.\n",
            "WARNING:absl:Found untraced functions such as _update_step_xla while saving (showing 1 of 1). These functions will not be directly callable after loading.\n",
            "WARNING:absl:Found untraced functions such as _update_step_xla while saving (showing 1 of 1). These functions will not be directly callable after loading.\n",
            "WARNING:absl:Found untraced functions such as _update_step_xla while saving (showing 1 of 1). These functions will not be directly callable after loading.\n",
            "WARNING:absl:Found untraced functions such as _update_step_xla while saving (showing 1 of 1). These functions will not be directly callable after loading.\n",
            "WARNING:absl:Found untraced functions such as _update_step_xla while saving (showing 1 of 1). These functions will not be directly callable after loading.\n",
            "WARNING:absl:Found untraced functions such as _update_step_xla while saving (showing 1 of 1). These functions will not be directly callable after loading.\n",
            "WARNING:absl:Found untraced functions such as _update_step_xla while saving (showing 1 of 1). These functions will not be directly callable after loading.\n",
            "WARNING:absl:Found untraced functions such as _update_step_xla while saving (showing 1 of 1). These functions will not be directly callable after loading.\n",
            "WARNING:absl:Found untraced functions such as _update_step_xla while saving (showing 1 of 1). These functions will not be directly callable after loading.\n",
            "WARNING:absl:Found untraced functions such as _update_step_xla while saving (showing 1 of 1). These functions will not be directly callable after loading.\n",
            "WARNING:absl:Found untraced functions such as _update_step_xla while saving (showing 1 of 1). These functions will not be directly callable after loading.\n",
            "WARNING:absl:Found untraced functions such as _update_step_xla while saving (showing 1 of 1). These functions will not be directly callable after loading.\n"
          ]
        },
        {
          "output_type": "stream",
          "name": "stdout",
          "text": [
            "18/18 [==============================] - 0s 2ms/step\n"
          ]
        },
        {
          "output_type": "stream",
          "name": "stderr",
          "text": [
            "WARNING:absl:Found untraced functions such as _update_step_xla while saving (showing 1 of 1). These functions will not be directly callable after loading.\n",
            "WARNING:absl:Found untraced functions such as _update_step_xla while saving (showing 1 of 1). These functions will not be directly callable after loading.\n",
            "WARNING:absl:Found untraced functions such as _update_step_xla while saving (showing 1 of 1). These functions will not be directly callable after loading.\n",
            "WARNING:absl:Found untraced functions such as _update_step_xla while saving (showing 1 of 1). These functions will not be directly callable after loading.\n",
            "WARNING:absl:Found untraced functions such as _update_step_xla while saving (showing 1 of 1). These functions will not be directly callable after loading.\n",
            "WARNING:absl:Found untraced functions such as _update_step_xla while saving (showing 1 of 1). These functions will not be directly callable after loading.\n",
            "WARNING:absl:Found untraced functions such as _update_step_xla while saving (showing 1 of 1). These functions will not be directly callable after loading.\n",
            "WARNING:absl:Found untraced functions such as _update_step_xla while saving (showing 1 of 1). These functions will not be directly callable after loading.\n",
            "WARNING:absl:Found untraced functions such as _update_step_xla while saving (showing 1 of 1). These functions will not be directly callable after loading.\n",
            "WARNING:absl:Found untraced functions such as _update_step_xla while saving (showing 1 of 1). These functions will not be directly callable after loading.\n",
            "WARNING:absl:Found untraced functions such as _update_step_xla while saving (showing 1 of 1). These functions will not be directly callable after loading.\n",
            "WARNING:absl:Found untraced functions such as _update_step_xla while saving (showing 1 of 1). These functions will not be directly callable after loading.\n",
            "WARNING:absl:Found untraced functions such as _update_step_xla while saving (showing 1 of 1). These functions will not be directly callable after loading.\n",
            "WARNING:absl:Found untraced functions such as _update_step_xla while saving (showing 1 of 1). These functions will not be directly callable after loading.\n",
            "WARNING:absl:Found untraced functions such as _update_step_xla while saving (showing 1 of 1). These functions will not be directly callable after loading.\n",
            "WARNING:absl:Found untraced functions such as _update_step_xla while saving (showing 1 of 1). These functions will not be directly callable after loading.\n",
            "WARNING:absl:Found untraced functions such as _update_step_xla while saving (showing 1 of 1). These functions will not be directly callable after loading.\n",
            "WARNING:absl:Found untraced functions such as _update_step_xla while saving (showing 1 of 1). These functions will not be directly callable after loading.\n",
            "WARNING:absl:Found untraced functions such as _update_step_xla while saving (showing 1 of 1). These functions will not be directly callable after loading.\n",
            "WARNING:absl:Found untraced functions such as _update_step_xla while saving (showing 1 of 1). These functions will not be directly callable after loading.\n",
            "WARNING:absl:Found untraced functions such as _update_step_xla while saving (showing 1 of 1). These functions will not be directly callable after loading.\n",
            "WARNING:absl:Found untraced functions such as _update_step_xla while saving (showing 1 of 1). These functions will not be directly callable after loading.\n",
            "WARNING:absl:Found untraced functions such as _update_step_xla while saving (showing 1 of 1). These functions will not be directly callable after loading.\n",
            "WARNING:absl:Found untraced functions such as _update_step_xla while saving (showing 1 of 1). These functions will not be directly callable after loading.\n",
            "WARNING:absl:Found untraced functions such as _update_step_xla while saving (showing 1 of 1). These functions will not be directly callable after loading.\n",
            "WARNING:absl:Found untraced functions such as _update_step_xla while saving (showing 1 of 1). These functions will not be directly callable after loading.\n",
            "WARNING:absl:Found untraced functions such as _update_step_xla while saving (showing 1 of 1). These functions will not be directly callable after loading.\n",
            "WARNING:absl:Found untraced functions such as _update_step_xla while saving (showing 1 of 1). These functions will not be directly callable after loading.\n",
            "WARNING:absl:Found untraced functions such as _update_step_xla while saving (showing 1 of 1). These functions will not be directly callable after loading.\n",
            "WARNING:absl:Found untraced functions such as _update_step_xla while saving (showing 1 of 1). These functions will not be directly callable after loading.\n",
            "WARNING:absl:Found untraced functions such as _update_step_xla while saving (showing 1 of 1). These functions will not be directly callable after loading.\n",
            "WARNING:absl:Found untraced functions such as _update_step_xla while saving (showing 1 of 1). These functions will not be directly callable after loading.\n",
            "WARNING:absl:Found untraced functions such as _update_step_xla while saving (showing 1 of 1). These functions will not be directly callable after loading.\n",
            "WARNING:absl:Found untraced functions such as _update_step_xla while saving (showing 1 of 1). These functions will not be directly callable after loading.\n"
          ]
        },
        {
          "output_type": "stream",
          "name": "stdout",
          "text": [
            "18/18 [==============================] - 0s 2ms/step\n"
          ]
        },
        {
          "output_type": "stream",
          "name": "stderr",
          "text": [
            "WARNING:absl:Found untraced functions such as _update_step_xla while saving (showing 1 of 1). These functions will not be directly callable after loading.\n",
            "WARNING:absl:Found untraced functions such as _update_step_xla while saving (showing 1 of 1). These functions will not be directly callable after loading.\n",
            "WARNING:absl:Found untraced functions such as _update_step_xla while saving (showing 1 of 1). These functions will not be directly callable after loading.\n",
            "WARNING:absl:Found untraced functions such as _update_step_xla while saving (showing 1 of 1). These functions will not be directly callable after loading.\n",
            "WARNING:absl:Found untraced functions such as _update_step_xla while saving (showing 1 of 1). These functions will not be directly callable after loading.\n",
            "WARNING:absl:Found untraced functions such as _update_step_xla while saving (showing 1 of 1). These functions will not be directly callable after loading.\n",
            "WARNING:absl:Found untraced functions such as _update_step_xla while saving (showing 1 of 1). These functions will not be directly callable after loading.\n",
            "WARNING:absl:Found untraced functions such as _update_step_xla while saving (showing 1 of 1). These functions will not be directly callable after loading.\n",
            "WARNING:absl:Found untraced functions such as _update_step_xla while saving (showing 1 of 1). These functions will not be directly callable after loading.\n",
            "WARNING:absl:Found untraced functions such as _update_step_xla while saving (showing 1 of 1). These functions will not be directly callable after loading.\n",
            "WARNING:absl:Found untraced functions such as _update_step_xla while saving (showing 1 of 1). These functions will not be directly callable after loading.\n",
            "WARNING:absl:Found untraced functions such as _update_step_xla while saving (showing 1 of 1). These functions will not be directly callable after loading.\n",
            "WARNING:absl:Found untraced functions such as _update_step_xla while saving (showing 1 of 1). These functions will not be directly callable after loading.\n",
            "WARNING:absl:Found untraced functions such as _update_step_xla while saving (showing 1 of 1). These functions will not be directly callable after loading.\n",
            "WARNING:absl:Found untraced functions such as _update_step_xla while saving (showing 1 of 1). These functions will not be directly callable after loading.\n",
            "WARNING:absl:Found untraced functions such as _update_step_xla while saving (showing 1 of 1). These functions will not be directly callable after loading.\n",
            "WARNING:absl:Found untraced functions such as _update_step_xla while saving (showing 1 of 1). These functions will not be directly callable after loading.\n",
            "WARNING:absl:Found untraced functions such as _update_step_xla while saving (showing 1 of 1). These functions will not be directly callable after loading.\n",
            "WARNING:absl:Found untraced functions such as _update_step_xla while saving (showing 1 of 1). These functions will not be directly callable after loading.\n",
            "WARNING:absl:Found untraced functions such as _update_step_xla while saving (showing 1 of 1). These functions will not be directly callable after loading.\n",
            "WARNING:absl:Found untraced functions such as _update_step_xla while saving (showing 1 of 1). These functions will not be directly callable after loading.\n",
            "WARNING:absl:Found untraced functions such as _update_step_xla while saving (showing 1 of 1). These functions will not be directly callable after loading.\n",
            "WARNING:absl:Found untraced functions such as _update_step_xla while saving (showing 1 of 1). These functions will not be directly callable after loading.\n",
            "WARNING:absl:Found untraced functions such as _update_step_xla while saving (showing 1 of 1). These functions will not be directly callable after loading.\n",
            "WARNING:absl:Found untraced functions such as _update_step_xla while saving (showing 1 of 1). These functions will not be directly callable after loading.\n",
            "WARNING:absl:Found untraced functions such as _update_step_xla while saving (showing 1 of 1). These functions will not be directly callable after loading.\n",
            "WARNING:absl:Found untraced functions such as _update_step_xla while saving (showing 1 of 1). These functions will not be directly callable after loading.\n",
            "WARNING:absl:Found untraced functions such as _update_step_xla while saving (showing 1 of 1). These functions will not be directly callable after loading.\n",
            "WARNING:absl:Found untraced functions such as _update_step_xla while saving (showing 1 of 1). These functions will not be directly callable after loading.\n",
            "WARNING:absl:Found untraced functions such as _update_step_xla while saving (showing 1 of 1). These functions will not be directly callable after loading.\n",
            "WARNING:absl:Found untraced functions such as _update_step_xla while saving (showing 1 of 1). These functions will not be directly callable after loading.\n",
            "WARNING:absl:Found untraced functions such as _update_step_xla while saving (showing 1 of 1). These functions will not be directly callable after loading.\n",
            "WARNING:absl:Found untraced functions such as _update_step_xla while saving (showing 1 of 1). These functions will not be directly callable after loading.\n",
            "WARNING:absl:Found untraced functions such as _update_step_xla while saving (showing 1 of 1). These functions will not be directly callable after loading.\n",
            "WARNING:absl:Found untraced functions such as _update_step_xla while saving (showing 1 of 1). These functions will not be directly callable after loading.\n",
            "WARNING:absl:Found untraced functions such as _update_step_xla while saving (showing 1 of 1). These functions will not be directly callable after loading.\n",
            "WARNING:absl:Found untraced functions such as _update_step_xla while saving (showing 1 of 1). These functions will not be directly callable after loading.\n",
            "WARNING:absl:Found untraced functions such as _update_step_xla while saving (showing 1 of 1). These functions will not be directly callable after loading.\n",
            "WARNING:absl:Found untraced functions such as _update_step_xla while saving (showing 1 of 1). These functions will not be directly callable after loading.\n",
            "WARNING:absl:Found untraced functions such as _update_step_xla while saving (showing 1 of 1). These functions will not be directly callable after loading.\n"
          ]
        },
        {
          "output_type": "stream",
          "name": "stdout",
          "text": [
            "18/18 [==============================] - 0s 2ms/step\n"
          ]
        },
        {
          "output_type": "stream",
          "name": "stderr",
          "text": [
            "WARNING:absl:Found untraced functions such as _update_step_xla while saving (showing 1 of 1). These functions will not be directly callable after loading.\n",
            "WARNING:absl:Found untraced functions such as _update_step_xla while saving (showing 1 of 1). These functions will not be directly callable after loading.\n",
            "WARNING:absl:Found untraced functions such as _update_step_xla while saving (showing 1 of 1). These functions will not be directly callable after loading.\n",
            "WARNING:absl:Found untraced functions such as _update_step_xla while saving (showing 1 of 1). These functions will not be directly callable after loading.\n",
            "WARNING:absl:Found untraced functions such as _update_step_xla while saving (showing 1 of 1). These functions will not be directly callable after loading.\n",
            "WARNING:absl:Found untraced functions such as _update_step_xla while saving (showing 1 of 1). These functions will not be directly callable after loading.\n",
            "WARNING:absl:Found untraced functions such as _update_step_xla while saving (showing 1 of 1). These functions will not be directly callable after loading.\n",
            "WARNING:absl:Found untraced functions such as _update_step_xla while saving (showing 1 of 1). These functions will not be directly callable after loading.\n",
            "WARNING:absl:Found untraced functions such as _update_step_xla while saving (showing 1 of 1). These functions will not be directly callable after loading.\n",
            "WARNING:absl:Found untraced functions such as _update_step_xla while saving (showing 1 of 1). These functions will not be directly callable after loading.\n",
            "WARNING:absl:Found untraced functions such as _update_step_xla while saving (showing 1 of 1). These functions will not be directly callable after loading.\n",
            "WARNING:absl:Found untraced functions such as _update_step_xla while saving (showing 1 of 1). These functions will not be directly callable after loading.\n",
            "WARNING:absl:Found untraced functions such as _update_step_xla while saving (showing 1 of 1). These functions will not be directly callable after loading.\n",
            "WARNING:absl:Found untraced functions such as _update_step_xla while saving (showing 1 of 1). These functions will not be directly callable after loading.\n",
            "WARNING:absl:Found untraced functions such as _update_step_xla while saving (showing 1 of 1). These functions will not be directly callable after loading.\n",
            "WARNING:absl:Found untraced functions such as _update_step_xla while saving (showing 1 of 1). These functions will not be directly callable after loading.\n",
            "WARNING:absl:Found untraced functions such as _update_step_xla while saving (showing 1 of 1). These functions will not be directly callable after loading.\n",
            "WARNING:absl:Found untraced functions such as _update_step_xla while saving (showing 1 of 1). These functions will not be directly callable after loading.\n",
            "WARNING:absl:Found untraced functions such as _update_step_xla while saving (showing 1 of 1). These functions will not be directly callable after loading.\n",
            "WARNING:absl:Found untraced functions such as _update_step_xla while saving (showing 1 of 1). These functions will not be directly callable after loading.\n",
            "WARNING:absl:Found untraced functions such as _update_step_xla while saving (showing 1 of 1). These functions will not be directly callable after loading.\n",
            "WARNING:absl:Found untraced functions such as _update_step_xla while saving (showing 1 of 1). These functions will not be directly callable after loading.\n",
            "WARNING:absl:Found untraced functions such as _update_step_xla while saving (showing 1 of 1). These functions will not be directly callable after loading.\n",
            "WARNING:absl:Found untraced functions such as _update_step_xla while saving (showing 1 of 1). These functions will not be directly callable after loading.\n",
            "WARNING:absl:Found untraced functions such as _update_step_xla while saving (showing 1 of 1). These functions will not be directly callable after loading.\n",
            "WARNING:absl:Found untraced functions such as _update_step_xla while saving (showing 1 of 1). These functions will not be directly callable after loading.\n",
            "WARNING:absl:Found untraced functions such as _update_step_xla while saving (showing 1 of 1). These functions will not be directly callable after loading.\n",
            "WARNING:absl:Found untraced functions such as _update_step_xla while saving (showing 1 of 1). These functions will not be directly callable after loading.\n",
            "WARNING:absl:Found untraced functions such as _update_step_xla while saving (showing 1 of 1). These functions will not be directly callable after loading.\n",
            "WARNING:absl:Found untraced functions such as _update_step_xla while saving (showing 1 of 1). These functions will not be directly callable after loading.\n",
            "WARNING:absl:Found untraced functions such as _update_step_xla while saving (showing 1 of 1). These functions will not be directly callable after loading.\n"
          ]
        },
        {
          "output_type": "stream",
          "name": "stdout",
          "text": [
            "18/18 [==============================] - 0s 2ms/step\n"
          ]
        },
        {
          "output_type": "stream",
          "name": "stderr",
          "text": [
            "WARNING:absl:Found untraced functions such as _update_step_xla while saving (showing 1 of 1). These functions will not be directly callable after loading.\n",
            "WARNING:absl:Found untraced functions such as _update_step_xla while saving (showing 1 of 1). These functions will not be directly callable after loading.\n",
            "WARNING:absl:Found untraced functions such as _update_step_xla while saving (showing 1 of 1). These functions will not be directly callable after loading.\n",
            "WARNING:absl:Found untraced functions such as _update_step_xla while saving (showing 1 of 1). These functions will not be directly callable after loading.\n",
            "WARNING:absl:Found untraced functions such as _update_step_xla while saving (showing 1 of 1). These functions will not be directly callable after loading.\n",
            "WARNING:absl:Found untraced functions such as _update_step_xla while saving (showing 1 of 1). These functions will not be directly callable after loading.\n",
            "WARNING:absl:Found untraced functions such as _update_step_xla while saving (showing 1 of 1). These functions will not be directly callable after loading.\n",
            "WARNING:absl:Found untraced functions such as _update_step_xla while saving (showing 1 of 1). These functions will not be directly callable after loading.\n",
            "WARNING:absl:Found untraced functions such as _update_step_xla while saving (showing 1 of 1). These functions will not be directly callable after loading.\n",
            "WARNING:absl:Found untraced functions such as _update_step_xla while saving (showing 1 of 1). These functions will not be directly callable after loading.\n",
            "WARNING:absl:Found untraced functions such as _update_step_xla while saving (showing 1 of 1). These functions will not be directly callable after loading.\n",
            "WARNING:absl:Found untraced functions such as _update_step_xla while saving (showing 1 of 1). These functions will not be directly callable after loading.\n",
            "WARNING:absl:Found untraced functions such as _update_step_xla while saving (showing 1 of 1). These functions will not be directly callable after loading.\n",
            "WARNING:absl:Found untraced functions such as _update_step_xla while saving (showing 1 of 1). These functions will not be directly callable after loading.\n",
            "WARNING:absl:Found untraced functions such as _update_step_xla while saving (showing 1 of 1). These functions will not be directly callable after loading.\n",
            "WARNING:absl:Found untraced functions such as _update_step_xla while saving (showing 1 of 1). These functions will not be directly callable after loading.\n",
            "WARNING:absl:Found untraced functions such as _update_step_xla while saving (showing 1 of 1). These functions will not be directly callable after loading.\n",
            "WARNING:absl:Found untraced functions such as _update_step_xla while saving (showing 1 of 1). These functions will not be directly callable after loading.\n",
            "WARNING:absl:Found untraced functions such as _update_step_xla while saving (showing 1 of 1). These functions will not be directly callable after loading.\n",
            "WARNING:absl:Found untraced functions such as _update_step_xla while saving (showing 1 of 1). These functions will not be directly callable after loading.\n",
            "WARNING:absl:Found untraced functions such as _update_step_xla while saving (showing 1 of 1). These functions will not be directly callable after loading.\n",
            "WARNING:absl:Found untraced functions such as _update_step_xla while saving (showing 1 of 1). These functions will not be directly callable after loading.\n",
            "WARNING:absl:Found untraced functions such as _update_step_xla while saving (showing 1 of 1). These functions will not be directly callable after loading.\n",
            "WARNING:absl:Found untraced functions such as _update_step_xla while saving (showing 1 of 1). These functions will not be directly callable after loading.\n",
            "WARNING:absl:Found untraced functions such as _update_step_xla while saving (showing 1 of 1). These functions will not be directly callable after loading.\n",
            "WARNING:absl:Found untraced functions such as _update_step_xla while saving (showing 1 of 1). These functions will not be directly callable after loading.\n",
            "WARNING:absl:Found untraced functions such as _update_step_xla while saving (showing 1 of 1). These functions will not be directly callable after loading.\n",
            "WARNING:absl:Found untraced functions such as _update_step_xla while saving (showing 1 of 1). These functions will not be directly callable after loading.\n",
            "WARNING:absl:Found untraced functions such as _update_step_xla while saving (showing 1 of 1). These functions will not be directly callable after loading.\n",
            "WARNING:absl:Found untraced functions such as _update_step_xla while saving (showing 1 of 1). These functions will not be directly callable after loading.\n",
            "WARNING:absl:Found untraced functions such as _update_step_xla while saving (showing 1 of 1). These functions will not be directly callable after loading.\n",
            "WARNING:absl:Found untraced functions such as _update_step_xla while saving (showing 1 of 1). These functions will not be directly callable after loading.\n",
            "WARNING:absl:Found untraced functions such as _update_step_xla while saving (showing 1 of 1). These functions will not be directly callable after loading.\n",
            "WARNING:absl:Found untraced functions such as _update_step_xla while saving (showing 1 of 1). These functions will not be directly callable after loading.\n",
            "WARNING:absl:Found untraced functions such as _update_step_xla while saving (showing 1 of 1). These functions will not be directly callable after loading.\n",
            "WARNING:absl:Found untraced functions such as _update_step_xla while saving (showing 1 of 1). These functions will not be directly callable after loading.\n",
            "WARNING:absl:Found untraced functions such as _update_step_xla while saving (showing 1 of 1). These functions will not be directly callable after loading.\n"
          ]
        },
        {
          "output_type": "stream",
          "name": "stdout",
          "text": [
            "18/18 [==============================] - 0s 2ms/step\n"
          ]
        },
        {
          "output_type": "stream",
          "name": "stderr",
          "text": [
            "WARNING:absl:Found untraced functions such as _update_step_xla while saving (showing 1 of 1). These functions will not be directly callable after loading.\n",
            "WARNING:absl:Found untraced functions such as _update_step_xla while saving (showing 1 of 1). These functions will not be directly callable after loading.\n",
            "WARNING:absl:Found untraced functions such as _update_step_xla while saving (showing 1 of 1). These functions will not be directly callable after loading.\n",
            "WARNING:absl:Found untraced functions such as _update_step_xla while saving (showing 1 of 1). These functions will not be directly callable after loading.\n",
            "WARNING:absl:Found untraced functions such as _update_step_xla while saving (showing 1 of 1). These functions will not be directly callable after loading.\n",
            "WARNING:absl:Found untraced functions such as _update_step_xla while saving (showing 1 of 1). These functions will not be directly callable after loading.\n",
            "WARNING:absl:Found untraced functions such as _update_step_xla while saving (showing 1 of 1). These functions will not be directly callable after loading.\n",
            "WARNING:absl:Found untraced functions such as _update_step_xla while saving (showing 1 of 1). These functions will not be directly callable after loading.\n",
            "WARNING:absl:Found untraced functions such as _update_step_xla while saving (showing 1 of 1). These functions will not be directly callable after loading.\n",
            "WARNING:absl:Found untraced functions such as _update_step_xla while saving (showing 1 of 1). These functions will not be directly callable after loading.\n",
            "WARNING:absl:Found untraced functions such as _update_step_xla while saving (showing 1 of 1). These functions will not be directly callable after loading.\n",
            "WARNING:absl:Found untraced functions such as _update_step_xla while saving (showing 1 of 1). These functions will not be directly callable after loading.\n",
            "WARNING:absl:Found untraced functions such as _update_step_xla while saving (showing 1 of 1). These functions will not be directly callable after loading.\n",
            "WARNING:absl:Found untraced functions such as _update_step_xla while saving (showing 1 of 1). These functions will not be directly callable after loading.\n",
            "WARNING:absl:Found untraced functions such as _update_step_xla while saving (showing 1 of 1). These functions will not be directly callable after loading.\n",
            "WARNING:absl:Found untraced functions such as _update_step_xla while saving (showing 1 of 1). These functions will not be directly callable after loading.\n",
            "WARNING:absl:Found untraced functions such as _update_step_xla while saving (showing 1 of 1). These functions will not be directly callable after loading.\n",
            "WARNING:absl:Found untraced functions such as _update_step_xla while saving (showing 1 of 1). These functions will not be directly callable after loading.\n",
            "WARNING:absl:Found untraced functions such as _update_step_xla while saving (showing 1 of 1). These functions will not be directly callable after loading.\n",
            "WARNING:absl:Found untraced functions such as _update_step_xla while saving (showing 1 of 1). These functions will not be directly callable after loading.\n",
            "WARNING:absl:Found untraced functions such as _update_step_xla while saving (showing 1 of 1). These functions will not be directly callable after loading.\n",
            "WARNING:absl:Found untraced functions such as _update_step_xla while saving (showing 1 of 1). These functions will not be directly callable after loading.\n",
            "WARNING:absl:Found untraced functions such as _update_step_xla while saving (showing 1 of 1). These functions will not be directly callable after loading.\n",
            "WARNING:absl:Found untraced functions such as _update_step_xla while saving (showing 1 of 1). These functions will not be directly callable after loading.\n",
            "WARNING:absl:Found untraced functions such as _update_step_xla while saving (showing 1 of 1). These functions will not be directly callable after loading.\n",
            "WARNING:absl:Found untraced functions such as _update_step_xla while saving (showing 1 of 1). These functions will not be directly callable after loading.\n",
            "WARNING:absl:Found untraced functions such as _update_step_xla while saving (showing 1 of 1). These functions will not be directly callable after loading.\n",
            "WARNING:absl:Found untraced functions such as _update_step_xla while saving (showing 1 of 1). These functions will not be directly callable after loading.\n",
            "WARNING:absl:Found untraced functions such as _update_step_xla while saving (showing 1 of 1). These functions will not be directly callable after loading.\n",
            "WARNING:absl:Found untraced functions such as _update_step_xla while saving (showing 1 of 1). These functions will not be directly callable after loading.\n"
          ]
        },
        {
          "output_type": "stream",
          "name": "stdout",
          "text": [
            "18/18 [==============================] - 0s 2ms/step\n"
          ]
        }
      ]
    },
    {
      "cell_type": "markdown",
      "source": [
        "## Look at multiple variable influences in up-to-date BTC and DOGE price datasets"
      ],
      "metadata": {
        "id": "aT2fNR02bk0B"
      }
    },
    {
      "cell_type": "markdown",
      "source": [
        "Extract BTC price history"
      ],
      "metadata": {
        "id": "ymfb07nWb0xM"
      }
    },
    {
      "cell_type": "code",
      "source": [
        "# get the most up-to-date data on bitcoin (our data goes up to 5/18/21).\n",
        "\n",
        "# you can download the Bitcoin historical data for free from \n",
        "# coindesk.com/price/bitcoin and clicking \"Export Data\" -> \"CSV\".\n",
        "\"\"\"\n",
        "> https://finance.yahoo.com/quote/BTC-USD/history?period1=1410825600&period2=1676505600&interval=1d&filter=history&frequency=1d&includeAdjustedClose=true\n",
        "\"\"\"\n",
        "\n",
        "# read in bitcoin data and parse the dates\n",
        "BTC_df_up_to_date = pd.read_csv(\"/content/BTC-USD.csv\",\n",
        "                 parse_dates=[\"Date\"],\n",
        "                 index_col=[\"Date\"]) # parse the date column and tell pandas col 1 is datetime\n",
        "\n",
        "bitcoin_prices_up_to_date = pd.DataFrame(BTC_df_up_to_date[\"Close\"]).rename(columns={\"Close\":\"Price\"})\n",
        "\n",
        "BTC_timesteps_up_to_date = bitcoin_prices_up_to_date.index.to_numpy()\n",
        "BTC_prices_up_to_date = bitcoin_prices_up_to_date[\"Price\"].to_numpy()"
      ],
      "metadata": {
        "id": "_pst9UGMYjrF"
      },
      "execution_count": 22,
      "outputs": []
    },
    {
      "cell_type": "markdown",
      "source": [
        "Include another feature (DOGE coin price), to examine multivariance"
      ],
      "metadata": {
        "id": "e-cEezYaZjLA"
      }
    },
    {
      "cell_type": "code",
      "source": [
        "# 5. for our multivariate modeling experiment, we added the bitcoin \n",
        "# block reward size as an extra feature to make our time series multi-\n",
        "# variate. \n",
        "\n",
        "# are there any other features you think you could add?\n",
        "\"\"\"\n",
        "> DOGE COIN value\n",
        "\"\"\"\n",
        "\n",
        "# read in doge data and parse the dates\n",
        "DOGE_df_up_to_date = pd.read_csv(\"/content/DOGE-USD.csv\",\n",
        "                 parse_dates=[\"Date\"],\n",
        "                 index_col=[\"Date\"]) # parse the date column and tell pandas col 1 is datetime\n",
        "\n",
        "DOGE_prices_up_to_date = pd.DataFrame(DOGE_df_up_to_date[\"Close\"]).rename(columns={\"Close\":\"Price\"})\n",
        "\n",
        "DOGE_timesteps_up_to_date = DOGE_prices_up_to_date.index.to_numpy()\n",
        "DOGE_doge_prices_up_to_date = DOGE_prices_up_to_date[\"Price\"].to_numpy()"
      ],
      "metadata": {
        "id": "xF-bI3vUZmyr"
      },
      "execution_count": 19,
      "outputs": []
    },
    {
      "cell_type": "code",
      "source": [
        "len(DOGE_doge_prices_up_to_date), len(BTC_prices_up_to_date)"
      ],
      "metadata": {
        "colab": {
          "base_uri": "https://localhost:8080/"
        },
        "id": "t9z_7KOHaP0w",
        "outputId": "180aefb7-b368-4c07-dcd3-d6e0d4aee69a"
      },
      "execution_count": 23,
      "outputs": [
        {
          "output_type": "execute_result",
          "data": {
            "text/plain": [
              "(1926, 3075)"
            ]
          },
          "metadata": {},
          "execution_count": 23
        }
      ]
    },
    {
      "cell_type": "markdown",
      "source": [
        "Truncate BTC and DOGE datasets to cover the same timeframe"
      ],
      "metadata": {
        "id": "blS3YdW6bOPe"
      }
    },
    {
      "cell_type": "code",
      "source": [
        "BTC_timesteps_up_to_date_mod = BTC_timesteps_up_to_date[3075-1926:]\n",
        "BTC_prices_up_to_date_mod = BTC_prices_up_to_date[3075-1926:]"
      ],
      "metadata": {
        "id": "Tmu6O_L2aJyt"
      },
      "execution_count": 24,
      "outputs": []
    },
    {
      "cell_type": "markdown",
      "source": [
        "Create a combined pd.DataFrame"
      ],
      "metadata": {
        "id": "KmBHGahvb5Js"
      }
    },
    {
      "cell_type": "code",
      "source": [
        "# add in block_reward values to our dataframe\n",
        "bitcoin_prices_DOGE = bitcoin_prices_up_to_date.copy()\n",
        "bitcoin_prices_DOGE = bitcoin_prices_DOGE[3075-1926:]\n",
        "bitcoin_prices_DOGE[\"DOGE\"] = DOGE_doge_prices_up_to_date\n",
        "\n",
        "bitcoin_prices_DOGE_windowed = bitcoin_prices_DOGE.copy()"
      ],
      "metadata": {
        "id": "P1F6HRPeatm4"
      },
      "execution_count": 25,
      "outputs": []
    },
    {
      "cell_type": "markdown",
      "source": [
        "Add windowed columns, to consider a window of prior BTC price values (preceding projection)"
      ],
      "metadata": {
        "id": "xFZCUHzbcAEK"
      }
    },
    {
      "cell_type": "code",
      "source": [
        "for i in range(WINDOW_SIZE): # shift values for each step in WINDOW_SIZE\n",
        "  bitcoin_prices_DOGE_windowed[f\"Price+{i+1}\"] = bitcoin_prices_DOGE_windowed[\"Price\"].shift(periods=i+1)\n",
        "bitcoin_prices_DOGE_windowed[:5]"
      ],
      "metadata": {
        "colab": {
          "base_uri": "https://localhost:8080/",
          "height": 238
        },
        "id": "dpR6d8vVa5a0",
        "outputId": "b9b999c4-96c3-40d9-c260-bdbcd94d17e1"
      },
      "execution_count": 26,
      "outputs": [
        {
          "output_type": "execute_result",
          "data": {
            "text/plain": [
              "                  Price      DOGE      Price+1      Price+2      Price+3  \\\n",
              "Date                                                                       \n",
              "2017-11-09  7143.580078  0.001415          NaN          NaN          NaN   \n",
              "2017-11-10  6618.140137  0.001163  7143.580078          NaN          NaN   \n",
              "2017-11-11  6357.600098  0.001201  6618.140137  7143.580078          NaN   \n",
              "2017-11-12  5950.069824  0.001038  6357.600098  6618.140137  7143.580078   \n",
              "2017-11-13  6559.490234  0.001211  5950.069824  6357.600098  6618.140137   \n",
              "\n",
              "                Price+4  Price+5  Price+6  Price+7  Price+8  Price+9  \\\n",
              "Date                                                                   \n",
              "2017-11-09          NaN      NaN      NaN      NaN      NaN      NaN   \n",
              "2017-11-10          NaN      NaN      NaN      NaN      NaN      NaN   \n",
              "2017-11-11          NaN      NaN      NaN      NaN      NaN      NaN   \n",
              "2017-11-12          NaN      NaN      NaN      NaN      NaN      NaN   \n",
              "2017-11-13  7143.580078      NaN      NaN      NaN      NaN      NaN   \n",
              "\n",
              "            Price+10  Price+11  Price+12  \n",
              "Date                                      \n",
              "2017-11-09       NaN       NaN       NaN  \n",
              "2017-11-10       NaN       NaN       NaN  \n",
              "2017-11-11       NaN       NaN       NaN  \n",
              "2017-11-12       NaN       NaN       NaN  \n",
              "2017-11-13       NaN       NaN       NaN  "
            ],
            "text/html": [
              "\n",
              "  <div id=\"df-60430207-3eed-45af-97d8-977ecaf68a0c\">\n",
              "    <div class=\"colab-df-container\">\n",
              "      <div>\n",
              "<style scoped>\n",
              "    .dataframe tbody tr th:only-of-type {\n",
              "        vertical-align: middle;\n",
              "    }\n",
              "\n",
              "    .dataframe tbody tr th {\n",
              "        vertical-align: top;\n",
              "    }\n",
              "\n",
              "    .dataframe thead th {\n",
              "        text-align: right;\n",
              "    }\n",
              "</style>\n",
              "<table border=\"1\" class=\"dataframe\">\n",
              "  <thead>\n",
              "    <tr style=\"text-align: right;\">\n",
              "      <th></th>\n",
              "      <th>Price</th>\n",
              "      <th>DOGE</th>\n",
              "      <th>Price+1</th>\n",
              "      <th>Price+2</th>\n",
              "      <th>Price+3</th>\n",
              "      <th>Price+4</th>\n",
              "      <th>Price+5</th>\n",
              "      <th>Price+6</th>\n",
              "      <th>Price+7</th>\n",
              "      <th>Price+8</th>\n",
              "      <th>Price+9</th>\n",
              "      <th>Price+10</th>\n",
              "      <th>Price+11</th>\n",
              "      <th>Price+12</th>\n",
              "    </tr>\n",
              "    <tr>\n",
              "      <th>Date</th>\n",
              "      <th></th>\n",
              "      <th></th>\n",
              "      <th></th>\n",
              "      <th></th>\n",
              "      <th></th>\n",
              "      <th></th>\n",
              "      <th></th>\n",
              "      <th></th>\n",
              "      <th></th>\n",
              "      <th></th>\n",
              "      <th></th>\n",
              "      <th></th>\n",
              "      <th></th>\n",
              "      <th></th>\n",
              "    </tr>\n",
              "  </thead>\n",
              "  <tbody>\n",
              "    <tr>\n",
              "      <th>2017-11-09</th>\n",
              "      <td>7143.580078</td>\n",
              "      <td>0.001415</td>\n",
              "      <td>NaN</td>\n",
              "      <td>NaN</td>\n",
              "      <td>NaN</td>\n",
              "      <td>NaN</td>\n",
              "      <td>NaN</td>\n",
              "      <td>NaN</td>\n",
              "      <td>NaN</td>\n",
              "      <td>NaN</td>\n",
              "      <td>NaN</td>\n",
              "      <td>NaN</td>\n",
              "      <td>NaN</td>\n",
              "      <td>NaN</td>\n",
              "    </tr>\n",
              "    <tr>\n",
              "      <th>2017-11-10</th>\n",
              "      <td>6618.140137</td>\n",
              "      <td>0.001163</td>\n",
              "      <td>7143.580078</td>\n",
              "      <td>NaN</td>\n",
              "      <td>NaN</td>\n",
              "      <td>NaN</td>\n",
              "      <td>NaN</td>\n",
              "      <td>NaN</td>\n",
              "      <td>NaN</td>\n",
              "      <td>NaN</td>\n",
              "      <td>NaN</td>\n",
              "      <td>NaN</td>\n",
              "      <td>NaN</td>\n",
              "      <td>NaN</td>\n",
              "    </tr>\n",
              "    <tr>\n",
              "      <th>2017-11-11</th>\n",
              "      <td>6357.600098</td>\n",
              "      <td>0.001201</td>\n",
              "      <td>6618.140137</td>\n",
              "      <td>7143.580078</td>\n",
              "      <td>NaN</td>\n",
              "      <td>NaN</td>\n",
              "      <td>NaN</td>\n",
              "      <td>NaN</td>\n",
              "      <td>NaN</td>\n",
              "      <td>NaN</td>\n",
              "      <td>NaN</td>\n",
              "      <td>NaN</td>\n",
              "      <td>NaN</td>\n",
              "      <td>NaN</td>\n",
              "    </tr>\n",
              "    <tr>\n",
              "      <th>2017-11-12</th>\n",
              "      <td>5950.069824</td>\n",
              "      <td>0.001038</td>\n",
              "      <td>6357.600098</td>\n",
              "      <td>6618.140137</td>\n",
              "      <td>7143.580078</td>\n",
              "      <td>NaN</td>\n",
              "      <td>NaN</td>\n",
              "      <td>NaN</td>\n",
              "      <td>NaN</td>\n",
              "      <td>NaN</td>\n",
              "      <td>NaN</td>\n",
              "      <td>NaN</td>\n",
              "      <td>NaN</td>\n",
              "      <td>NaN</td>\n",
              "    </tr>\n",
              "    <tr>\n",
              "      <th>2017-11-13</th>\n",
              "      <td>6559.490234</td>\n",
              "      <td>0.001211</td>\n",
              "      <td>5950.069824</td>\n",
              "      <td>6357.600098</td>\n",
              "      <td>6618.140137</td>\n",
              "      <td>7143.580078</td>\n",
              "      <td>NaN</td>\n",
              "      <td>NaN</td>\n",
              "      <td>NaN</td>\n",
              "      <td>NaN</td>\n",
              "      <td>NaN</td>\n",
              "      <td>NaN</td>\n",
              "      <td>NaN</td>\n",
              "      <td>NaN</td>\n",
              "    </tr>\n",
              "  </tbody>\n",
              "</table>\n",
              "</div>\n",
              "      <button class=\"colab-df-convert\" onclick=\"convertToInteractive('df-60430207-3eed-45af-97d8-977ecaf68a0c')\"\n",
              "              title=\"Convert this dataframe to an interactive table.\"\n",
              "              style=\"display:none;\">\n",
              "        \n",
              "  <svg xmlns=\"http://www.w3.org/2000/svg\" height=\"24px\"viewBox=\"0 0 24 24\"\n",
              "       width=\"24px\">\n",
              "    <path d=\"M0 0h24v24H0V0z\" fill=\"none\"/>\n",
              "    <path d=\"M18.56 5.44l.94 2.06.94-2.06 2.06-.94-2.06-.94-.94-2.06-.94 2.06-2.06.94zm-11 1L8.5 8.5l.94-2.06 2.06-.94-2.06-.94L8.5 2.5l-.94 2.06-2.06.94zm10 10l.94 2.06.94-2.06 2.06-.94-2.06-.94-.94-2.06-.94 2.06-2.06.94z\"/><path d=\"M17.41 7.96l-1.37-1.37c-.4-.4-.92-.59-1.43-.59-.52 0-1.04.2-1.43.59L10.3 9.45l-7.72 7.72c-.78.78-.78 2.05 0 2.83L4 21.41c.39.39.9.59 1.41.59.51 0 1.02-.2 1.41-.59l7.78-7.78 2.81-2.81c.8-.78.8-2.07 0-2.86zM5.41 20L4 18.59l7.72-7.72 1.47 1.35L5.41 20z\"/>\n",
              "  </svg>\n",
              "      </button>\n",
              "      \n",
              "  <style>\n",
              "    .colab-df-container {\n",
              "      display:flex;\n",
              "      flex-wrap:wrap;\n",
              "      gap: 12px;\n",
              "    }\n",
              "\n",
              "    .colab-df-convert {\n",
              "      background-color: #E8F0FE;\n",
              "      border: none;\n",
              "      border-radius: 50%;\n",
              "      cursor: pointer;\n",
              "      display: none;\n",
              "      fill: #1967D2;\n",
              "      height: 32px;\n",
              "      padding: 0 0 0 0;\n",
              "      width: 32px;\n",
              "    }\n",
              "\n",
              "    .colab-df-convert:hover {\n",
              "      background-color: #E2EBFA;\n",
              "      box-shadow: 0px 1px 2px rgba(60, 64, 67, 0.3), 0px 1px 3px 1px rgba(60, 64, 67, 0.15);\n",
              "      fill: #174EA6;\n",
              "    }\n",
              "\n",
              "    [theme=dark] .colab-df-convert {\n",
              "      background-color: #3B4455;\n",
              "      fill: #D2E3FC;\n",
              "    }\n",
              "\n",
              "    [theme=dark] .colab-df-convert:hover {\n",
              "      background-color: #434B5C;\n",
              "      box-shadow: 0px 1px 3px 1px rgba(0, 0, 0, 0.15);\n",
              "      filter: drop-shadow(0px 1px 2px rgba(0, 0, 0, 0.3));\n",
              "      fill: #FFFFFF;\n",
              "    }\n",
              "  </style>\n",
              "\n",
              "      <script>\n",
              "        const buttonEl =\n",
              "          document.querySelector('#df-60430207-3eed-45af-97d8-977ecaf68a0c button.colab-df-convert');\n",
              "        buttonEl.style.display =\n",
              "          google.colab.kernel.accessAllowed ? 'block' : 'none';\n",
              "\n",
              "        async function convertToInteractive(key) {\n",
              "          const element = document.querySelector('#df-60430207-3eed-45af-97d8-977ecaf68a0c');\n",
              "          const dataTable =\n",
              "            await google.colab.kernel.invokeFunction('convertToInteractive',\n",
              "                                                     [key], {});\n",
              "          if (!dataTable) return;\n",
              "\n",
              "          const docLinkHtml = 'Like what you see? Visit the ' +\n",
              "            '<a target=\"_blank\" href=https://colab.research.google.com/notebooks/data_table.ipynb>data table notebook</a>'\n",
              "            + ' to learn more about interactive tables.';\n",
              "          element.innerHTML = '';\n",
              "          dataTable['output_type'] = 'display_data';\n",
              "          await google.colab.output.renderOutput(dataTable, element);\n",
              "          const docLink = document.createElement('div');\n",
              "          docLink.innerHTML = docLinkHtml;\n",
              "          element.appendChild(docLink);\n",
              "        }\n",
              "      </script>\n",
              "    </div>\n",
              "  </div>\n",
              "  "
            ]
          },
          "metadata": {},
          "execution_count": 26
        }
      ]
    },
    {
      "cell_type": "markdown",
      "source": [
        "Create train and test sets"
      ],
      "metadata": {
        "id": "ybUBanskceqK"
      }
    },
    {
      "cell_type": "code",
      "source": [
        "# create X (window and DOGE price) and y (horizon) features\n",
        "X = bitcoin_prices_DOGE_windowed.dropna().drop(\"Price\",axis=1).astype(np.float32).to_numpy()\n",
        "y = bitcoin_prices_DOGE_windowed.dropna()[\"Price\"].astype(np.float32).to_numpy()\n",
        "\n",
        "# make train and test sets using indexing\n",
        "split_size = int(len(X)*0.8)\n",
        "X_train_multi,y_train_multi = X[:split_size],y[:split_size]\n",
        "X_test_multi,y_test_multi = X[split_size:],y[split_size:]"
      ],
      "metadata": {
        "id": "FkJs10BGbDZf"
      },
      "execution_count": 27,
      "outputs": []
    },
    {
      "cell_type": "markdown",
      "source": [
        "Design, compile, train, and evaluate a simple model"
      ],
      "metadata": {
        "id": "cEuzGSgBclZs"
      }
    },
    {
      "cell_type": "code",
      "source": [
        "model_BTC_DOGE = tf.keras.models.Sequential([\n",
        "    layers.Dense(128,activation=\"relu\"),\n",
        "    layers.Dense(HORIZON)\n",
        "],name=\"model_BTC_DOGE\")\n",
        "\n",
        "model_BTC_DOGE.compile(loss=\"mae\",\n",
        "                optimizer=tf.keras.optimizers.Adam(),\n",
        "                metrics=[\"mae\",\"mse\"])\n",
        "\n",
        "model_BTC_DOGE.fit(x=X_train_multi,\n",
        "                   y=y_train_multi,\n",
        "                   epochs=100,\n",
        "                   batch_size=128,\n",
        "                   validation_data=(X_test_multi,y_test_multi),\n",
        "                   callbacks=[create_model_checkpoint(\"model_BTC_DOGE\")])\n",
        "\n",
        "model_BTC_DOGE.evaluate(X_test_multi,y_test_multi)"
      ],
      "metadata": {
        "colab": {
          "base_uri": "https://localhost:8080/"
        },
        "id": "PsApSRA5cpX7",
        "outputId": "c1952a03-fd54-48da-949d-c103d2be2c44"
      },
      "execution_count": 28,
      "outputs": [
        {
          "output_type": "stream",
          "name": "stdout",
          "text": [
            "Epoch 1/100\n",
            " 1/12 [=>............................] - ETA: 14s - loss: 16847.5664 - mae: 16847.5664 - mse: 534492352.0000"
          ]
        },
        {
          "output_type": "stream",
          "name": "stderr",
          "text": [
            "WARNING:absl:Found untraced functions such as _update_step_xla while saving (showing 1 of 1). These functions will not be directly callable after loading.\n"
          ]
        },
        {
          "output_type": "stream",
          "name": "stdout",
          "text": [
            "\b\b\b\b\b\b\b\b\b\b\b\b\b\b\b\b\b\b\b\b\b\b\b\b\b\b\b\b\b\b\b\b\b\b\b\b\b\b\b\b\b\b\b\b\b\b\b\b\b\b\b\b\b\b\b\b\b\b\b\b\b\b\b\b\b\b\b\b\b\b\b\b\b\b\b\b\b\b\b\b\b\b\b\b\b\b\b\b\b\b\b\b\b\b\b\b\b\b\b\b\b\b\b\b\b\b\b\b\r12/12 [==============================] - 2s 70ms/step - loss: 7600.5815 - mae: 7600.5815 - mse: 163491360.0000 - val_loss: 6007.7178 - val_mae: 6007.7178 - val_mse: 46574268.0000\n",
            "Epoch 2/100\n",
            " 1/12 [=>............................] - ETA: 0s - loss: 4293.4375 - mae: 4293.4375 - mse: 42752176.0000"
          ]
        },
        {
          "output_type": "stream",
          "name": "stderr",
          "text": [
            "WARNING:absl:Found untraced functions such as _update_step_xla while saving (showing 1 of 1). These functions will not be directly callable after loading.\n"
          ]
        },
        {
          "output_type": "stream",
          "name": "stdout",
          "text": [
            "\b\b\b\b\b\b\b\b\b\b\b\b\b\b\b\b\b\b\b\b\b\b\b\b\b\b\b\b\b\b\b\b\b\b\b\b\b\b\b\b\b\b\b\b\b\b\b\b\b\b\b\b\b\b\b\b\b\b\b\b\b\b\b\b\b\b\b\b\b\b\b\b\b\b\b\b\b\b\b\b\b\b\b\b\b\b\b\b\b\b\b\b\b\b\b\b\b\b\b\b\b\b\b\b\r12/12 [==============================] - 1s 55ms/step - loss: 2865.1179 - mae: 2865.1179 - mse: 22825956.0000 - val_loss: 2991.2229 - val_mae: 2991.2229 - val_mse: 12772213.0000\n",
            "Epoch 3/100\n",
            " 1/12 [=>............................] - ETA: 0s - loss: 2742.4619 - mae: 2742.4619 - mse: 18706830.0000"
          ]
        },
        {
          "output_type": "stream",
          "name": "stderr",
          "text": [
            "WARNING:absl:Found untraced functions such as _update_step_xla while saving (showing 1 of 1). These functions will not be directly callable after loading.\n"
          ]
        },
        {
          "output_type": "stream",
          "name": "stdout",
          "text": [
            "\b\b\b\b\b\b\b\b\b\b\b\b\b\b\b\b\b\b\b\b\b\b\b\b\b\b\b\b\b\b\b\b\b\b\b\b\b\b\b\b\b\b\b\b\b\b\b\b\b\b\b\b\b\b\b\b\b\b\b\b\b\b\b\b\b\b\b\b\b\b\b\b\b\b\b\b\b\b\b\b\b\b\b\b\b\b\b\b\b\b\b\b\b\b\b\b\b\b\b\b\b\b\b\b\r12/12 [==============================] - 1s 71ms/step - loss: 1746.1179 - mae: 1746.1179 - mse: 8545045.0000 - val_loss: 2145.6919 - val_mae: 2145.6919 - val_mse: 8298287.5000\n",
            "Epoch 4/100\n",
            " 1/12 [=>............................] - ETA: 0s - loss: 1339.6470 - mae: 1339.6470 - mse: 5139732.5000"
          ]
        },
        {
          "output_type": "stream",
          "name": "stderr",
          "text": [
            "WARNING:absl:Found untraced functions such as _update_step_xla while saving (showing 1 of 1). These functions will not be directly callable after loading.\n"
          ]
        },
        {
          "output_type": "stream",
          "name": "stdout",
          "text": [
            "\b\b\b\b\b\b\b\b\b\b\b\b\b\b\b\b\b\b\b\b\b\b\b\b\b\b\b\b\b\b\b\b\b\b\b\b\b\b\b\b\b\b\b\b\b\b\b\b\b\b\b\b\b\b\b\b\b\b\b\b\b\b\b\b\b\b\b\b\b\b\b\b\b\b\b\b\b\b\b\b\b\b\b\b\b\b\b\b\b\b\b\b\b\b\b\b\b\b\b\b\b\b\b\r12/12 [==============================] - 1s 85ms/step - loss: 1412.8494 - mae: 1412.8494 - mse: 5890354.0000 - val_loss: 1569.0571 - val_mae: 1569.0571 - val_mse: 5046640.5000\n",
            "Epoch 5/100\n",
            " 1/12 [=>............................] - ETA: 0s - loss: 1297.3745 - mae: 1297.3745 - mse: 4282331.0000"
          ]
        },
        {
          "output_type": "stream",
          "name": "stderr",
          "text": [
            "WARNING:absl:Found untraced functions such as _update_step_xla while saving (showing 1 of 1). These functions will not be directly callable after loading.\n"
          ]
        },
        {
          "output_type": "stream",
          "name": "stdout",
          "text": [
            "\b\b\b\b\b\b\b\b\b\b\b\b\b\b\b\b\b\b\b\b\b\b\b\b\b\b\b\b\b\b\b\b\b\b\b\b\b\b\b\b\b\b\b\b\b\b\b\b\b\b\b\b\b\b\b\b\b\b\b\b\b\b\b\b\b\b\b\b\b\b\b\b\b\b\b\b\b\b\b\b\b\b\b\b\b\b\b\b\b\b\b\b\b\b\b\b\b\b\b\b\b\b\b\r12/12 [==============================] - 1s 80ms/step - loss: 1311.4714 - mae: 1311.4714 - mse: 5239282.5000 - val_loss: 1378.7465 - val_mae: 1378.7465 - val_mse: 3965973.7500\n",
            "Epoch 6/100\n",
            " 1/12 [=>............................] - ETA: 0s - loss: 1183.5204 - mae: 1183.5204 - mse: 4787673.0000"
          ]
        },
        {
          "output_type": "stream",
          "name": "stderr",
          "text": [
            "WARNING:absl:Found untraced functions such as _update_step_xla while saving (showing 1 of 1). These functions will not be directly callable after loading.\n"
          ]
        },
        {
          "output_type": "stream",
          "name": "stdout",
          "text": [
            "\b\b\b\b\b\b\b\b\b\b\b\b\b\b\b\b\b\b\b\b\b\b\b\b\b\b\b\b\b\b\b\b\b\b\b\b\b\b\b\b\b\b\b\b\b\b\b\b\b\b\b\b\b\b\b\b\b\b\b\b\b\b\b\b\b\b\b\b\b\b\b\b\b\b\b\b\b\b\b\b\b\b\b\b\b\b\b\b\b\b\b\b\b\b\b\b\b\b\b\b\b\b\b\r12/12 [==============================] - 1s 55ms/step - loss: 1226.7192 - mae: 1226.7192 - mse: 4579843.5000 - val_loss: 1320.6333 - val_mae: 1320.6333 - val_mse: 3684670.5000\n",
            "Epoch 7/100\n",
            " 1/12 [=>............................] - ETA: 0s - loss: 1108.6204 - mae: 1108.6204 - mse: 3724011.0000"
          ]
        },
        {
          "output_type": "stream",
          "name": "stderr",
          "text": [
            "WARNING:absl:Found untraced functions such as _update_step_xla while saving (showing 1 of 1). These functions will not be directly callable after loading.\n"
          ]
        },
        {
          "output_type": "stream",
          "name": "stdout",
          "text": [
            "\b\b\b\b\b\b\b\b\b\b\b\b\b\b\b\b\b\b\b\b\b\b\b\b\b\b\b\b\b\b\b\b\b\b\b\b\b\b\b\b\b\b\b\b\b\b\b\b\b\b\b\b\b\b\b\b\b\b\b\b\b\b\b\b\b\b\b\b\b\b\b\b\b\b\b\b\b\b\b\b\b\b\b\b\b\b\b\b\b\b\b\b\b\b\b\b\b\b\b\b\b\b\b\r12/12 [==============================] - 1s 54ms/step - loss: 1186.4644 - mae: 1186.4644 - mse: 4333645.5000 - val_loss: 1266.1572 - val_mae: 1266.1572 - val_mse: 3440923.0000\n",
            "Epoch 8/100\n",
            "12/12 [==============================] - 0s 7ms/step - loss: 1123.7224 - mae: 1123.7224 - mse: 3859933.7500 - val_loss: 1273.1569 - val_mae: 1273.1569 - val_mse: 3437788.5000\n",
            "Epoch 9/100\n",
            "12/12 [==============================] - 0s 6ms/step - loss: 1080.9808 - mae: 1080.9808 - mse: 3594070.2500 - val_loss: 1289.4647 - val_mae: 1289.4647 - val_mse: 3428938.2500\n",
            "Epoch 10/100\n",
            " 1/12 [=>............................] - ETA: 0s - loss: 1204.5480 - mae: 1204.5480 - mse: 4144497.0000"
          ]
        },
        {
          "output_type": "stream",
          "name": "stderr",
          "text": [
            "WARNING:absl:Found untraced functions such as _update_step_xla while saving (showing 1 of 1). These functions will not be directly callable after loading.\n"
          ]
        },
        {
          "output_type": "stream",
          "name": "stdout",
          "text": [
            "\b\b\b\b\b\b\b\b\b\b\b\b\b\b\b\b\b\b\b\b\b\b\b\b\b\b\b\b\b\b\b\b\b\b\b\b\b\b\b\b\b\b\b\b\b\b\b\b\b\b\b\b\b\b\b\b\b\b\b\b\b\b\b\b\b\b\b\b\b\b\b\b\b\b\b\b\b\b\b\b\b\b\b\b\b\b\b\b\b\b\b\b\b\b\b\b\b\b\b\b\b\b\b\r12/12 [==============================] - 1s 53ms/step - loss: 1061.9246 - mae: 1061.9246 - mse: 3444627.0000 - val_loss: 1147.6039 - val_mae: 1147.6039 - val_mse: 2862199.7500\n",
            "Epoch 11/100\n",
            " 1/12 [=>............................] - ETA: 0s - loss: 802.7476 - mae: 802.7476 - mse: 1864802.1250"
          ]
        },
        {
          "output_type": "stream",
          "name": "stderr",
          "text": [
            "WARNING:absl:Found untraced functions such as _update_step_xla while saving (showing 1 of 1). These functions will not be directly callable after loading.\n"
          ]
        },
        {
          "output_type": "stream",
          "name": "stdout",
          "text": [
            "\b\b\b\b\b\b\b\b\b\b\b\b\b\b\b\b\b\b\b\b\b\b\b\b\b\b\b\b\b\b\b\b\b\b\b\b\b\b\b\b\b\b\b\b\b\b\b\b\b\b\b\b\b\b\b\b\b\b\b\b\b\b\b\b\b\b\b\b\b\b\b\b\b\b\b\b\b\b\b\b\b\b\b\b\b\b\b\b\b\b\b\b\b\b\b\b\b\b\b\b\b\r12/12 [==============================] - 1s 77ms/step - loss: 1004.8412 - mae: 1004.8412 - mse: 3111804.5000 - val_loss: 1081.7722 - val_mae: 1081.7722 - val_mse: 2568246.7500\n",
            "Epoch 12/100\n",
            " 1/12 [=>............................] - ETA: 0s - loss: 854.6807 - mae: 854.6807 - mse: 1958199.0000"
          ]
        },
        {
          "output_type": "stream",
          "name": "stderr",
          "text": [
            "WARNING:absl:Found untraced functions such as _update_step_xla while saving (showing 1 of 1). These functions will not be directly callable after loading.\n"
          ]
        },
        {
          "output_type": "stream",
          "name": "stdout",
          "text": [
            "\b\b\b\b\b\b\b\b\b\b\b\b\b\b\b\b\b\b\b\b\b\b\b\b\b\b\b\b\b\b\b\b\b\b\b\b\b\b\b\b\b\b\b\b\b\b\b\b\b\b\b\b\b\b\b\b\b\b\b\b\b\b\b\b\b\b\b\b\b\b\b\b\b\b\b\b\b\b\b\b\b\b\b\b\b\b\b\b\b\b\b\b\b\b\b\b\b\b\b\b\b\r12/12 [==============================] - 1s 79ms/step - loss: 960.7233 - mae: 960.7233 - mse: 2851677.2500 - val_loss: 1061.3170 - val_mae: 1061.3170 - val_mse: 2461334.0000\n",
            "Epoch 13/100\n",
            "12/12 [==============================] - ETA: 0s - loss: 918.3233 - mae: 918.3233 - mse: 2602312.5000"
          ]
        },
        {
          "output_type": "stream",
          "name": "stderr",
          "text": [
            "WARNING:absl:Found untraced functions such as _update_step_xla while saving (showing 1 of 1). These functions will not be directly callable after loading.\n"
          ]
        },
        {
          "output_type": "stream",
          "name": "stdout",
          "text": [
            "\b\b\b\b\b\b\b\b\b\b\b\b\b\b\b\b\b\b\b\b\b\b\b\b\b\b\b\b\b\b\b\b\b\b\b\b\b\b\b\b\b\b\b\b\b\b\b\b\b\b\b\b\b\b\b\b\b\b\b\b\b\b\b\b\b\b\b\b\b\b\b\b\b\b\b\b\b\b\b\b\b\b\b\b\b\b\b\b\b\b\b\b\b\b\b\b\b\b\b\b\b\r12/12 [==============================] - 1s 67ms/step - loss: 918.3233 - mae: 918.3233 - mse: 2602312.5000 - val_loss: 1015.9954 - val_mae: 1015.9954 - val_mse: 2263455.0000\n",
            "Epoch 14/100\n",
            " 1/12 [=>............................] - ETA: 0s - loss: 907.5574 - mae: 907.5574 - mse: 2894178.5000"
          ]
        },
        {
          "output_type": "stream",
          "name": "stderr",
          "text": [
            "WARNING:absl:Found untraced functions such as _update_step_xla while saving (showing 1 of 1). These functions will not be directly callable after loading.\n"
          ]
        },
        {
          "output_type": "stream",
          "name": "stdout",
          "text": [
            "\b\b\b\b\b\b\b\b\b\b\b\b\b\b\b\b\b\b\b\b\b\b\b\b\b\b\b\b\b\b\b\b\b\b\b\b\b\b\b\b\b\b\b\b\b\b\b\b\b\b\b\b\b\b\b\b\b\b\b\b\b\b\b\b\b\b\b\b\b\b\b\b\b\b\b\b\b\b\b\b\b\b\b\b\b\b\b\b\b\b\b\b\b\b\b\b\b\b\b\b\b\r12/12 [==============================] - 1s 52ms/step - loss: 885.2652 - mae: 885.2652 - mse: 2420236.7500 - val_loss: 963.8331 - val_mae: 963.8331 - val_mse: 2060216.3750\n",
            "Epoch 15/100\n",
            " 1/12 [=>............................] - ETA: 0s - loss: 948.4528 - mae: 948.4528 - mse: 2835084.5000"
          ]
        },
        {
          "output_type": "stream",
          "name": "stderr",
          "text": [
            "WARNING:absl:Found untraced functions such as _update_step_xla while saving (showing 1 of 1). These functions will not be directly callable after loading.\n"
          ]
        },
        {
          "output_type": "stream",
          "name": "stdout",
          "text": [
            "\b\b\b\b\b\b\b\b\b\b\b\b\b\b\b\b\b\b\b\b\b\b\b\b\b\b\b\b\b\b\b\b\b\b\b\b\b\b\b\b\b\b\b\b\b\b\b\b\b\b\b\b\b\b\b\b\b\b\b\b\b\b\b\b\b\b\b\b\b\b\b\b\b\b\b\b\b\b\b\b\b\b\b\b\b\b\b\b\b\b\b\b\b\b\b\b\b\b\b\b\b\r12/12 [==============================] - 1s 52ms/step - loss: 851.4496 - mae: 851.4496 - mse: 2294424.5000 - val_loss: 963.6190 - val_mae: 963.6190 - val_mse: 1984822.7500\n",
            "Epoch 16/100\n",
            "12/12 [==============================] - 0s 6ms/step - loss: 853.1160 - mae: 853.1160 - mse: 2197407.7500 - val_loss: 984.6968 - val_mae: 984.6968 - val_mse: 2066222.2500\n",
            "Epoch 17/100\n",
            " 1/12 [=>............................] - ETA: 0s - loss: 724.3796 - mae: 724.3796 - mse: 1828373.3750"
          ]
        },
        {
          "output_type": "stream",
          "name": "stderr",
          "text": [
            "WARNING:absl:Found untraced functions such as _update_step_xla while saving (showing 1 of 1). These functions will not be directly callable after loading.\n"
          ]
        },
        {
          "output_type": "stream",
          "name": "stdout",
          "text": [
            "\b\b\b\b\b\b\b\b\b\b\b\b\b\b\b\b\b\b\b\b\b\b\b\b\b\b\b\b\b\b\b\b\b\b\b\b\b\b\b\b\b\b\b\b\b\b\b\b\b\b\b\b\b\b\b\b\b\b\b\b\b\b\b\b\b\b\b\b\b\b\b\b\b\b\b\b\b\b\b\b\b\b\b\b\b\b\b\b\b\b\b\b\b\b\b\b\b\b\b\b\b\r12/12 [==============================] - 1s 52ms/step - loss: 811.4766 - mae: 811.4766 - mse: 2068979.0000 - val_loss: 931.7059 - val_mae: 931.7059 - val_mse: 1898847.2500\n",
            "Epoch 18/100\n",
            "12/12 [==============================] - 0s 7ms/step - loss: 807.2758 - mae: 807.2758 - mse: 1989403.0000 - val_loss: 1022.8607 - val_mae: 1022.8607 - val_mse: 2125208.5000\n",
            "Epoch 19/100\n",
            " 1/12 [=>............................] - ETA: 0s - loss: 852.6931 - mae: 852.6931 - mse: 2466144.2500"
          ]
        },
        {
          "output_type": "stream",
          "name": "stderr",
          "text": [
            "WARNING:absl:Found untraced functions such as _update_step_xla while saving (showing 1 of 1). These functions will not be directly callable after loading.\n"
          ]
        },
        {
          "output_type": "stream",
          "name": "stdout",
          "text": [
            "\b\b\b\b\b\b\b\b\b\b\b\b\b\b\b\b\b\b\b\b\b\b\b\b\b\b\b\b\b\b\b\b\b\b\b\b\b\b\b\b\b\b\b\b\b\b\b\b\b\b\b\b\b\b\b\b\b\b\b\b\b\b\b\b\b\b\b\b\b\b\b\b\b\b\b\b\b\b\b\b\b\b\b\b\b\b\b\b\b\b\b\b\b\b\b\b\b\b\b\b\b\r12/12 [==============================] - 1s 55ms/step - loss: 787.6418 - mae: 787.6418 - mse: 1940762.3750 - val_loss: 868.4247 - val_mae: 868.4247 - val_mse: 1629424.5000\n",
            "Epoch 20/100\n",
            " 1/12 [=>............................] - ETA: 0s - loss: 788.3402 - mae: 788.3402 - mse: 1939260.2500"
          ]
        },
        {
          "output_type": "stream",
          "name": "stderr",
          "text": [
            "WARNING:absl:Found untraced functions such as _update_step_xla while saving (showing 1 of 1). These functions will not be directly callable after loading.\n"
          ]
        },
        {
          "output_type": "stream",
          "name": "stdout",
          "text": [
            "\b\b\b\b\b\b\b\b\b\b\b\b\b\b\b\b\b\b\b\b\b\b\b\b\b\b\b\b\b\b\b\b\b\b\b\b\b\b\b\b\b\b\b\b\b\b\b\b\b\b\b\b\b\b\b\b\b\b\b\b\b\b\b\b\b\b\b\b\b\b\b\b\b\b\b\b\b\b\b\b\b\b\b\b\b\b\b\b\b\b\b\b\b\b\b\b\b\b\b\b\b\r12/12 [==============================] - 1s 52ms/step - loss: 783.4669 - mae: 783.4669 - mse: 1845801.1250 - val_loss: 845.7823 - val_mae: 845.7823 - val_mse: 1586936.8750\n",
            "Epoch 21/100\n",
            "12/12 [==============================] - 0s 6ms/step - loss: 755.9076 - mae: 755.9076 - mse: 1793637.2500 - val_loss: 1116.2063 - val_mae: 1116.2063 - val_mse: 2368706.0000\n",
            "Epoch 22/100\n",
            "12/12 [==============================] - 0s 6ms/step - loss: 798.4913 - mae: 798.4913 - mse: 1991852.5000 - val_loss: 923.5013 - val_mae: 923.5013 - val_mse: 1687802.8750\n",
            "Epoch 23/100\n",
            " 1/12 [=>............................] - ETA: 0s - loss: 861.3115 - mae: 861.3115 - mse: 2178782.5000"
          ]
        },
        {
          "output_type": "stream",
          "name": "stderr",
          "text": [
            "WARNING:absl:Found untraced functions such as _update_step_xla while saving (showing 1 of 1). These functions will not be directly callable after loading.\n"
          ]
        },
        {
          "output_type": "stream",
          "name": "stdout",
          "text": [
            "\b\b\b\b\b\b\b\b\b\b\b\b\b\b\b\b\b\b\b\b\b\b\b\b\b\b\b\b\b\b\b\b\b\b\b\b\b\b\b\b\b\b\b\b\b\b\b\b\b\b\b\b\b\b\b\b\b\b\b\b\b\b\b\b\b\b\b\b\b\b\b\b\b\b\b\b\b\b\b\b\b\b\b\b\b\b\b\b\b\b\b\b\b\b\b\b\b\b\b\b\b\r12/12 [==============================] - 1s 81ms/step - loss: 733.8778 - mae: 733.8778 - mse: 1691284.1250 - val_loss: 828.5764 - val_mae: 828.5764 - val_mse: 1506725.8750\n",
            "Epoch 24/100\n",
            " 1/12 [=>............................] - ETA: 0s - loss: 872.6266 - mae: 872.6266 - mse: 2094225.8750"
          ]
        },
        {
          "output_type": "stream",
          "name": "stderr",
          "text": [
            "WARNING:absl:Found untraced functions such as _update_step_xla while saving (showing 1 of 1). These functions will not be directly callable after loading.\n"
          ]
        },
        {
          "output_type": "stream",
          "name": "stdout",
          "text": [
            "\b\b\b\b\b\b\b\b\b\b\b\b\b\b\b\b\b\b\b\b\b\b\b\b\b\b\b\b\b\b\b\b\b\b\b\b\b\b\b\b\b\b\b\b\b\b\b\b\b\b\b\b\b\b\b\b\b\b\b\b\b\b\b\b\b\b\b\b\b\b\b\b\b\b\b\b\b\b\b\b\b\b\b\b\b\b\b\b\b\b\b\b\b\b\b\b\b\b\b\b\b\r12/12 [==============================] - 1s 56ms/step - loss: 727.3846 - mae: 727.3846 - mse: 1633527.7500 - val_loss: 820.3005 - val_mae: 820.3005 - val_mse: 1470857.7500\n",
            "Epoch 25/100\n",
            " 1/12 [=>............................] - ETA: 0s - loss: 662.3562 - mae: 662.3562 - mse: 1588776.8750"
          ]
        },
        {
          "output_type": "stream",
          "name": "stderr",
          "text": [
            "WARNING:absl:Found untraced functions such as _update_step_xla while saving (showing 1 of 1). These functions will not be directly callable after loading.\n"
          ]
        },
        {
          "output_type": "stream",
          "name": "stdout",
          "text": [
            "\b\b\b\b\b\b\b\b\b\b\b\b\b\b\b\b\b\b\b\b\b\b\b\b\b\b\b\b\b\b\b\b\b\b\b\b\b\b\b\b\b\b\b\b\b\b\b\b\b\b\b\b\b\b\b\b\b\b\b\b\b\b\b\b\b\b\b\b\b\b\b\b\b\b\b\b\b\b\b\b\b\b\b\b\b\b\b\b\b\b\b\b\b\b\b\b\b\b\b\b\b\r12/12 [==============================] - 1s 58ms/step - loss: 715.5255 - mae: 715.5255 - mse: 1598273.3750 - val_loss: 812.0499 - val_mae: 812.0499 - val_mse: 1427435.0000\n",
            "Epoch 26/100\n",
            "12/12 [==============================] - 0s 7ms/step - loss: 710.4662 - mae: 710.4662 - mse: 1623182.5000 - val_loss: 815.1615 - val_mae: 815.1615 - val_mse: 1447061.0000\n",
            "Epoch 27/100\n",
            "12/12 [==============================] - 0s 7ms/step - loss: 738.0832 - mae: 738.0832 - mse: 1704491.3750 - val_loss: 993.1929 - val_mae: 993.1929 - val_mse: 1953938.5000\n",
            "Epoch 28/100\n",
            " 1/12 [=>............................] - ETA: 0s - loss: 790.2289 - mae: 790.2289 - mse: 1772419.2500"
          ]
        },
        {
          "output_type": "stream",
          "name": "stderr",
          "text": [
            "WARNING:absl:Found untraced functions such as _update_step_xla while saving (showing 1 of 1). These functions will not be directly callable after loading.\n"
          ]
        },
        {
          "output_type": "stream",
          "name": "stdout",
          "text": [
            "\b\b\b\b\b\b\b\b\b\b\b\b\b\b\b\b\b\b\b\b\b\b\b\b\b\b\b\b\b\b\b\b\b\b\b\b\b\b\b\b\b\b\b\b\b\b\b\b\b\b\b\b\b\b\b\b\b\b\b\b\b\b\b\b\b\b\b\b\b\b\b\b\b\b\b\b\b\b\b\b\b\b\b\b\b\b\b\b\b\b\b\b\b\b\b\b\b\b\b\b\b\r12/12 [==============================] - 1s 55ms/step - loss: 724.2626 - mae: 724.2626 - mse: 1631640.8750 - val_loss: 797.3529 - val_mae: 797.3529 - val_mse: 1383741.3750\n",
            "Epoch 29/100\n",
            "12/12 [==============================] - 0s 6ms/step - loss: 679.5922 - mae: 679.5922 - mse: 1496669.8750 - val_loss: 802.3469 - val_mae: 802.3469 - val_mse: 1399447.0000\n",
            "Epoch 30/100\n",
            "12/12 [==============================] - 0s 7ms/step - loss: 685.4308 - mae: 685.4308 - mse: 1529376.7500 - val_loss: 846.1733 - val_mae: 846.1733 - val_mse: 1525673.6250\n",
            "Epoch 31/100\n",
            "12/12 [==============================] - 0s 7ms/step - loss: 691.4376 - mae: 691.4376 - mse: 1514116.5000 - val_loss: 828.3522 - val_mae: 828.3522 - val_mse: 1403659.8750\n",
            "Epoch 32/100\n",
            "12/12 [==============================] - 0s 6ms/step - loss: 700.3120 - mae: 700.3120 - mse: 1530678.2500 - val_loss: 885.6303 - val_mae: 885.6303 - val_mse: 1538359.7500\n",
            "Epoch 33/100\n",
            " 1/12 [=>............................] - ETA: 0s - loss: 704.5129 - mae: 704.5129 - mse: 1485047.5000"
          ]
        },
        {
          "output_type": "stream",
          "name": "stderr",
          "text": [
            "WARNING:absl:Found untraced functions such as _update_step_xla while saving (showing 1 of 1). These functions will not be directly callable after loading.\n"
          ]
        },
        {
          "output_type": "stream",
          "name": "stdout",
          "text": [
            "\b\b\b\b\b\b\b\b\b\b\b\b\b\b\b\b\b\b\b\b\b\b\b\b\b\b\b\b\b\b\b\b\b\b\b\b\b\b\b\b\b\b\b\b\b\b\b\b\b\b\b\b\b\b\b\b\b\b\b\b\b\b\b\b\b\b\b\b\b\b\b\b\b\b\b\b\b\b\b\b\b\b\b\b\b\b\b\b\b\b\b\b\b\b\b\b\b\b\b\b\b\r12/12 [==============================] - 1s 53ms/step - loss: 687.3022 - mae: 687.3022 - mse: 1463777.5000 - val_loss: 785.1996 - val_mae: 785.1996 - val_mse: 1344248.3750\n",
            "Epoch 34/100\n",
            " 1/12 [=>............................] - ETA: 0s - loss: 739.5134 - mae: 739.5134 - mse: 1744937.7500"
          ]
        },
        {
          "output_type": "stream",
          "name": "stderr",
          "text": [
            "WARNING:absl:Found untraced functions such as _update_step_xla while saving (showing 1 of 1). These functions will not be directly callable after loading.\n"
          ]
        },
        {
          "output_type": "stream",
          "name": "stdout",
          "text": [
            "\b\b\b\b\b\b\b\b\b\b\b\b\b\b\b\b\b\b\b\b\b\b\b\b\b\b\b\b\b\b\b\b\b\b\b\b\b\b\b\b\b\b\b\b\b\b\b\b\b\b\b\b\b\b\b\b\b\b\b\b\b\b\b\b\b\b\b\b\b\b\b\b\b\b\b\b\b\b\b\b\b\b\b\b\b\b\b\b\b\b\b\b\b\b\b\b\b\b\b\b\b\r12/12 [==============================] - 1s 55ms/step - loss: 656.4046 - mae: 656.4046 - mse: 1405679.1250 - val_loss: 765.7117 - val_mae: 765.7117 - val_mse: 1279942.1250\n",
            "Epoch 35/100\n",
            "12/12 [==============================] - 0s 6ms/step - loss: 648.4818 - mae: 648.4818 - mse: 1385818.3750 - val_loss: 870.9295 - val_mae: 870.9295 - val_mse: 1588332.6250\n",
            "Epoch 36/100\n",
            "12/12 [==============================] - 0s 6ms/step - loss: 688.1453 - mae: 688.1453 - mse: 1517558.1250 - val_loss: 774.7577 - val_mae: 774.7577 - val_mse: 1313109.0000\n",
            "Epoch 37/100\n",
            " 1/12 [=>............................] - ETA: 0s - loss: 711.7762 - mae: 711.7762 - mse: 1645574.2500"
          ]
        },
        {
          "output_type": "stream",
          "name": "stderr",
          "text": [
            "WARNING:absl:Found untraced functions such as _update_step_xla while saving (showing 1 of 1). These functions will not be directly callable after loading.\n"
          ]
        },
        {
          "output_type": "stream",
          "name": "stdout",
          "text": [
            "\b\b\b\b\b\b\b\b\b\b\b\b\b\b\b\b\b\b\b\b\b\b\b\b\b\b\b\b\b\b\b\b\b\b\b\b\b\b\b\b\b\b\b\b\b\b\b\b\b\b\b\b\b\b\b\b\b\b\b\b\b\b\b\b\b\b\b\b\b\b\b\b\b\b\b\b\b\b\b\b\b\b\b\b\b\b\b\b\b\b\b\b\b\b\b\b\b\b\b\b\b\r12/12 [==============================] - 1s 53ms/step - loss: 661.2753 - mae: 661.2753 - mse: 1414736.5000 - val_loss: 754.3983 - val_mae: 754.3983 - val_mse: 1256536.1250\n",
            "Epoch 38/100\n",
            " 1/12 [=>............................] - ETA: 0s - loss: 630.0094 - mae: 630.0094 - mse: 1012514.6875"
          ]
        },
        {
          "output_type": "stream",
          "name": "stderr",
          "text": [
            "WARNING:absl:Found untraced functions such as _update_step_xla while saving (showing 1 of 1). These functions will not be directly callable after loading.\n"
          ]
        },
        {
          "output_type": "stream",
          "name": "stdout",
          "text": [
            "\b\b\b\b\b\b\b\b\b\b\b\b\b\b\b\b\b\b\b\b\b\b\b\b\b\b\b\b\b\b\b\b\b\b\b\b\b\b\b\b\b\b\b\b\b\b\b\b\b\b\b\b\b\b\b\b\b\b\b\b\b\b\b\b\b\b\b\b\b\b\b\b\b\b\b\b\b\b\b\b\b\b\b\b\b\b\b\b\b\b\b\b\b\b\b\b\b\b\b\b\b\r12/12 [==============================] - 1s 56ms/step - loss: 641.2329 - mae: 641.2329 - mse: 1340046.5000 - val_loss: 746.5060 - val_mae: 746.5060 - val_mse: 1231372.5000\n",
            "Epoch 39/100\n",
            "12/12 [==============================] - 0s 6ms/step - loss: 644.8687 - mae: 644.8687 - mse: 1367105.2500 - val_loss: 783.0237 - val_mae: 783.0237 - val_mse: 1282382.0000\n",
            "Epoch 40/100\n",
            "12/12 [==============================] - 0s 7ms/step - loss: 638.3777 - mae: 638.3777 - mse: 1288784.6250 - val_loss: 965.9017 - val_mae: 965.9017 - val_mse: 1812234.7500\n",
            "Epoch 41/100\n",
            " 1/12 [=>............................] - ETA: 0s - loss: 829.7576 - mae: 829.7576 - mse: 1861464.2500"
          ]
        },
        {
          "output_type": "stream",
          "name": "stderr",
          "text": [
            "WARNING:absl:Found untraced functions such as _update_step_xla while saving (showing 1 of 1). These functions will not be directly callable after loading.\n"
          ]
        },
        {
          "output_type": "stream",
          "name": "stdout",
          "text": [
            "\b\b\b\b\b\b\b\b\b\b\b\b\b\b\b\b\b\b\b\b\b\b\b\b\b\b\b\b\b\b\b\b\b\b\b\b\b\b\b\b\b\b\b\b\b\b\b\b\b\b\b\b\b\b\b\b\b\b\b\b\b\b\b\b\b\b\b\b\b\b\b\b\b\b\b\b\b\b\b\b\b\b\b\b\b\b\b\b\b\b\b\b\b\b\b\b\b\b\b\b\b\r12/12 [==============================] - 1s 73ms/step - loss: 694.2290 - mae: 694.2290 - mse: 1545176.8750 - val_loss: 735.8528 - val_mae: 735.8528 - val_mse: 1203531.8750\n",
            "Epoch 42/100\n",
            "12/12 [==============================] - 0s 9ms/step - loss: 671.6671 - mae: 671.6671 - mse: 1446806.2500 - val_loss: 764.1183 - val_mae: 764.1183 - val_mse: 1236046.1250\n",
            "Epoch 43/100\n",
            "12/12 [==============================] - 0s 8ms/step - loss: 653.9288 - mae: 653.9288 - mse: 1368908.0000 - val_loss: 885.7175 - val_mae: 885.7175 - val_mse: 1508230.5000\n",
            "Epoch 44/100\n",
            "12/12 [==============================] - 0s 10ms/step - loss: 704.8387 - mae: 704.8387 - mse: 1552019.2500 - val_loss: 741.4949 - val_mae: 741.4949 - val_mse: 1223258.6250\n",
            "Epoch 45/100\n",
            "12/12 [==============================] - 0s 11ms/step - loss: 639.4938 - mae: 639.4938 - mse: 1334975.8750 - val_loss: 764.3973 - val_mae: 764.3973 - val_mse: 1285541.6250\n",
            "Epoch 46/100\n",
            "12/12 [==============================] - 0s 11ms/step - loss: 668.5117 - mae: 668.5117 - mse: 1414823.5000 - val_loss: 803.1464 - val_mae: 803.1464 - val_mse: 1383064.7500\n",
            "Epoch 47/100\n",
            "12/12 [==============================] - 0s 10ms/step - loss: 671.6257 - mae: 671.6257 - mse: 1462291.3750 - val_loss: 776.5632 - val_mae: 776.5632 - val_mse: 1252183.1250\n",
            "Epoch 48/100\n",
            "12/12 [==============================] - 0s 9ms/step - loss: 668.0558 - mae: 668.0558 - mse: 1416946.6250 - val_loss: 735.9897 - val_mae: 735.9897 - val_mse: 1170692.0000\n",
            "Epoch 49/100\n",
            " 1/12 [=>............................] - ETA: 0s - loss: 648.4248 - mae: 648.4248 - mse: 1448270.7500"
          ]
        },
        {
          "output_type": "stream",
          "name": "stderr",
          "text": [
            "WARNING:absl:Found untraced functions such as _update_step_xla while saving (showing 1 of 1). These functions will not be directly callable after loading.\n"
          ]
        },
        {
          "output_type": "stream",
          "name": "stdout",
          "text": [
            "\b\b\b\b\b\b\b\b\b\b\b\b\b\b\b\b\b\b\b\b\b\b\b\b\b\b\b\b\b\b\b\b\b\b\b\b\b\b\b\b\b\b\b\b\b\b\b\b\b\b\b\b\b\b\b\b\b\b\b\b\b\b\b\b\b\b\b\b\b\b\b\b\b\b\b\b\b\b\b\b\b\b\b\b\b\b\b\b\b\b\b\b\b\b\b\b\b\b\b\b\b\r12/12 [==============================] - 1s 83ms/step - loss: 616.3851 - mae: 616.3851 - mse: 1260839.7500 - val_loss: 727.5135 - val_mae: 727.5135 - val_mse: 1185683.0000\n",
            "Epoch 50/100\n",
            " 1/12 [=>............................] - ETA: 0s - loss: 684.5685 - mae: 684.5685 - mse: 1541774.2500"
          ]
        },
        {
          "output_type": "stream",
          "name": "stderr",
          "text": [
            "WARNING:absl:Found untraced functions such as _update_step_xla while saving (showing 1 of 1). These functions will not be directly callable after loading.\n"
          ]
        },
        {
          "output_type": "stream",
          "name": "stdout",
          "text": [
            "\b\b\b\b\b\b\b\b\b\b\b\b\b\b\b\b\b\b\b\b\b\b\b\b\b\b\b\b\b\b\b\b\b\b\b\b\b\b\b\b\b\b\b\b\b\b\b\b\b\b\b\b\b\b\b\b\b\b\b\b\b\b\b\b\b\b\b\b\b\b\b\b\b\b\b\b\b\b\b\b\b\b\b\b\b\b\b\b\b\b\b\b\b\b\b\b\b\b\b\b\b\r12/12 [==============================] - 1s 54ms/step - loss: 616.3899 - mae: 616.3899 - mse: 1263508.2500 - val_loss: 726.6309 - val_mae: 726.6309 - val_mse: 1150195.5000\n",
            "Epoch 51/100\n",
            "12/12 [==============================] - 0s 8ms/step - loss: 624.4059 - mae: 624.4059 - mse: 1291170.7500 - val_loss: 820.9360 - val_mae: 820.9360 - val_mse: 1344736.8750\n",
            "Epoch 52/100\n",
            "12/12 [==============================] - 0s 6ms/step - loss: 663.8753 - mae: 663.8753 - mse: 1391565.6250 - val_loss: 791.1686 - val_mae: 791.1686 - val_mse: 1340801.3750\n",
            "Epoch 53/100\n",
            " 1/12 [=>............................] - ETA: 0s - loss: 662.2714 - mae: 662.2714 - mse: 1483465.6250"
          ]
        },
        {
          "output_type": "stream",
          "name": "stderr",
          "text": [
            "WARNING:absl:Found untraced functions such as _update_step_xla while saving (showing 1 of 1). These functions will not be directly callable after loading.\n"
          ]
        },
        {
          "output_type": "stream",
          "name": "stdout",
          "text": [
            "\b\b\b\b\b\b\b\b\b\b\b\b\b\b\b\b\b\b\b\b\b\b\b\b\b\b\b\b\b\b\b\b\b\b\b\b\b\b\b\b\b\b\b\b\b\b\b\b\b\b\b\b\b\b\b\b\b\b\b\b\b\b\b\b\b\b\b\b\b\b\b\b\b\b\b\b\b\b\b\b\b\b\b\b\b\b\b\b\b\b\b\b\b\b\b\b\b\b\b\b\b\r12/12 [==============================] - 1s 52ms/step - loss: 623.5570 - mae: 623.5570 - mse: 1236035.8750 - val_loss: 711.1670 - val_mae: 711.1670 - val_mse: 1122289.5000\n",
            "Epoch 54/100\n",
            " 1/12 [=>............................] - ETA: 0s - loss: 525.3728 - mae: 525.3728 - mse: 1005509.5625"
          ]
        },
        {
          "output_type": "stream",
          "name": "stderr",
          "text": [
            "WARNING:absl:Found untraced functions such as _update_step_xla while saving (showing 1 of 1). These functions will not be directly callable after loading.\n"
          ]
        },
        {
          "output_type": "stream",
          "name": "stdout",
          "text": [
            "\b\b\b\b\b\b\b\b\b\b\b\b\b\b\b\b\b\b\b\b\b\b\b\b\b\b\b\b\b\b\b\b\b\b\b\b\b\b\b\b\b\b\b\b\b\b\b\b\b\b\b\b\b\b\b\b\b\b\b\b\b\b\b\b\b\b\b\b\b\b\b\b\b\b\b\b\b\b\b\b\b\b\b\b\b\b\b\b\b\b\b\b\b\b\b\b\b\b\b\b\b\r12/12 [==============================] - 1s 52ms/step - loss: 634.1666 - mae: 634.1666 - mse: 1317892.0000 - val_loss: 707.9574 - val_mae: 707.9574 - val_mse: 1133996.5000\n",
            "Epoch 55/100\n",
            "12/12 [==============================] - 0s 6ms/step - loss: 612.2446 - mae: 612.2446 - mse: 1223310.5000 - val_loss: 847.3941 - val_mae: 847.3941 - val_mse: 1473050.8750\n",
            "Epoch 56/100\n",
            "12/12 [==============================] - 0s 7ms/step - loss: 641.1147 - mae: 641.1147 - mse: 1366874.3750 - val_loss: 720.6240 - val_mae: 720.6240 - val_mse: 1169080.3750\n",
            "Epoch 57/100\n",
            "12/12 [==============================] - 0s 7ms/step - loss: 618.0776 - mae: 618.0776 - mse: 1250442.3750 - val_loss: 980.1735 - val_mae: 980.1735 - val_mse: 1795873.7500\n",
            "Epoch 58/100\n",
            "12/12 [==============================] - 0s 6ms/step - loss: 668.3470 - mae: 668.3470 - mse: 1397361.2500 - val_loss: 860.2003 - val_mae: 860.2003 - val_mse: 1418537.5000\n",
            "Epoch 59/100\n",
            "12/12 [==============================] - 0s 7ms/step - loss: 656.7609 - mae: 656.7609 - mse: 1321782.2500 - val_loss: 892.0355 - val_mae: 892.0355 - val_mse: 1490895.2500\n",
            "Epoch 60/100\n",
            " 1/12 [=>............................] - ETA: 0s - loss: 723.5616 - mae: 723.5616 - mse: 1333012.7500"
          ]
        },
        {
          "output_type": "stream",
          "name": "stderr",
          "text": [
            "WARNING:absl:Found untraced functions such as _update_step_xla while saving (showing 1 of 1). These functions will not be directly callable after loading.\n"
          ]
        },
        {
          "output_type": "stream",
          "name": "stdout",
          "text": [
            "\b\b\b\b\b\b\b\b\b\b\b\b\b\b\b\b\b\b\b\b\b\b\b\b\b\b\b\b\b\b\b\b\b\b\b\b\b\b\b\b\b\b\b\b\b\b\b\b\b\b\b\b\b\b\b\b\b\b\b\b\b\b\b\b\b\b\b\b\b\b\b\b\b\b\b\b\b\b\b\b\b\b\b\b\b\b\b\b\b\b\b\b\b\b\b\b\b\b\b\b\b\r12/12 [==============================] - 1s 56ms/step - loss: 696.7649 - mae: 696.7649 - mse: 1510772.5000 - val_loss: 703.3096 - val_mae: 703.3096 - val_mse: 1097910.1250\n",
            "Epoch 61/100\n",
            " 1/12 [=>............................] - ETA: 0s - loss: 505.7295 - mae: 505.7295 - mse: 833359.1250"
          ]
        },
        {
          "output_type": "stream",
          "name": "stderr",
          "text": [
            "WARNING:absl:Found untraced functions such as _update_step_xla while saving (showing 1 of 1). These functions will not be directly callable after loading.\n"
          ]
        },
        {
          "output_type": "stream",
          "name": "stdout",
          "text": [
            "\b\b\b\b\b\b\b\b\b\b\b\b\b\b\b\b\b\b\b\b\b\b\b\b\b\b\b\b\b\b\b\b\b\b\b\b\b\b\b\b\b\b\b\b\b\b\b\b\b\b\b\b\b\b\b\b\b\b\b\b\b\b\b\b\b\b\b\b\b\b\b\b\b\b\b\b\b\b\b\b\b\b\b\b\b\b\b\b\b\b\b\b\b\b\b\b\b\b\b\b\r12/12 [==============================] - 1s 51ms/step - loss: 629.0453 - mae: 629.0453 - mse: 1329374.8750 - val_loss: 693.2790 - val_mae: 693.2790 - val_mse: 1097166.0000\n",
            "Epoch 62/100\n",
            "12/12 [==============================] - 0s 6ms/step - loss: 616.2230 - mae: 616.2230 - mse: 1278255.0000 - val_loss: 697.2537 - val_mae: 697.2537 - val_mse: 1087368.7500\n",
            "Epoch 63/100\n",
            " 1/12 [=>............................] - ETA: 0s - loss: 561.5380 - mae: 561.5380 - mse: 1227937.7500"
          ]
        },
        {
          "output_type": "stream",
          "name": "stderr",
          "text": [
            "WARNING:absl:Found untraced functions such as _update_step_xla while saving (showing 1 of 1). These functions will not be directly callable after loading.\n"
          ]
        },
        {
          "output_type": "stream",
          "name": "stdout",
          "text": [
            "\b\b\b\b\b\b\b\b\b\b\b\b\b\b\b\b\b\b\b\b\b\b\b\b\b\b\b\b\b\b\b\b\b\b\b\b\b\b\b\b\b\b\b\b\b\b\b\b\b\b\b\b\b\b\b\b\b\b\b\b\b\b\b\b\b\b\b\b\b\b\b\b\b\b\b\b\b\b\b\b\b\b\b\b\b\b\b\b\b\b\b\b\b\b\b\b\b\b\b\b\b\r12/12 [==============================] - 1s 55ms/step - loss: 597.0812 - mae: 597.0812 - mse: 1195681.7500 - val_loss: 690.5627 - val_mae: 690.5627 - val_mse: 1091284.5000\n",
            "Epoch 64/100\n",
            " 1/12 [=>............................] - ETA: 0s - loss: 694.3340 - mae: 694.3340 - mse: 1626281.2500"
          ]
        },
        {
          "output_type": "stream",
          "name": "stderr",
          "text": [
            "WARNING:absl:Found untraced functions such as _update_step_xla while saving (showing 1 of 1). These functions will not be directly callable after loading.\n"
          ]
        },
        {
          "output_type": "stream",
          "name": "stdout",
          "text": [
            "\b\b\b\b\b\b\b\b\b\b\b\b\b\b\b\b\b\b\b\b\b\b\b\b\b\b\b\b\b\b\b\b\b\b\b\b\b\b\b\b\b\b\b\b\b\b\b\b\b\b\b\b\b\b\b\b\b\b\b\b\b\b\b\b\b\b\b\b\b\b\b\b\b\b\b\b\b\b\b\b\b\b\b\b\b\b\b\b\b\b\b\b\b\b\b\b\b\b\b\b\b\r12/12 [==============================] - 1s 80ms/step - loss: 596.3945 - mae: 596.3945 - mse: 1213125.5000 - val_loss: 686.7144 - val_mae: 686.7144 - val_mse: 1081207.5000\n",
            "Epoch 65/100\n",
            "12/12 [==============================] - 0s 8ms/step - loss: 591.1841 - mae: 591.1841 - mse: 1170018.5000 - val_loss: 728.0133 - val_mae: 728.0133 - val_mse: 1132249.6250\n",
            "Epoch 66/100\n",
            "12/12 [==============================] - 0s 7ms/step - loss: 627.1296 - mae: 627.1296 - mse: 1243155.7500 - val_loss: 778.2977 - val_mae: 778.2977 - val_mse: 1231906.5000\n",
            "Epoch 67/100\n",
            "12/12 [==============================] - 0s 6ms/step - loss: 620.1213 - mae: 620.1213 - mse: 1240028.6250 - val_loss: 779.7551 - val_mae: 779.7551 - val_mse: 1233629.6250\n",
            "Epoch 68/100\n",
            " 1/12 [=>............................] - ETA: 0s - loss: 752.5000 - mae: 752.5000 - mse: 1814996.0000"
          ]
        },
        {
          "output_type": "stream",
          "name": "stderr",
          "text": [
            "WARNING:absl:Found untraced functions such as _update_step_xla while saving (showing 1 of 1). These functions will not be directly callable after loading.\n"
          ]
        },
        {
          "output_type": "stream",
          "name": "stdout",
          "text": [
            "\b\b\b\b\b\b\b\b\b\b\b\b\b\b\b\b\b\b\b\b\b\b\b\b\b\b\b\b\b\b\b\b\b\b\b\b\b\b\b\b\b\b\b\b\b\b\b\b\b\b\b\b\b\b\b\b\b\b\b\b\b\b\b\b\b\b\b\b\b\b\b\b\b\b\b\b\b\b\b\b\b\b\b\b\b\b\b\b\b\b\b\b\b\b\b\b\b\b\b\b\b\r12/12 [==============================] - 1s 55ms/step - loss: 616.6928 - mae: 616.6928 - mse: 1249881.2500 - val_loss: 680.2090 - val_mae: 680.2090 - val_mse: 1059978.8750\n",
            "Epoch 69/100\n",
            "12/12 [==============================] - 0s 7ms/step - loss: 587.7157 - mae: 587.7157 - mse: 1160700.6250 - val_loss: 711.3616 - val_mae: 711.3616 - val_mse: 1142466.8750\n",
            "Epoch 70/100\n",
            "12/12 [==============================] - 0s 7ms/step - loss: 586.3961 - mae: 586.3961 - mse: 1170005.6250 - val_loss: 711.8177 - val_mae: 711.8177 - val_mse: 1098993.7500\n",
            "Epoch 71/100\n",
            "12/12 [==============================] - 0s 7ms/step - loss: 591.8580 - mae: 591.8580 - mse: 1183012.8750 - val_loss: 703.8903 - val_mae: 703.8903 - val_mse: 1124660.6250\n",
            "Epoch 72/100\n",
            "12/12 [==============================] - 0s 8ms/step - loss: 584.6611 - mae: 584.6611 - mse: 1147687.0000 - val_loss: 688.0602 - val_mae: 688.0602 - val_mse: 1088369.2500\n",
            "Epoch 73/100\n",
            "12/12 [==============================] - 0s 8ms/step - loss: 578.3108 - mae: 578.3108 - mse: 1136246.2500 - val_loss: 697.1843 - val_mae: 697.1843 - val_mse: 1110099.5000\n",
            "Epoch 74/100\n",
            " 1/12 [=>............................] - ETA: 0s - loss: 549.3279 - mae: 549.3279 - mse: 1263654.5000"
          ]
        },
        {
          "output_type": "stream",
          "name": "stderr",
          "text": [
            "WARNING:absl:Found untraced functions such as _update_step_xla while saving (showing 1 of 1). These functions will not be directly callable after loading.\n"
          ]
        },
        {
          "output_type": "stream",
          "name": "stdout",
          "text": [
            "\b\b\b\b\b\b\b\b\b\b\b\b\b\b\b\b\b\b\b\b\b\b\b\b\b\b\b\b\b\b\b\b\b\b\b\b\b\b\b\b\b\b\b\b\b\b\b\b\b\b\b\b\b\b\b\b\b\b\b\b\b\b\b\b\b\b\b\b\b\b\b\b\b\b\b\b\b\b\b\b\b\b\b\b\b\b\b\b\b\b\b\b\b\b\b\b\b\b\b\b\b\r12/12 [==============================] - 1s 56ms/step - loss: 590.9444 - mae: 590.9444 - mse: 1189539.8750 - val_loss: 671.6310 - val_mae: 671.6310 - val_mse: 1045544.7500\n",
            "Epoch 75/100\n",
            " 1/12 [=>............................] - ETA: 0s - loss: 499.5615 - mae: 499.5615 - mse: 886440.6875"
          ]
        },
        {
          "output_type": "stream",
          "name": "stderr",
          "text": [
            "WARNING:absl:Found untraced functions such as _update_step_xla while saving (showing 1 of 1). These functions will not be directly callable after loading.\n"
          ]
        },
        {
          "output_type": "stream",
          "name": "stdout",
          "text": [
            "\b\b\b\b\b\b\b\b\b\b\b\b\b\b\b\b\b\b\b\b\b\b\b\b\b\b\b\b\b\b\b\b\b\b\b\b\b\b\b\b\b\b\b\b\b\b\b\b\b\b\b\b\b\b\b\b\b\b\b\b\b\b\b\b\b\b\b\b\b\b\b\b\b\b\b\b\b\b\b\b\b\b\b\b\b\b\b\b\b\b\b\b\b\b\b\b\b\b\b\b\r12/12 [==============================] - 1s 56ms/step - loss: 593.5516 - mae: 593.5516 - mse: 1167291.6250 - val_loss: 669.9801 - val_mae: 669.9801 - val_mse: 1039402.4375\n",
            "Epoch 76/100\n",
            "12/12 [==============================] - 0s 6ms/step - loss: 622.5386 - mae: 622.5386 - mse: 1280987.0000 - val_loss: 674.0046 - val_mae: 674.0046 - val_mse: 1037970.5625\n",
            "Epoch 77/100\n",
            "12/12 [==============================] - 0s 8ms/step - loss: 600.8257 - mae: 600.8257 - mse: 1188997.3750 - val_loss: 754.5823 - val_mae: 754.5823 - val_mse: 1231214.0000\n",
            "Epoch 78/100\n",
            "12/12 [==============================] - 0s 7ms/step - loss: 583.7249 - mae: 583.7249 - mse: 1144973.0000 - val_loss: 679.3086 - val_mae: 679.3086 - val_mse: 1042437.3750\n",
            "Epoch 79/100\n",
            "12/12 [==============================] - 0s 6ms/step - loss: 585.4357 - mae: 585.4357 - mse: 1170932.6250 - val_loss: 684.0993 - val_mae: 684.0993 - val_mse: 1080057.8750\n",
            "Epoch 80/100\n",
            "12/12 [==============================] - 0s 6ms/step - loss: 577.5067 - mae: 577.5067 - mse: 1127725.5000 - val_loss: 690.8035 - val_mae: 690.8035 - val_mse: 1095762.7500\n",
            "Epoch 81/100\n",
            "12/12 [==============================] - 0s 7ms/step - loss: 576.6605 - mae: 576.6605 - mse: 1132467.0000 - val_loss: 698.6247 - val_mae: 698.6247 - val_mse: 1068086.7500\n",
            "Epoch 82/100\n",
            "12/12 [==============================] - 0s 6ms/step - loss: 615.9741 - mae: 615.9741 - mse: 1220446.8750 - val_loss: 683.0618 - val_mae: 683.0618 - val_mse: 1043320.6250\n",
            "Epoch 83/100\n",
            "12/12 [==============================] - 0s 7ms/step - loss: 618.2053 - mae: 618.2053 - mse: 1248341.0000 - val_loss: 706.4840 - val_mae: 706.4840 - val_mse: 1079626.0000\n",
            "Epoch 84/100\n",
            "12/12 [==============================] - 0s 7ms/step - loss: 622.2950 - mae: 622.2950 - mse: 1240911.0000 - val_loss: 672.9283 - val_mae: 672.9283 - val_mse: 1027857.9375\n",
            "Epoch 85/100\n",
            " 1/12 [=>............................] - ETA: 0s - loss: 603.0453 - mae: 603.0453 - mse: 1171766.5000"
          ]
        },
        {
          "output_type": "stream",
          "name": "stderr",
          "text": [
            "WARNING:absl:Found untraced functions such as _update_step_xla while saving (showing 1 of 1). These functions will not be directly callable after loading.\n"
          ]
        },
        {
          "output_type": "stream",
          "name": "stdout",
          "text": [
            "\b\b\b\b\b\b\b\b\b\b\b\b\b\b\b\b\b\b\b\b\b\b\b\b\b\b\b\b\b\b\b\b\b\b\b\b\b\b\b\b\b\b\b\b\b\b\b\b\b\b\b\b\b\b\b\b\b\b\b\b\b\b\b\b\b\b\b\b\b\b\b\b\b\b\b\b\b\b\b\b\b\b\b\b\b\b\b\b\b\b\b\b\b\b\b\b\b\b\b\b\b\r12/12 [==============================] - 1s 55ms/step - loss: 575.5609 - mae: 575.5609 - mse: 1148688.2500 - val_loss: 659.1550 - val_mae: 659.1550 - val_mse: 1022076.4375\n",
            "Epoch 86/100\n",
            "12/12 [==============================] - 0s 6ms/step - loss: 591.7003 - mae: 591.7003 - mse: 1172677.7500 - val_loss: 734.2969 - val_mae: 734.2969 - val_mse: 1127896.6250\n",
            "Epoch 87/100\n",
            "12/12 [==============================] - 0s 8ms/step - loss: 675.8021 - mae: 675.8021 - mse: 1438598.8750 - val_loss: 938.4437 - val_mae: 938.4437 - val_mse: 1575133.7500\n",
            "Epoch 88/100\n",
            "12/12 [==============================] - 0s 6ms/step - loss: 620.3893 - mae: 620.3893 - mse: 1248064.3750 - val_loss: 690.3710 - val_mae: 690.3710 - val_mse: 1051295.8750\n",
            "Epoch 89/100\n",
            "12/12 [==============================] - 0s 6ms/step - loss: 664.7858 - mae: 664.7858 - mse: 1372339.5000 - val_loss: 893.7169 - val_mae: 893.7169 - val_mse: 1532097.8750\n",
            "Epoch 90/100\n",
            "12/12 [==============================] - 0s 7ms/step - loss: 596.2896 - mae: 596.2896 - mse: 1145757.7500 - val_loss: 736.3285 - val_mae: 736.3285 - val_mse: 1185047.8750\n",
            "Epoch 91/100\n",
            "12/12 [==============================] - 0s 7ms/step - loss: 581.7529 - mae: 581.7529 - mse: 1157123.5000 - val_loss: 661.7729 - val_mae: 661.7729 - val_mse: 1009438.3125\n",
            "Epoch 92/100\n",
            " 1/12 [=>............................] - ETA: 0s - loss: 595.9822 - mae: 595.9822 - mse: 1188880.5000"
          ]
        },
        {
          "output_type": "stream",
          "name": "stderr",
          "text": [
            "WARNING:absl:Found untraced functions such as _update_step_xla while saving (showing 1 of 1). These functions will not be directly callable after loading.\n"
          ]
        },
        {
          "output_type": "stream",
          "name": "stdout",
          "text": [
            "\b\b\b\b\b\b\b\b\b\b\b\b\b\b\b\b\b\b\b\b\b\b\b\b\b\b\b\b\b\b\b\b\b\b\b\b\b\b\b\b\b\b\b\b\b\b\b\b\b\b\b\b\b\b\b\b\b\b\b\b\b\b\b\b\b\b\b\b\b\b\b\b\b\b\b\b\b\b\b\b\b\b\b\b\b\b\b\b\b\b\b\b\b\b\b\b\b\b\b\b\b\r12/12 [==============================] - 1s 75ms/step - loss: 571.5312 - mae: 571.5312 - mse: 1116088.7500 - val_loss: 657.3171 - val_mae: 657.3171 - val_mse: 1022223.9375\n",
            "Epoch 93/100\n",
            "12/12 [==============================] - 0s 10ms/step - loss: 566.2542 - mae: 566.2542 - mse: 1118028.8750 - val_loss: 671.6350 - val_mae: 671.6350 - val_mse: 1020852.3125\n",
            "Epoch 94/100\n",
            "12/12 [==============================] - ETA: 0s - loss: 583.2045 - mae: 583.2045 - mse: 1135015.7500"
          ]
        },
        {
          "output_type": "stream",
          "name": "stderr",
          "text": [
            "WARNING:absl:Found untraced functions such as _update_step_xla while saving (showing 1 of 1). These functions will not be directly callable after loading.\n"
          ]
        },
        {
          "output_type": "stream",
          "name": "stdout",
          "text": [
            "\b\b\b\b\b\b\b\b\b\b\b\b\b\b\b\b\b\b\b\b\b\b\b\b\b\b\b\b\b\b\b\b\b\b\b\b\b\b\b\b\b\b\b\b\b\b\b\b\b\b\b\b\b\b\b\b\b\b\b\b\b\b\b\b\b\b\b\b\b\b\b\b\b\b\b\b\b\b\b\b\b\b\b\b\b\b\b\b\b\b\b\b\b\b\b\b\b\b\b\b\b\r12/12 [==============================] - 1s 84ms/step - loss: 583.2045 - mae: 583.2045 - mse: 1135015.7500 - val_loss: 653.3855 - val_mae: 653.3855 - val_mse: 1013089.7500\n",
            "Epoch 95/100\n",
            "12/12 [==============================] - 0s 10ms/step - loss: 582.8710 - mae: 582.8710 - mse: 1132780.6250 - val_loss: 683.1331 - val_mae: 683.1331 - val_mse: 1077054.5000\n",
            "Epoch 96/100\n",
            "12/12 [==============================] - 0s 9ms/step - loss: 575.7724 - mae: 575.7724 - mse: 1121211.6250 - val_loss: 858.6323 - val_mae: 858.6323 - val_mse: 1443292.3750\n",
            "Epoch 97/100\n",
            "12/12 [==============================] - 0s 11ms/step - loss: 597.5295 - mae: 597.5295 - mse: 1199793.1250 - val_loss: 719.9324 - val_mae: 719.9324 - val_mse: 1149745.7500\n",
            "Epoch 98/100\n",
            "12/12 [==============================] - 0s 10ms/step - loss: 568.6364 - mae: 568.6364 - mse: 1096448.6250 - val_loss: 713.7961 - val_mae: 713.7961 - val_mse: 1085317.3750\n",
            "Epoch 99/100\n",
            "12/12 [==============================] - 0s 7ms/step - loss: 581.0914 - mae: 581.0914 - mse: 1127735.2500 - val_loss: 698.7658 - val_mae: 698.7658 - val_mse: 1059654.3750\n",
            "Epoch 100/100\n",
            "12/12 [==============================] - 0s 6ms/step - loss: 596.1476 - mae: 596.1476 - mse: 1177769.7500 - val_loss: 725.7393 - val_mae: 725.7393 - val_mse: 1106291.7500\n",
            "12/12 [==============================] - 0s 3ms/step - loss: 725.7393 - mae: 725.7393 - mse: 1106292.1250\n"
          ]
        },
        {
          "output_type": "execute_result",
          "data": {
            "text/plain": [
              "[725.7393188476562, 725.7393188476562, 1106292.125]"
            ]
          },
          "metadata": {},
          "execution_count": 28
        }
      ]
    },
    {
      "cell_type": "markdown",
      "source": [
        "Re-load the best weights (stored with ModelCheckpoint) and evaluate the model"
      ],
      "metadata": {
        "id": "0bPr1igHdJsQ"
      }
    },
    {
      "cell_type": "code",
      "source": [
        "# load in saved best-performing model and evaluate it on test data\n",
        "model_BTC_DOGE = tf.keras.models.load_model(\"model_experiments/model_BTC_DOGE/\")\n",
        "model_BTC_DOGE.evaluate(X_test_multi,y_test_multi)\n",
        "\n",
        "model_BTC_DOGE_preds = make_preds(model_BTC_DOGE,X_test_multi)\n",
        "model_BTC_DOGE_results = evaluate_preds(y_true=tf.squeeze(y_test_multi),\n",
        "                                        y_pred=model_BTC_DOGE_preds)\n",
        "\n",
        "model_BTC_DOGE_results"
      ],
      "metadata": {
        "colab": {
          "base_uri": "https://localhost:8080/"
        },
        "id": "kORTgSMfdIp9",
        "outputId": "0e9ebfec-04d4-4476-e0aa-dd052781f9d8"
      },
      "execution_count": 29,
      "outputs": [
        {
          "output_type": "stream",
          "name": "stdout",
          "text": [
            "12/12 [==============================] - 0s 3ms/step - loss: 653.3856 - mae: 653.3856 - mse: 1013090.0625\n",
            "12/12 [==============================] - 0s 2ms/step\n"
          ]
        },
        {
          "output_type": "execute_result",
          "data": {
            "text/plain": [
              "{'MAE': 653.3856,\n",
              " 'MAPE': 2.3893068,\n",
              " 'MASE': 1.0761949,\n",
              " 'MSE': 1013090.0,\n",
              " 'RMSE': 1006.5237}"
            ]
          },
          "metadata": {},
          "execution_count": 29
        }
      ]
    },
    {
      "cell_type": "markdown",
      "source": [
        "## BTC price forecasting (with model retraining)\n",
        "\n"
      ],
      "metadata": {
        "id": "9O9zLKnpgxjk"
      }
    },
    {
      "cell_type": "markdown",
      "source": [
        "Design and compile a simple model"
      ],
      "metadata": {
        "id": "hQHEkHIkiGQQ"
      }
    },
    {
      "cell_type": "code",
      "source": [
        "forecast_model = tf.keras.models.Sequential([\n",
        "    layers.Dense(128,kernel_initializer=\"he_normal\",activation=\"relu\"),\n",
        "    layers.Dense(128,kernel_initializer=\"he_normal\",activation=\"relu\"),\n",
        "    layers.Dense(HORIZON)\n",
        "],name=\"forecast_model\")\n",
        "\n",
        "forecast_model.compile(loss=\"mae\",\n",
        "                       optimizer=tf.keras.optimizers.Adam(),\n",
        "                       metrics=[\"mae\"])"
      ],
      "metadata": {
        "id": "UhscGjrYg07q"
      },
      "execution_count": 30,
      "outputs": []
    },
    {
      "cell_type": "markdown",
      "source": [
        "Create a function to call to iteratively predict to a specified forecast depth"
      ],
      "metadata": {
        "id": "QREmpq2miPLz"
      }
    },
    {
      "cell_type": "code",
      "source": [
        "def make_forecasts_retraining(model,data_input,forecast_depth,window_size=WINDOW_SIZE,horizon=1,epochs=100):\n",
        "  # take in the model\n",
        "  projection_record = data_input\n",
        "\n",
        "  for i in range(forecast_depth):\n",
        "    # recalculate all windows and labels\n",
        "    all_windows,all_labels = make_windows(projection_record,window_size=window_size,horizon=horizon)\n",
        "\n",
        "    # make combined dataset\n",
        "    all_dataset_windows = tf.data.Dataset.from_tensor_slices(all_windows)\n",
        "    all_dataset_labels = tf.data.Dataset.from_tensor_slices(all_labels)\n",
        "    all_dataset = tf.data.Dataset.zip((all_dataset_windows,all_dataset_labels)) \n",
        "    all_dataset = all_dataset.batch(128).prefetch(tf.data.AUTOTUNE)\n",
        "\n",
        "    # train the model on all of the data\n",
        "    model.fit(all_dataset,\n",
        "              epochs=epochs,\n",
        "              verbose=0)\n",
        "\n",
        "    # predict next value based on last WINDOW_SIZE price values\n",
        "    predictor_window = projection_record[-WINDOW_SIZE:]\n",
        "    next_prediction = model.predict(tf.expand_dims(predictor_window,axis=0))\n",
        "\n",
        "    # add predicted price value to end of price list\n",
        "    projection_record = np.append(projection_record,next_prediction)\n",
        "  return projection_record"
      ],
      "metadata": {
        "id": "s6OCa-31hFKH"
      },
      "execution_count": 31,
      "outputs": []
    },
    {
      "cell_type": "markdown",
      "source": [
        "Predict to a specified forecast depth and view the result"
      ],
      "metadata": {
        "id": "ySvKaBI9iV4e"
      }
    },
    {
      "cell_type": "code",
      "source": [
        "projection_record = make_forecasts_retraining(model=forecast_model,\n",
        "                                              data_input=prices,\n",
        "                                              forecast_depth=100)"
      ],
      "metadata": {
        "colab": {
          "base_uri": "https://localhost:8080/"
        },
        "id": "5N10Ru9QhGxg",
        "outputId": "cde4a8ad-256e-41df-be66-2126bc1a5e1f"
      },
      "execution_count": 32,
      "outputs": [
        {
          "output_type": "stream",
          "name": "stdout",
          "text": [
            "1/1 [==============================] - 0s 54ms/step\n",
            "1/1 [==============================] - 0s 18ms/step\n",
            "1/1 [==============================] - 0s 18ms/step\n",
            "1/1 [==============================] - 0s 18ms/step\n",
            "1/1 [==============================] - 0s 18ms/step\n",
            "1/1 [==============================] - 0s 19ms/step\n",
            "1/1 [==============================] - 0s 28ms/step\n",
            "1/1 [==============================] - 0s 22ms/step\n",
            "1/1 [==============================] - 0s 20ms/step\n",
            "1/1 [==============================] - 0s 20ms/step\n",
            "1/1 [==============================] - 0s 28ms/step\n",
            "1/1 [==============================] - 0s 36ms/step\n",
            "1/1 [==============================] - 0s 23ms/step\n",
            "1/1 [==============================] - 0s 21ms/step\n",
            "1/1 [==============================] - 0s 23ms/step\n",
            "1/1 [==============================] - 0s 21ms/step\n",
            "1/1 [==============================] - 0s 33ms/step\n",
            "1/1 [==============================] - 0s 20ms/step\n",
            "1/1 [==============================] - 0s 21ms/step\n",
            "1/1 [==============================] - 0s 20ms/step\n",
            "1/1 [==============================] - 0s 20ms/step\n",
            "1/1 [==============================] - 0s 23ms/step\n",
            "1/1 [==============================] - 0s 20ms/step\n",
            "1/1 [==============================] - 0s 22ms/step\n",
            "1/1 [==============================] - 0s 20ms/step\n",
            "1/1 [==============================] - 0s 21ms/step\n",
            "1/1 [==============================] - 0s 24ms/step\n",
            "1/1 [==============================] - 0s 19ms/step\n",
            "1/1 [==============================] - 0s 21ms/step\n",
            "1/1 [==============================] - 0s 23ms/step\n",
            "1/1 [==============================] - 0s 21ms/step\n",
            "1/1 [==============================] - 0s 23ms/step\n",
            "1/1 [==============================] - 0s 23ms/step\n",
            "1/1 [==============================] - 0s 33ms/step\n",
            "1/1 [==============================] - 0s 21ms/step\n",
            "1/1 [==============================] - 0s 21ms/step\n",
            "1/1 [==============================] - 0s 23ms/step\n",
            "1/1 [==============================] - 0s 21ms/step\n",
            "1/1 [==============================] - 0s 20ms/step\n",
            "1/1 [==============================] - 0s 22ms/step\n",
            "1/1 [==============================] - 0s 20ms/step\n",
            "1/1 [==============================] - 0s 20ms/step\n",
            "1/1 [==============================] - 0s 23ms/step\n",
            "1/1 [==============================] - 0s 24ms/step\n",
            "1/1 [==============================] - 0s 20ms/step\n",
            "1/1 [==============================] - 0s 21ms/step\n",
            "1/1 [==============================] - 0s 20ms/step\n",
            "1/1 [==============================] - 0s 23ms/step\n",
            "1/1 [==============================] - 0s 28ms/step\n",
            "1/1 [==============================] - 0s 20ms/step\n",
            "1/1 [==============================] - 0s 23ms/step\n",
            "1/1 [==============================] - 0s 20ms/step\n",
            "1/1 [==============================] - 0s 20ms/step\n",
            "1/1 [==============================] - 0s 20ms/step\n",
            "1/1 [==============================] - 0s 22ms/step\n",
            "1/1 [==============================] - 0s 20ms/step\n",
            "1/1 [==============================] - 0s 32ms/step\n",
            "1/1 [==============================] - 0s 22ms/step\n",
            "1/1 [==============================] - 0s 21ms/step\n",
            "1/1 [==============================] - 0s 22ms/step\n",
            "1/1 [==============================] - 0s 20ms/step\n",
            "1/1 [==============================] - 0s 21ms/step\n",
            "1/1 [==============================] - 0s 20ms/step\n",
            "1/1 [==============================] - 0s 20ms/step\n",
            "1/1 [==============================] - 0s 21ms/step\n",
            "1/1 [==============================] - 0s 20ms/step\n",
            "1/1 [==============================] - 0s 20ms/step\n",
            "1/1 [==============================] - 0s 41ms/step\n",
            "1/1 [==============================] - 0s 21ms/step\n",
            "1/1 [==============================] - 0s 21ms/step\n",
            "1/1 [==============================] - 0s 20ms/step\n",
            "1/1 [==============================] - 0s 20ms/step\n",
            "1/1 [==============================] - 0s 20ms/step\n",
            "1/1 [==============================] - 0s 20ms/step\n",
            "1/1 [==============================] - 0s 20ms/step\n",
            "1/1 [==============================] - 0s 22ms/step\n",
            "1/1 [==============================] - 0s 24ms/step\n",
            "1/1 [==============================] - 0s 21ms/step\n",
            "1/1 [==============================] - 0s 22ms/step\n",
            "1/1 [==============================] - 0s 21ms/step\n",
            "1/1 [==============================] - 0s 31ms/step\n",
            "1/1 [==============================] - 0s 22ms/step\n",
            "1/1 [==============================] - 0s 22ms/step\n",
            "1/1 [==============================] - 0s 20ms/step\n",
            "1/1 [==============================] - 0s 20ms/step\n",
            "1/1 [==============================] - 0s 22ms/step\n",
            "1/1 [==============================] - 0s 22ms/step\n",
            "1/1 [==============================] - 0s 21ms/step\n",
            "1/1 [==============================] - 0s 20ms/step\n",
            "1/1 [==============================] - 0s 22ms/step\n",
            "1/1 [==============================] - 0s 22ms/step\n",
            "1/1 [==============================] - 0s 20ms/step\n",
            "1/1 [==============================] - 0s 20ms/step\n",
            "1/1 [==============================] - 0s 32ms/step\n",
            "1/1 [==============================] - 0s 22ms/step\n",
            "1/1 [==============================] - 0s 30ms/step\n",
            "1/1 [==============================] - 0s 22ms/step\n",
            "1/1 [==============================] - 0s 21ms/step\n",
            "1/1 [==============================] - 0s 22ms/step\n",
            "1/1 [==============================] - 0s 20ms/step\n"
          ]
        }
      ]
    },
    {
      "cell_type": "code",
      "source": [
        "offset = 2500\n",
        "plt.plot(projection_record[offset:])\n",
        "plt.plot(prices[offset:])"
      ],
      "metadata": {
        "colab": {
          "base_uri": "https://localhost:8080/",
          "height": 283
        },
        "id": "SIITeFMghLK-",
        "outputId": "f8f51b93-3c39-4ead-ffe5-7e06039d7aa4"
      },
      "execution_count": 33,
      "outputs": [
        {
          "output_type": "execute_result",
          "data": {
            "text/plain": [
              "[<matplotlib.lines.Line2D at 0x7f7adc0b06a0>]"
            ]
          },
          "metadata": {},
          "execution_count": 33
        },
        {
          "output_type": "display_data",
          "data": {
            "text/plain": [
              "<Figure size 432x288 with 1 Axes>"
            ],
            "image/png": "[encoded data removed]"
          },
          "metadata": {
            "needs_background": "light"
          }
        }
      ]
    },
    {
      "cell_type": "markdown",
      "source": [
        "Compare the results to actual future data (from the up-to-date BTC price dataset)"
      ],
      "metadata": {
        "id": "f8LvW85zhW10"
      }
    },
    {
      "cell_type": "code",
      "source": [
        "# last timestep of timesteps (currently np.datetime64 format)\n",
        "last_timestep = bitcoin_prices.index[-1]\n",
        "future_dates = get_future_dates(start_date=last_timestep,\n",
        "                                into_future=100,\n",
        "                                offset=1)\n",
        "\n",
        "full_dates = np.append(timesteps,future_dates)"
      ],
      "metadata": {
        "id": "J5w6urfChtB8"
      },
      "execution_count": 36,
      "outputs": []
    },
    {
      "cell_type": "code",
      "source": [
        "plt.figure(figsize=(20,7))\n",
        "offset = 2500\n",
        "plt.plot(timesteps_up_to_date,prices_up_to_date)\n",
        "plt.plot(full_dates,projection_record)\n",
        "plt.plot(timesteps,prices)"
      ],
      "metadata": {
        "colab": {
          "base_uri": "https://localhost:8080/",
          "height": 446
        },
        "id": "wVgRmtiUhkdZ",
        "outputId": "42462cfb-8bd8-4058-ef91-48a022e24231"
      },
      "execution_count": 37,
      "outputs": [
        {
          "output_type": "execute_result",
          "data": {
            "text/plain": [
              "[<matplotlib.lines.Line2D at 0x7f7b50210a00>]"
            ]
          },
          "metadata": {},
          "execution_count": 37
        },
        {
          "output_type": "display_data",
          "data": {
            "text/plain": [
              "<Figure size 1440x504 with 1 Axes>"
            ],
            "image/png": "[encoded data removed]"
          },
          "metadata": {
            "needs_background": "light"
          }
        }
      ]
    }
  ]
}