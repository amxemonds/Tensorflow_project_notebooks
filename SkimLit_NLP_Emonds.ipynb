{
  "nbformat": 4,
  "nbformat_minor": 0,
  "metadata": {
    "colab": {
      "provenance": []
    },
    "kernelspec": {
      "name": "python3",
      "display_name": "Python 3"
    },
    "language_info": {
      "name": "python"
    },
    "accelerator": "GPU",
    "gpuClass": "standard"
  },
  "cells": [
    {
      "cell_type": "markdown",
      "source": [
        "# SkimLit Project: Natural Language Processing\n",
        "\n",
        "The purpose of this notebook is to build an NLP model to make reading medical abstracts easier.\n",
        "\n",
        "The paper to be replicated/the dataset source is available here: https://arxiv.org/pdf/1710.06071.pdf\n",
        "\n",
        "The model architecture they use to achieve their best results is available here: https://arxiv.org/abs/1612.05251"
      ],
      "metadata": {
        "id": "MR7SPGAM8We-"
      }
    },
    {
      "cell_type": "markdown",
      "source": [
        "## Preparation"
      ],
      "metadata": {
        "id": "NehYHgc6XRyL"
      }
    },
    {
      "cell_type": "code",
      "source": [
        "import zipfile\n",
        "import os\n",
        "import numpy as np\n",
        "import tensorflow as tf\n",
        "import pandas as pd\n",
        "from tensorflow.keras.layers import Input, Dense\n",
        "from sklearn.metrics import accuracy_score, precision_recall_fscore_support\n",
        "import tensorflow_hub as hub"
      ],
      "metadata": {
        "id": "vi8UmU-x9lU9"
      },
      "execution_count": 42,
      "outputs": []
    },
    {
      "cell_type": "markdown",
      "source": [
        "Helper functions"
      ],
      "metadata": {
        "id": "ZTLgVVL_AN9Q"
      }
    },
    {
      "cell_type": "code",
      "source": [
        "def get_lines(filename):\n",
        "  \"\"\"\n",
        "  reads filename (a text filename) and returns the lines of text as a list.\n",
        "\n",
        "  args:\n",
        "  filenmae: a string containing the target filepath.\n",
        "\n",
        "  returns:\n",
        "  a list of strings with one string per line from the target filename.\n",
        "  \"\"\"\n",
        "  with open(filename,\"r\") as f:\n",
        "    return f.readlines()\n",
        "    "
      ],
      "metadata": {
        "id": "fEulzvbK8nKC"
      },
      "execution_count": 2,
      "outputs": []
    },
    {
      "cell_type": "code",
      "source": [
        "def split_chars(text):\n",
        "  return \" \".join(list(text)) # split sentences into chars\n",
        "  "
      ],
      "metadata": {
        "id": "XU8pZjMY9-9n"
      },
      "execution_count": 3,
      "outputs": []
    },
    {
      "cell_type": "code",
      "source": [
        "def preprocess_text_with_line_numbers(filename):\n",
        "  \"\"\"\n",
        "  returns a list of dictionaries of abstract line data.\n",
        "\n",
        "  takes in filename, reads its contents, and sorts through each line,\n",
        "  extracting things like the target label, the text of the sentence,\n",
        "  how many sentences are in the current abstract, and what sentence\n",
        "  number the target line is.\n",
        "  \"\"\"\n",
        "  input_lines = get_lines(filename)\n",
        "  abstract_samples = [] # create an empty list of abstracts\n",
        "  abstract_lines = \"\" # create an empty abstract\n",
        "\n",
        "  # format:\n",
        "  # [{'line_number':0, \n",
        "  # 'target':'BACKGROUND', \n",
        "  # 'text':\"emotional eating... .\\n\", \n",
        "  # 'total_lines':11}, ...]'\n",
        "\n",
        "  for line in input_lines:\n",
        "    if line.startswith(\"#\"):\n",
        "      # beginning of a new abstract\n",
        "      abstract_lines = \"\" # reset abstract string      \n",
        "\n",
        "    elif line.isspace(): \n",
        "      # end of an abstract\n",
        "      # go back through all of the abstract lines stored in abstract_lines\n",
        "      abstract_line_split = abstract_lines.splitlines() # separate the lines\n",
        "\n",
        "      for abstract_line_number,abstract_line in enumerate(abstract_line_split):\n",
        "        new_line = {}\n",
        "        break_sentence = abstract_line.split('\\t')\n",
        "        new_line[\"line_number\"] = abstract_line_number\n",
        "        new_line[\"target\"] = break_sentence[0]\n",
        "        new_line[\"text\"] = break_sentence[1].lower()\n",
        "        new_line[\"total_lines\"] = len(abstract_line_split)-1\n",
        "        abstract_samples.append(new_line)\n",
        "\n",
        "    else:\n",
        "      # this is neither the beginning nor the end of an abstract\n",
        "      # add it to the strings in the abstract\n",
        "      # the line contains a labeled sentence\n",
        "      abstract_lines += line\n",
        "\n",
        "  return abstract_samples\n",
        "  "
      ],
      "metadata": {
        "id": "q617_0GY8896"
      },
      "execution_count": 4,
      "outputs": []
    },
    {
      "cell_type": "code",
      "source": [
        "def calculate_results(y_true, y_pred):\n",
        "  \"\"\"\n",
        "  calculates model accuracy, precision, recall and f1 score of a binary classification model.\n",
        "\n",
        "  args:\n",
        "      y_true: true labels in the form of a 1D array\n",
        "      y_pred: predicted labels in the form of a 1D array\n",
        "\n",
        "  returns a dictionary of accuracy, precision, recall, f1-score.\n",
        "  \"\"\"\n",
        "  # calculate model accuracy\n",
        "  model_accuracy = accuracy_score(y_true, y_pred) * 100\n",
        "\n",
        "  # calculate model precision, recall and f1 score using \"weighted average\n",
        "  model_precision, model_recall, model_f1, _ = precision_recall_fscore_support(y_true, y_pred, average=\"weighted\")\n",
        "  model_results = {\"accuracy\": model_accuracy,\n",
        "                  \"precision\": model_precision,\n",
        "                  \"recall\": model_recall,\n",
        "                  \"f1\": model_f1}\n",
        "  return model_results"
      ],
      "metadata": {
        "id": "NAgVv8t0XK-l"
      },
      "execution_count": 5,
      "outputs": []
    },
    {
      "cell_type": "markdown",
      "source": [
        "Retrieve data"
      ],
      "metadata": {
        "id": "4v4vav8pGN5O"
      }
    },
    {
      "cell_type": "code",
      "source": [
        "!git clone https://github.com/Franck-Dernoncourt/pubmed-rct\n",
        "!ls pubmed-rct\n"
      ],
      "metadata": {
        "colab": {
          "base_uri": "https://localhost:8080/"
        },
        "id": "L2f2VWCT8d-B",
        "outputId": "bf3b9cfa-0524-4d55-b82d-9979505e36ee"
      },
      "execution_count": 6,
      "outputs": [
        {
          "output_type": "stream",
          "name": "stdout",
          "text": [
            "Cloning into 'pubmed-rct'...\n",
            "remote: Enumerating objects: 33, done.\u001b[K\n",
            "remote: Counting objects: 100% (8/8), done.\u001b[K\n",
            "remote: Compressing objects: 100% (3/3), done.\u001b[K\n",
            "remote: Total 33 (delta 5), reused 5 (delta 5), pack-reused 25\u001b[K\n",
            "Unpacking objects: 100% (33/33), 177.08 MiB | 14.11 MiB/s, done.\n",
            "PubMed_200k_RCT\n",
            "PubMed_200k_RCT_numbers_replaced_with_at_sign\n",
            "PubMed_20k_RCT\n",
            "PubMed_20k_RCT_numbers_replaced_with_at_sign\n",
            "README.md\n"
          ]
        }
      ]
    },
    {
      "cell_type": "code",
      "source": [
        "get_lines(\"/content/pubmed-rct/PubMed_20k_RCT_numbers_replaced_with_at_sign/test.txt\")[:20]"
      ],
      "metadata": {
        "colab": {
          "base_uri": "https://localhost:8080/"
        },
        "id": "h3O6WLtm8hgZ",
        "outputId": "816bb5ff-2f65-4d2d-ee44-bd1b5ee75b54"
      },
      "execution_count": 7,
      "outputs": [
        {
          "output_type": "execute_result",
          "data": {
            "text/plain": [
              "['###24845963\\n',\n",
              " 'BACKGROUND\\tThis study analyzed liver function abnormalities in heart failure patients admitted with severe acute decompensated heart failure ( ADHF ) .\\n',\n",
              " 'RESULTS\\tA post hoc analysis was conducted with the use of data from the Evaluation Study of Congestive Heart Failure and Pulmonary Artery Catheterization Effectiveness ( ESCAPE ) .\\n',\n",
              " 'RESULTS\\tLiver function tests ( LFTs ) were measured at @ time points from baseline , at discharge , and up to @ months follow-up .\\n',\n",
              " 'RESULTS\\tSurvival analyses were used to assess the association between admission Model of End-Stage Liver Disease Excluding International Normalized Ratio ( MELD-XI ) scores and patient outcome.There was a high prevalence of abnormal baseline ( admission ) LFTs ( albumin @ % , aspartate transaminase @ % , alanine transaminase @ % , and total bilirubin @ % ) .\\n',\n",
              " \"RESULTS\\tThe percentage of patients with abnormal LFTs decreased significantly from baseline to @-months ' follow-up .\\n\",\n",
              " 'RESULTS\\tWhen mean hemodynamic profiles were compared in patients with abnormal versus normal LFTs , elevated total bilirubin was associated with a significantly lower cardiac index ( @ vs @ ; P < @ ) and higher central venous pressure ( @ vs @ ; P = @ ) .\\n',\n",
              " 'RESULTS\\tMultivariable analyses revealed that patients with elevated MELD-XI scores ( @ ) had a @-fold ( hazard ratio@ @ , @ % confidence interval @-@ @ ) increased risk of death , rehospitalization , or transplantation after adjusting for baseline LFTs , age , sex , race , body mass index , diabetes , and systolic blood pressure .\\n',\n",
              " 'CONCLUSIONS\\tAbnormal LFTs are common in the ADHF population and are a dynamic marker of an impaired hemodynamic state .\\n',\n",
              " 'CONCLUSIONS\\tElevated MELD-XI scores are associated with poor outcomes among patients admitted with ADHF .\\n',\n",
              " '\\n',\n",
              " '###24469619\\n',\n",
              " 'BACKGROUND\\tMinimally invasive endovascular aneurysm repair ( EVAR ) could be a surgical technique that improves outcome of patients with ruptured abdominal aortic aneurysm ( rAAA ) .\\n',\n",
              " 'BACKGROUND\\tThe aim of this study was to analyse the cost-effectiveness and cost-utility of EVAR compared with standard open repair ( OR ) in the treatment of rAAA , with costs per @-day and @-month survivor as outcome parameters .\\n',\n",
              " 'METHODS\\tResource use was determined from the Amsterdam Acute Aneurysm ( AJAX ) trial , a multicentre randomized trial comparing EVAR with OR in patients with rAAA .\\n',\n",
              " 'METHODS\\tThe analysis was performed from a provider perspective .\\n',\n",
              " 'METHODS\\tAll costs were calculated as if all patients had been treated in the same hospital ( Onze Lieve Vrouwe Gasthuis , teaching hospital ) .\\n',\n",
              " 'RESULTS\\tA total of @ patients were randomized .\\n',\n",
              " 'RESULTS\\tThe @-day mortality rate was @ per cent after EVAR and @ per cent for OR : absolute risk reduction ( ARR ) @ ( @ per cent confidence interval ( c.i. ) -@ to @ ) per cent .\\n',\n",
              " 'RESULTS\\tAt @months , the total mortality rate for EVAR was @ per cent , compared with @ per cent among those assigned to OR : ARR @ ( -@ to @ ) per cent .\\n']"
            ]
          },
          "metadata": {},
          "execution_count": 7
        }
      ]
    },
    {
      "cell_type": "markdown",
      "source": [
        "## Run the limited dataset"
      ],
      "metadata": {
        "id": "pC7H5tzhGgLF"
      }
    },
    {
      "cell_type": "code",
      "source": [
        "main_data_dir_20k = \"/content/pubmed-rct/PubMed_20k_RCT_numbers_replaced_with_at_sign/\"\n",
        "\n",
        "train_dir = main_data_dir_20k+\"train.txt\"\n",
        "val_dir = main_data_dir_20k+\"dev.txt\"\n",
        "test_dir = main_data_dir_20k+\"test.txt\"\n",
        "\n",
        "train_samples = preprocess_text_with_line_numbers(train_dir)\n",
        "val_samples = preprocess_text_with_line_numbers(val_dir)\n",
        "test_samples = preprocess_text_with_line_numbers(test_dir)"
      ],
      "metadata": {
        "id": "Xph9RVCu82_K"
      },
      "execution_count": 8,
      "outputs": []
    },
    {
      "cell_type": "code",
      "source": [
        "train_samples[:5]"
      ],
      "metadata": {
        "colab": {
          "base_uri": "https://localhost:8080/"
        },
        "id": "uhsZc3ku9QCv",
        "outputId": "31b6dbf6-3764-4486-e390-abd493ef773c"
      },
      "execution_count": 9,
      "outputs": [
        {
          "output_type": "execute_result",
          "data": {
            "text/plain": [
              "[{'line_number': 0,\n",
              "  'target': 'OBJECTIVE',\n",
              "  'text': 'to investigate the efficacy of @ weeks of daily low-dose oral prednisolone in improving pain , mobility , and systemic low-grade inflammation in the short term and whether the effect would be sustained at @ weeks in older adults with moderate to severe knee osteoarthritis ( oa ) .',\n",
              "  'total_lines': 11},\n",
              " {'line_number': 1,\n",
              "  'target': 'METHODS',\n",
              "  'text': 'a total of @ patients with primary knee oa were randomized @:@ ; @ received @ mg/day of prednisolone and @ received placebo for @ weeks .',\n",
              "  'total_lines': 11},\n",
              " {'line_number': 2,\n",
              "  'target': 'METHODS',\n",
              "  'text': 'outcome measures included pain reduction and improvement in function scores and systemic inflammation markers .',\n",
              "  'total_lines': 11},\n",
              " {'line_number': 3,\n",
              "  'target': 'METHODS',\n",
              "  'text': 'pain was assessed using the visual analog pain scale ( @-@ mm ) .',\n",
              "  'total_lines': 11},\n",
              " {'line_number': 4,\n",
              "  'target': 'METHODS',\n",
              "  'text': 'secondary outcome measures included the western ontario and mcmaster universities osteoarthritis index scores , patient global assessment ( pga ) of the severity of knee oa , and @-min walk distance ( @mwd ) .',\n",
              "  'total_lines': 11}]"
            ]
          },
          "metadata": {},
          "execution_count": 9
        }
      ]
    },
    {
      "cell_type": "code",
      "source": [
        "train_df = pd.DataFrame(train_samples)\n",
        "val_df = pd.DataFrame(val_samples)\n",
        "test_df = pd.DataFrame(test_samples)"
      ],
      "metadata": {
        "id": "RJSli4kA9TIZ"
      },
      "execution_count": 10,
      "outputs": []
    },
    {
      "cell_type": "code",
      "source": [
        "train_df.head()"
      ],
      "metadata": {
        "colab": {
          "base_uri": "https://localhost:8080/",
          "height": 206
        },
        "id": "0faamQoQ9c2F",
        "outputId": "39b1d921-b256-4df1-f1dc-703137b8edba"
      },
      "execution_count": 11,
      "outputs": [
        {
          "output_type": "execute_result",
          "data": {
            "text/plain": [
              "   line_number     target                                               text  \\\n",
              "0            0  OBJECTIVE  to investigate the efficacy of @ weeks of dail...   \n",
              "1            1    METHODS  a total of @ patients with primary knee oa wer...   \n",
              "2            2    METHODS  outcome measures included pain reduction and i...   \n",
              "3            3    METHODS  pain was assessed using the visual analog pain...   \n",
              "4            4    METHODS  secondary outcome measures included the wester...   \n",
              "\n",
              "   total_lines  \n",
              "0           11  \n",
              "1           11  \n",
              "2           11  \n",
              "3           11  \n",
              "4           11  "
            ],
            "text/html": [
              "\n",
              "  <div id=\"df-c8f584b5-1855-407c-b522-67cd95c11a87\">\n",
              "    <div class=\"colab-df-container\">\n",
              "      <div>\n",
              "<style scoped>\n",
              "    .dataframe tbody tr th:only-of-type {\n",
              "        vertical-align: middle;\n",
              "    }\n",
              "\n",
              "    .dataframe tbody tr th {\n",
              "        vertical-align: top;\n",
              "    }\n",
              "\n",
              "    .dataframe thead th {\n",
              "        text-align: right;\n",
              "    }\n",
              "</style>\n",
              "<table border=\"1\" class=\"dataframe\">\n",
              "  <thead>\n",
              "    <tr style=\"text-align: right;\">\n",
              "      <th></th>\n",
              "      <th>line_number</th>\n",
              "      <th>target</th>\n",
              "      <th>text</th>\n",
              "      <th>total_lines</th>\n",
              "    </tr>\n",
              "  </thead>\n",
              "  <tbody>\n",
              "    <tr>\n",
              "      <th>0</th>\n",
              "      <td>0</td>\n",
              "      <td>OBJECTIVE</td>\n",
              "      <td>to investigate the efficacy of @ weeks of dail...</td>\n",
              "      <td>11</td>\n",
              "    </tr>\n",
              "    <tr>\n",
              "      <th>1</th>\n",
              "      <td>1</td>\n",
              "      <td>METHODS</td>\n",
              "      <td>a total of @ patients with primary knee oa wer...</td>\n",
              "      <td>11</td>\n",
              "    </tr>\n",
              "    <tr>\n",
              "      <th>2</th>\n",
              "      <td>2</td>\n",
              "      <td>METHODS</td>\n",
              "      <td>outcome measures included pain reduction and i...</td>\n",
              "      <td>11</td>\n",
              "    </tr>\n",
              "    <tr>\n",
              "      <th>3</th>\n",
              "      <td>3</td>\n",
              "      <td>METHODS</td>\n",
              "      <td>pain was assessed using the visual analog pain...</td>\n",
              "      <td>11</td>\n",
              "    </tr>\n",
              "    <tr>\n",
              "      <th>4</th>\n",
              "      <td>4</td>\n",
              "      <td>METHODS</td>\n",
              "      <td>secondary outcome measures included the wester...</td>\n",
              "      <td>11</td>\n",
              "    </tr>\n",
              "  </tbody>\n",
              "</table>\n",
              "</div>\n",
              "      <button class=\"colab-df-convert\" onclick=\"convertToInteractive('df-c8f584b5-1855-407c-b522-67cd95c11a87')\"\n",
              "              title=\"Convert this dataframe to an interactive table.\"\n",
              "              style=\"display:none;\">\n",
              "        \n",
              "  <svg xmlns=\"http://www.w3.org/2000/svg\" height=\"24px\"viewBox=\"0 0 24 24\"\n",
              "       width=\"24px\">\n",
              "    <path d=\"M0 0h24v24H0V0z\" fill=\"none\"/>\n",
              "    <path d=\"M18.56 5.44l.94 2.06.94-2.06 2.06-.94-2.06-.94-.94-2.06-.94 2.06-2.06.94zm-11 1L8.5 8.5l.94-2.06 2.06-.94-2.06-.94L8.5 2.5l-.94 2.06-2.06.94zm10 10l.94 2.06.94-2.06 2.06-.94-2.06-.94-.94-2.06-.94 2.06-2.06.94z\"/><path d=\"M17.41 7.96l-1.37-1.37c-.4-.4-.92-.59-1.43-.59-.52 0-1.04.2-1.43.59L10.3 9.45l-7.72 7.72c-.78.78-.78 2.05 0 2.83L4 21.41c.39.39.9.59 1.41.59.51 0 1.02-.2 1.41-.59l7.78-7.78 2.81-2.81c.8-.78.8-2.07 0-2.86zM5.41 20L4 18.59l7.72-7.72 1.47 1.35L5.41 20z\"/>\n",
              "  </svg>\n",
              "      </button>\n",
              "      \n",
              "  <style>\n",
              "    .colab-df-container {\n",
              "      display:flex;\n",
              "      flex-wrap:wrap;\n",
              "      gap: 12px;\n",
              "    }\n",
              "\n",
              "    .colab-df-convert {\n",
              "      background-color: #E8F0FE;\n",
              "      border: none;\n",
              "      border-radius: 50%;\n",
              "      cursor: pointer;\n",
              "      display: none;\n",
              "      fill: #1967D2;\n",
              "      height: 32px;\n",
              "      padding: 0 0 0 0;\n",
              "      width: 32px;\n",
              "    }\n",
              "\n",
              "    .colab-df-convert:hover {\n",
              "      background-color: #E2EBFA;\n",
              "      box-shadow: 0px 1px 2px rgba(60, 64, 67, 0.3), 0px 1px 3px 1px rgba(60, 64, 67, 0.15);\n",
              "      fill: #174EA6;\n",
              "    }\n",
              "\n",
              "    [theme=dark] .colab-df-convert {\n",
              "      background-color: #3B4455;\n",
              "      fill: #D2E3FC;\n",
              "    }\n",
              "\n",
              "    [theme=dark] .colab-df-convert:hover {\n",
              "      background-color: #434B5C;\n",
              "      box-shadow: 0px 1px 3px 1px rgba(0, 0, 0, 0.15);\n",
              "      filter: drop-shadow(0px 1px 2px rgba(0, 0, 0, 0.3));\n",
              "      fill: #FFFFFF;\n",
              "    }\n",
              "  </style>\n",
              "\n",
              "      <script>\n",
              "        const buttonEl =\n",
              "          document.querySelector('#df-c8f584b5-1855-407c-b522-67cd95c11a87 button.colab-df-convert');\n",
              "        buttonEl.style.display =\n",
              "          google.colab.kernel.accessAllowed ? 'block' : 'none';\n",
              "\n",
              "        async function convertToInteractive(key) {\n",
              "          const element = document.querySelector('#df-c8f584b5-1855-407c-b522-67cd95c11a87');\n",
              "          const dataTable =\n",
              "            await google.colab.kernel.invokeFunction('convertToInteractive',\n",
              "                                                     [key], {});\n",
              "          if (!dataTable) return;\n",
              "\n",
              "          const docLinkHtml = 'Like what you see? Visit the ' +\n",
              "            '<a target=\"_blank\" href=https://colab.research.google.com/notebooks/data_table.ipynb>data table notebook</a>'\n",
              "            + ' to learn more about interactive tables.';\n",
              "          element.innerHTML = '';\n",
              "          dataTable['output_type'] = 'display_data';\n",
              "          await google.colab.output.renderOutput(dataTable, element);\n",
              "          const docLink = document.createElement('div');\n",
              "          docLink.innerHTML = docLinkHtml;\n",
              "          element.appendChild(docLink);\n",
              "        }\n",
              "      </script>\n",
              "    </div>\n",
              "  </div>\n",
              "  "
            ]
          },
          "metadata": {},
          "execution_count": 11
        }
      ]
    },
    {
      "cell_type": "code",
      "source": [
        "train_sentences = train_df[\"text\"].to_list()\n",
        "val_sentences = val_df[\"text\"].to_list()\n",
        "test_sentences = test_df[\"text\"].to_list()"
      ],
      "metadata": {
        "id": "noFHtgIC9iq-"
      },
      "execution_count": 12,
      "outputs": []
    },
    {
      "cell_type": "code",
      "source": [
        "train_chars = [split_chars(sentence) for sentence in train_sentences] \n",
        "val_chars = [split_chars(sentence) for sentence in val_sentences]\n",
        "test_chars = [split_chars(sentence) for sentence in test_sentences]"
      ],
      "metadata": {
        "id": "j_Au_LcY-Ccx"
      },
      "execution_count": 13,
      "outputs": []
    },
    {
      "cell_type": "markdown",
      "source": [
        "Label encoder creation"
      ],
      "metadata": {
        "id": "_a3b7m929uGt"
      }
    },
    {
      "cell_type": "code",
      "source": [
        "from sklearn.preprocessing import LabelEncoder, OneHotEncoder\n",
        "\n",
        "# using sklearn.preprocessing.LabelEncoder()\n",
        "label_encoder = LabelEncoder()\n",
        "train_labels_encoded = label_encoder.fit_transform(train_df[\"target\"].to_numpy())\n",
        "val_labels_encoded = label_encoder.fit_transform(val_df[\"target\"].to_numpy())\n",
        "test_labels_encoded = label_encoder.fit_transform(test_df[\"target\"].to_numpy())\n",
        "\n",
        "# using sklearn.preprocessing.OneHotEncoder()\n",
        "one_hot_encoder = OneHotEncoder(sparse=False)\n",
        "train_labels_one_hot = one_hot_encoder.fit_transform(train_df[\"target\"].to_numpy().reshape(-1,1))\n",
        "val_labels_one_hot = one_hot_encoder.fit_transform(val_df[\"target\"].to_numpy().reshape(-1,1))\n",
        "test_labels_one_hot = one_hot_encoder.fit_transform(test_df[\"target\"].to_numpy().reshape(-1,1))\n",
        "\n",
        "# using tf.one_hot\n",
        "train_line_number_one_hot = tf.one_hot(train_df[\"line_number\"].to_numpy(),depth=15)\n",
        "val_line_number_one_hot = tf.one_hot(val_df[\"line_number\"].to_numpy(),depth=15)\n",
        "test_line_number_one_hot = tf.one_hot(test_df[\"line_number\"].to_numpy(),depth=15)\n",
        "\n",
        "train_total_lines_one_hot = tf.one_hot(train_df[\"total_lines\"].to_numpy(),depth=20)\n",
        "val_total_lines_one_hot = tf.one_hot(val_df[\"total_lines\"].to_numpy(),depth=20)\n",
        "test_total_lines_one_hot = tf.one_hot(test_df[\"total_lines\"].to_numpy(),depth=20)"
      ],
      "metadata": {
        "id": "9f8GAYQm9vYH"
      },
      "execution_count": 14,
      "outputs": []
    },
    {
      "cell_type": "markdown",
      "source": [
        "Build a tribrid embedding model:\n",
        "\n",
        "1. Create a token-level model.\n",
        "2. Create a character-level model.\n",
        "3. Create a model for the \"line_number\" feature.\n",
        "4. Create a model for the \"total_lines\" feature.\n",
        "5. Concatenate 1 and 2.\n",
        "6. Concatenate 3, 4, and 5.\n",
        "7. Create an output layer to accept the tribrid embedding.and output label probabilities.\n",
        "8. Combine inputs of 1, 2, 3, and 4 and outputs of 7 into a tf.keras.Model."
      ],
      "metadata": {
        "id": "eisvB-QlAthR"
      }
    },
    {
      "cell_type": "markdown",
      "source": [
        "Token model creation (with Universal Sentence Encoder)"
      ],
      "metadata": {
        "id": "pHJn2NoL-JKv"
      }
    },
    {
      "cell_type": "code",
      "source": [
        "# STEP 1: token-level model (USE)\n",
        "import tensorflow_hub as hub\n",
        "use_encoder_layer = hub.KerasLayer(\"https://tfhub.dev/google/universal-sentence-encoder/4\",\n",
        "                                   trainable=False,\n",
        "                                   name=\"USE\")\n",
        "\n",
        "token_inputs = Input(shape=[],dtype=\"string\",name=\"USE_token_inputs\")\n",
        "x = use_encoder_layer(token_inputs)\n",
        "token_outputs = Dense(128,activation=\"relu\")(x)\n",
        "token_model_USE = tf.keras.Model(token_inputs,token_outputs,name=\"token_model_USE\")"
      ],
      "metadata": {
        "colab": {
          "base_uri": "https://localhost:8080/"
        },
        "id": "WPrGo-jE-Nnb",
        "outputId": "3e40d542-1eb5-4b82-bd4e-60f9bb9883d0"
      },
      "execution_count": 15,
      "outputs": [
        {
          "output_type": "stream",
          "name": "stderr",
          "text": [
            "WARNING:tensorflow:Please fix your imports. Module tensorflow.python.training.tracking.data_structures has been moved to tensorflow.python.trackable.data_structures. The old module will be deleted in version 2.11.\n",
            "WARNING:tensorflow:From /usr/local/lib/python3.8/dist-packages/tensorflow/python/autograph/pyct/static_analysis/liveness.py:83: Analyzer.lamba_check (from tensorflow.python.autograph.pyct.static_analysis.liveness) is deprecated and will be removed after 2023-09-23.\n",
            "Instructions for updating:\n",
            "Lambda fuctions will be no more assumed to be used in the statement where they are used, or at least in the same block. https://github.com/tensorflow/tensorflow/issues/56089\n"
          ]
        }
      ]
    },
    {
      "cell_type": "code",
      "source": [
        "token_model_USE.summary()"
      ],
      "metadata": {
        "colab": {
          "base_uri": "https://localhost:8080/"
        },
        "id": "PTOWuXby_Wjo",
        "outputId": "20db2f42-cb01-4581-a5ad-707a84135376"
      },
      "execution_count": 16,
      "outputs": [
        {
          "output_type": "stream",
          "name": "stdout",
          "text": [
            "Model: \"token_model_USE\"\n",
            "_________________________________________________________________\n",
            " Layer (type)                Output Shape              Param #   \n",
            "=================================================================\n",
            " USE_token_inputs (InputLaye  [(None,)]                0         \n",
            " r)                                                              \n",
            "                                                                 \n",
            " USE (KerasLayer)            (None, 512)               256797824 \n",
            "                                                                 \n",
            " dense (Dense)               (None, 128)               65664     \n",
            "                                                                 \n",
            "=================================================================\n",
            "Total params: 256,863,488\n",
            "Trainable params: 65,664\n",
            "Non-trainable params: 256,797,824\n",
            "_________________________________________________________________\n"
          ]
        }
      ]
    },
    {
      "cell_type": "markdown",
      "source": [
        "Character model creation (with TextVectorization, Embedding layer, and Bidirectional LSTM)"
      ],
      "metadata": {
        "id": "cl_Z02o5_D_q"
      }
    },
    {
      "cell_type": "code",
      "source": [
        "from tensorflow.keras.layers.experimental.preprocessing import TextVectorization\n",
        "char_vectorizer = TextVectorization(max_tokens=70, # len(alphabet)+2\n",
        "                                    output_sequence_length=290, # int(np.percentile(chars_lens,95))\n",
        "                                    name=\"char_vectorizer\")\n",
        "\n",
        "char_vectorizer.adapt(train_chars)\n",
        "\n",
        "from tensorflow.keras.layers import Embedding, Bidirectional, LSTM\n",
        "char_embedding = Embedding(input_dim=len(char_vectorizer.get_vocabulary()),\n",
        "                           output_dim=25, # stipulated by paper\n",
        "                           mask_zero=True,\n",
        "                           name=\"char_embedding\") "
      ],
      "metadata": {
        "id": "b4VtL06T-fIt"
      },
      "execution_count": 17,
      "outputs": []
    },
    {
      "cell_type": "code",
      "source": [
        "# STEP 2: character-level model (Bidirectional LSTM)\n",
        "char_inputs = Input(shape=(1,),dtype=\"string\",name=\"char_inputs\")\n",
        "x = char_vectorizer(char_inputs)\n",
        "x = char_embedding(x)\n",
        "char_outputs = Bidirectional(LSTM(24))(x) # in paper, 50, which is 2x25\n",
        "char_model = tf.keras.Model(char_inputs,char_outputs,name=\"char_model\")"
      ],
      "metadata": {
        "id": "gkxzGbr7BlK8"
      },
      "execution_count": 18,
      "outputs": []
    },
    {
      "cell_type": "code",
      "source": [
        "char_model.summary()"
      ],
      "metadata": {
        "colab": {
          "base_uri": "https://localhost:8080/"
        },
        "id": "JWMsbuI1_ZDq",
        "outputId": "86efd07f-f413-4dfd-9a78-5f28756d346b"
      },
      "execution_count": 19,
      "outputs": [
        {
          "output_type": "stream",
          "name": "stdout",
          "text": [
            "Model: \"char_model\"\n",
            "_________________________________________________________________\n",
            " Layer (type)                Output Shape              Param #   \n",
            "=================================================================\n",
            " char_inputs (InputLayer)    [(None, 1)]               0         \n",
            "                                                                 \n",
            " char_vectorizer (TextVector  (None, 290)              0         \n",
            " ization)                                                        \n",
            "                                                                 \n",
            " char_embedding (Embedding)  (None, 290, 25)           700       \n",
            "                                                                 \n",
            " bidirectional (Bidirectiona  (None, 48)               9600      \n",
            " l)                                                              \n",
            "                                                                 \n",
            "=================================================================\n",
            "Total params: 10,300\n",
            "Trainable params: 10,300\n",
            "Non-trainable params: 0\n",
            "_________________________________________________________________\n"
          ]
        }
      ]
    },
    {
      "cell_type": "markdown",
      "source": [
        "Line_number model"
      ],
      "metadata": {
        "id": "Sne0rovTB4ml"
      }
    },
    {
      "cell_type": "code",
      "source": [
        "# STEP 3: line_number model (what kind? need a new embedding now?)\n",
        "line_number_inputs = Input(shape=(15,),dtype=tf.float32,name=\"line_number_input\") # depth 15 for one-hot\n",
        "line_number_outputs = Dense(32,activation=\"relu\")(line_number_inputs)\n",
        "line_number_model = tf.keras.Model(line_number_inputs,line_number_outputs,name=\"line_number_model\")"
      ],
      "metadata": {
        "id": "ojqJk2eUB9n5"
      },
      "execution_count": 20,
      "outputs": []
    },
    {
      "cell_type": "markdown",
      "source": [
        "Total_lines model"
      ],
      "metadata": {
        "id": "3zztUHVzB-jI"
      }
    },
    {
      "cell_type": "code",
      "source": [
        "# STEP 4: total_lines model\n",
        "total_lines_inputs = Input(shape=(20,),dtype=tf.float32,name=\"total_lines_input\") # depth 20 for one-hot\n",
        "total_lines_outputs = Dense(32,activation=\"relu\")(total_lines_inputs)\n",
        "total_lines_model = tf.keras.Model(total_lines_inputs,total_lines_outputs,name=\"total_lines_model\")"
      ],
      "metadata": {
        "id": "TrFIcGVWCDWd"
      },
      "execution_count": 21,
      "outputs": []
    },
    {
      "cell_type": "markdown",
      "source": [
        "Concatenation of tokenization methods"
      ],
      "metadata": {
        "id": "wC0t4qVk_hvS"
      }
    },
    {
      "cell_type": "code",
      "source": [
        "# STEP 5: concatenate 1 and 2\n",
        "from tensorflow.keras.layers import Concatenate, Dropout\n",
        "concat_token_char = Concatenate(name=\"concat_token_char\")([token_model_USE.output,char_model.output])\n",
        "\n",
        "# throw in a 256 dense layer and a 0.5 dropout layer\n",
        "combined_dropout = Dense(256,activation=\"relu\")(concat_token_char)\n",
        "combined_dropout = Dropout(0.5,name=\"concat_token_char_dropout\")(combined_dropout)"
      ],
      "metadata": {
        "id": "UnHoK9nI_j1P"
      },
      "execution_count": 22,
      "outputs": []
    },
    {
      "cell_type": "markdown",
      "source": [
        "Concatenation of token/char and position embedding\n"
      ],
      "metadata": {
        "id": "DYt8YiEP_2Lj"
      }
    },
    {
      "cell_type": "code",
      "source": [
        "# STEP 6: concatenate 3,4,5 (position embedding with combined token/char)\n",
        "concat_tribrid = Concatenate(name=\"concat_tribrid\")([line_number_model.output,\n",
        "                                                    total_lines_model.output,\n",
        "                                                    combined_dropout])\n",
        "\n",
        "# throw in a 128 dense layer and a 0.1 dropout layer\n",
        "tribrid_dropout = Dense(128,activation=\"relu\")(concat_tribrid)\n",
        "tribrid_dropout = Dropout(0.1,name=\"concat_tribrid_dropout\")(tribrid_dropout)"
      ],
      "metadata": {
        "id": "RtUY8OGiC2oO"
      },
      "execution_count": 24,
      "outputs": []
    },
    {
      "cell_type": "markdown",
      "source": [
        "Finish and view model architecture"
      ],
      "metadata": {
        "id": "psptH-_hDOwq"
      }
    },
    {
      "cell_type": "code",
      "source": [
        "# STEP 7: create an output layer to accept the tribrid embedding and output label probabilities\n",
        "output_layer = Dense(5,activation=\"softmax\",name=\"output_layer\")(tribrid_dropout)\n",
        "\n",
        "# STEP 8: combine inputs of 1,2,3,4 and outputs of 7 into a tf.keras.Model\n",
        "tribrid_model = tf.keras.Model([line_number_model.input,\n",
        "                                total_lines_model.input,\n",
        "                                token_model_USE.input,\n",
        "                                char_model.input],\n",
        "                               output_layer,name=\"tribrid_model\")"
      ],
      "metadata": {
        "id": "y4iBLcOqDXPf"
      },
      "execution_count": 25,
      "outputs": []
    },
    {
      "cell_type": "code",
      "source": [
        "from tensorflow.keras.utils import plot_model\n",
        "plot_model(tribrid_model,show_shapes=True)"
      ],
      "metadata": {
        "colab": {
          "base_uri": "https://localhost:8080/",
          "height": 1000
        },
        "id": "qLSKozO7EPwf",
        "outputId": "e53cc09e-def5-4014-c94c-22f8716376a9"
      },
      "execution_count": 26,
      "outputs": [
        {
          "output_type": "execute_result",
          "data": {
            "image/png": "[encoded data removed]",
            "text/plain": [
              "<IPython.core.display.Image object>"
            ]
          },
          "metadata": {},
          "execution_count": 26
        }
      ]
    },
    {
      "cell_type": "markdown",
      "source": [
        "Create tribrid embedding datasets using tf.data"
      ],
      "metadata": {
        "id": "9T5FLIc2EaJx"
      }
    },
    {
      "cell_type": "code",
      "source": [
        "# turn the train, val, and test data samples into fast-loading tf.data Datasets\n",
        "train_dataset_data = tf.data.Dataset.from_tensor_slices((train_line_number_one_hot,\n",
        "                                                         train_total_lines_one_hot,\n",
        "                                                         train_sentences,\n",
        "                                                         train_chars))\n",
        "train_dataset_labels = tf.data.Dataset.from_tensor_slices(train_labels_one_hot)\n",
        "train_dataset = tf.data.Dataset.zip((train_dataset_data,train_dataset_labels))\n",
        "train_dataset = train_dataset.batch(32).prefetch(tf.data.AUTOTUNE)\n",
        "\n",
        "val_dataset_data = tf.data.Dataset.from_tensor_slices((val_line_number_one_hot,\n",
        "                                                         val_total_lines_one_hot,\n",
        "                                                         val_sentences,\n",
        "                                                         val_chars))\n",
        "val_dataset_labels = tf.data.Dataset.from_tensor_slices(val_labels_one_hot)\n",
        "val_dataset = tf.data.Dataset.zip((val_dataset_data,val_dataset_labels))\n",
        "val_dataset = val_dataset.batch(32).prefetch(tf.data.AUTOTUNE)\n",
        "\n",
        "test_dataset_data = tf.data.Dataset.from_tensor_slices((test_line_number_one_hot,\n",
        "                                                         test_total_lines_one_hot,\n",
        "                                                         test_sentences,\n",
        "                                                         test_chars))\n",
        "test_dataset_labels = tf.data.Dataset.from_tensor_slices(test_labels_one_hot)\n",
        "test_dataset = tf.data.Dataset.zip((test_dataset_data,test_dataset_labels))\n",
        "test_dataset = test_dataset.batch(32).prefetch(tf.data.AUTOTUNE)"
      ],
      "metadata": {
        "id": "HnSkbEjzEjQ9"
      },
      "execution_count": 27,
      "outputs": []
    },
    {
      "cell_type": "markdown",
      "source": [
        "Compile, fit, and evaluate tribrid model"
      ],
      "metadata": {
        "id": "pHfAMXNHETW-"
      }
    },
    {
      "cell_type": "code",
      "source": [
        "# compile token, char, and positional embedding model\n",
        "tribrid_model.compile(loss=tf.keras.losses.CategoricalCrossentropy(label_smoothing=0.2),\n",
        "                optimizer=tf.keras.optimizers.Adam(),\n",
        "                metrics=[\"accuracy\"])\n",
        "\n",
        "# train the model\n",
        "history_tribrid = tribrid_model.fit(train_dataset,\n",
        "                                    epochs=3,\n",
        "                                    steps_per_epoch=int(0.1*len(train_dataset)),\n",
        "                                    validation_data=val_dataset,\n",
        "                                    validation_steps=int(0.1*len(val_dataset)),\n",
        "                                    callbacks=[])\n",
        "\n",
        "# evaluate the final network on the test samples\n",
        "tribrid_model_pred_probs_test = tribrid_model.predict(test_dataset)\n",
        "tribrid_model_preds_test = tf.argmax(tribrid_model_pred_probs_test,axis=1)\n",
        "tribrid_model_results_test = calculate_results(y_true=test_labels_encoded,\n",
        "                                               y_pred=tribrid_model_preds_test)\n",
        "tribrid_model_results_test"
      ],
      "metadata": {
        "colab": {
          "base_uri": "https://localhost:8080/"
        },
        "id": "MxIG4vOmBHAT",
        "outputId": "1d653c87-7be4-4f32-ffe6-c49e225ce347"
      },
      "execution_count": 31,
      "outputs": [
        {
          "output_type": "stream",
          "name": "stdout",
          "text": [
            "Epoch 1/3\n",
            "562/562 [==============================] - 45s 57ms/step - loss: 0.9022 - accuracy: 0.8461 - val_loss: 0.8829 - val_accuracy: 0.8574\n",
            "Epoch 2/3\n",
            "562/562 [==============================] - 29s 52ms/step - loss: 0.8806 - accuracy: 0.8618 - val_loss: 0.8794 - val_accuracy: 0.8610\n",
            "Epoch 3/3\n",
            "562/562 [==============================] - 26s 46ms/step - loss: 0.8726 - accuracy: 0.8651 - val_loss: 0.8757 - val_accuracy: 0.8584\n",
            "942/942 [==============================] - 24s 21ms/step\n"
          ]
        },
        {
          "output_type": "execute_result",
          "data": {
            "text/plain": [
              "{'accuracy': 85.35589845694376,\n",
              " 'precision': 0.852899643905327,\n",
              " 'recall': 0.8535589845694376,\n",
              " 'f1': 0.853027736483888}"
            ]
          },
          "metadata": {},
          "execution_count": 31
        }
      ]
    },
    {
      "cell_type": "markdown",
      "source": [
        "Find the most-wrong predictions"
      ],
      "metadata": {
        "id": "QzDlQjuKFvl6"
      }
    },
    {
      "cell_type": "code",
      "source": [
        "class_names = [\"BACKGROUND\",\"CONCLUSIONS\",\"METHODS\",\"OBJECTIVE\",\"RESULTS\"]"
      ],
      "metadata": {
        "id": "T_BJea5jFrgY"
      },
      "execution_count": 32,
      "outputs": []
    },
    {
      "cell_type": "code",
      "source": [
        "# find the most wrong predictions from test dataset prediction\n",
        "# (where the model has predicted the wrong label with the highest prob)\n",
        "\n",
        "test_predictions_df = test_df \n",
        "test_predictions_df[\"pred\"] = tribrid_model_preds_test\n",
        "test_predictions_df[\"pred_name\"] = [class_names[i] for i in tribrid_model_preds_test]\n",
        "\n",
        "test_predictions_df[\"pred_prob\"] = np.max(tribrid_model_pred_probs_test)\n",
        "test_predictions_df[\"correct\"] = test_predictions_df[\"pred_name\"] == test_predictions_df[\"target\"].to_numpy()\n",
        "\n",
        "test_predictions_df_incorrect = test_predictions_df[test_predictions_df[\"correct\"]==False]\n",
        "test_predictions_df_incorrect = test_predictions_df_incorrect.sort_values(\"pred_prob\",ascending=False)\n",
        "\n",
        "test_predictions_df_incorrect.head()"
      ],
      "metadata": {
        "colab": {
          "base_uri": "https://localhost:8080/",
          "height": 206
        },
        "id": "UiCnwmxAFt5K",
        "outputId": "88cdfda0-879d-4608-f0cb-293ecacf639a"
      },
      "execution_count": 33,
      "outputs": [
        {
          "output_type": "execute_result",
          "data": {
            "text/plain": [
              "       line_number      target  \\\n",
              "0                0  BACKGROUND   \n",
              "19811            5     METHODS   \n",
              "19871            4     RESULTS   \n",
              "19860            7     RESULTS   \n",
              "19858            5     METHODS   \n",
              "\n",
              "                                                    text  total_lines  pred  \\\n",
              "0      this study analyzed liver function abnormaliti...            8     3   \n",
              "19811  following a three-week stabilization period ( ...           11     4   \n",
              "19871  twenty implants ( @ test , @ control ) were pl...            9     2   \n",
              "19860  intervention participation was @ % in a hospit...           13     2   \n",
              "19858  of these , @,@ were assigned in three spatial ...           13     4   \n",
              "\n",
              "       pred_name  pred_prob  correct  \n",
              "0      OBJECTIVE   0.959539    False  \n",
              "19811    RESULTS   0.959539    False  \n",
              "19871    METHODS   0.959539    False  \n",
              "19860    METHODS   0.959539    False  \n",
              "19858    RESULTS   0.959539    False  "
            ],
            "text/html": [
              "\n",
              "  <div id=\"df-99a61f56-a8f5-4ff0-84b4-81e3106ef092\">\n",
              "    <div class=\"colab-df-container\">\n",
              "      <div>\n",
              "<style scoped>\n",
              "    .dataframe tbody tr th:only-of-type {\n",
              "        vertical-align: middle;\n",
              "    }\n",
              "\n",
              "    .dataframe tbody tr th {\n",
              "        vertical-align: top;\n",
              "    }\n",
              "\n",
              "    .dataframe thead th {\n",
              "        text-align: right;\n",
              "    }\n",
              "</style>\n",
              "<table border=\"1\" class=\"dataframe\">\n",
              "  <thead>\n",
              "    <tr style=\"text-align: right;\">\n",
              "      <th></th>\n",
              "      <th>line_number</th>\n",
              "      <th>target</th>\n",
              "      <th>text</th>\n",
              "      <th>total_lines</th>\n",
              "      <th>pred</th>\n",
              "      <th>pred_name</th>\n",
              "      <th>pred_prob</th>\n",
              "      <th>correct</th>\n",
              "    </tr>\n",
              "  </thead>\n",
              "  <tbody>\n",
              "    <tr>\n",
              "      <th>0</th>\n",
              "      <td>0</td>\n",
              "      <td>BACKGROUND</td>\n",
              "      <td>this study analyzed liver function abnormaliti...</td>\n",
              "      <td>8</td>\n",
              "      <td>3</td>\n",
              "      <td>OBJECTIVE</td>\n",
              "      <td>0.959539</td>\n",
              "      <td>False</td>\n",
              "    </tr>\n",
              "    <tr>\n",
              "      <th>19811</th>\n",
              "      <td>5</td>\n",
              "      <td>METHODS</td>\n",
              "      <td>following a three-week stabilization period ( ...</td>\n",
              "      <td>11</td>\n",
              "      <td>4</td>\n",
              "      <td>RESULTS</td>\n",
              "      <td>0.959539</td>\n",
              "      <td>False</td>\n",
              "    </tr>\n",
              "    <tr>\n",
              "      <th>19871</th>\n",
              "      <td>4</td>\n",
              "      <td>RESULTS</td>\n",
              "      <td>twenty implants ( @ test , @ control ) were pl...</td>\n",
              "      <td>9</td>\n",
              "      <td>2</td>\n",
              "      <td>METHODS</td>\n",
              "      <td>0.959539</td>\n",
              "      <td>False</td>\n",
              "    </tr>\n",
              "    <tr>\n",
              "      <th>19860</th>\n",
              "      <td>7</td>\n",
              "      <td>RESULTS</td>\n",
              "      <td>intervention participation was @ % in a hospit...</td>\n",
              "      <td>13</td>\n",
              "      <td>2</td>\n",
              "      <td>METHODS</td>\n",
              "      <td>0.959539</td>\n",
              "      <td>False</td>\n",
              "    </tr>\n",
              "    <tr>\n",
              "      <th>19858</th>\n",
              "      <td>5</td>\n",
              "      <td>METHODS</td>\n",
              "      <td>of these , @,@ were assigned in three spatial ...</td>\n",
              "      <td>13</td>\n",
              "      <td>4</td>\n",
              "      <td>RESULTS</td>\n",
              "      <td>0.959539</td>\n",
              "      <td>False</td>\n",
              "    </tr>\n",
              "  </tbody>\n",
              "</table>\n",
              "</div>\n",
              "      <button class=\"colab-df-convert\" onclick=\"convertToInteractive('df-99a61f56-a8f5-4ff0-84b4-81e3106ef092')\"\n",
              "              title=\"Convert this dataframe to an interactive table.\"\n",
              "              style=\"display:none;\">\n",
              "        \n",
              "  <svg xmlns=\"http://www.w3.org/2000/svg\" height=\"24px\"viewBox=\"0 0 24 24\"\n",
              "       width=\"24px\">\n",
              "    <path d=\"M0 0h24v24H0V0z\" fill=\"none\"/>\n",
              "    <path d=\"M18.56 5.44l.94 2.06.94-2.06 2.06-.94-2.06-.94-.94-2.06-.94 2.06-2.06.94zm-11 1L8.5 8.5l.94-2.06 2.06-.94-2.06-.94L8.5 2.5l-.94 2.06-2.06.94zm10 10l.94 2.06.94-2.06 2.06-.94-2.06-.94-.94-2.06-.94 2.06-2.06.94z\"/><path d=\"M17.41 7.96l-1.37-1.37c-.4-.4-.92-.59-1.43-.59-.52 0-1.04.2-1.43.59L10.3 9.45l-7.72 7.72c-.78.78-.78 2.05 0 2.83L4 21.41c.39.39.9.59 1.41.59.51 0 1.02-.2 1.41-.59l7.78-7.78 2.81-2.81c.8-.78.8-2.07 0-2.86zM5.41 20L4 18.59l7.72-7.72 1.47 1.35L5.41 20z\"/>\n",
              "  </svg>\n",
              "      </button>\n",
              "      \n",
              "  <style>\n",
              "    .colab-df-container {\n",
              "      display:flex;\n",
              "      flex-wrap:wrap;\n",
              "      gap: 12px;\n",
              "    }\n",
              "\n",
              "    .colab-df-convert {\n",
              "      background-color: #E8F0FE;\n",
              "      border: none;\n",
              "      border-radius: 50%;\n",
              "      cursor: pointer;\n",
              "      display: none;\n",
              "      fill: #1967D2;\n",
              "      height: 32px;\n",
              "      padding: 0 0 0 0;\n",
              "      width: 32px;\n",
              "    }\n",
              "\n",
              "    .colab-df-convert:hover {\n",
              "      background-color: #E2EBFA;\n",
              "      box-shadow: 0px 1px 2px rgba(60, 64, 67, 0.3), 0px 1px 3px 1px rgba(60, 64, 67, 0.15);\n",
              "      fill: #174EA6;\n",
              "    }\n",
              "\n",
              "    [theme=dark] .colab-df-convert {\n",
              "      background-color: #3B4455;\n",
              "      fill: #D2E3FC;\n",
              "    }\n",
              "\n",
              "    [theme=dark] .colab-df-convert:hover {\n",
              "      background-color: #434B5C;\n",
              "      box-shadow: 0px 1px 3px 1px rgba(0, 0, 0, 0.15);\n",
              "      filter: drop-shadow(0px 1px 2px rgba(0, 0, 0, 0.3));\n",
              "      fill: #FFFFFF;\n",
              "    }\n",
              "  </style>\n",
              "\n",
              "      <script>\n",
              "        const buttonEl =\n",
              "          document.querySelector('#df-99a61f56-a8f5-4ff0-84b4-81e3106ef092 button.colab-df-convert');\n",
              "        buttonEl.style.display =\n",
              "          google.colab.kernel.accessAllowed ? 'block' : 'none';\n",
              "\n",
              "        async function convertToInteractive(key) {\n",
              "          const element = document.querySelector('#df-99a61f56-a8f5-4ff0-84b4-81e3106ef092');\n",
              "          const dataTable =\n",
              "            await google.colab.kernel.invokeFunction('convertToInteractive',\n",
              "                                                     [key], {});\n",
              "          if (!dataTable) return;\n",
              "\n",
              "          const docLinkHtml = 'Like what you see? Visit the ' +\n",
              "            '<a target=\"_blank\" href=https://colab.research.google.com/notebooks/data_table.ipynb>data table notebook</a>'\n",
              "            + ' to learn more about interactive tables.';\n",
              "          element.innerHTML = '';\n",
              "          dataTable['output_type'] = 'display_data';\n",
              "          await google.colab.output.renderOutput(dataTable, element);\n",
              "          const docLink = document.createElement('div');\n",
              "          docLink.innerHTML = docLinkHtml;\n",
              "          element.appendChild(docLink);\n",
              "        }\n",
              "      </script>\n",
              "    </div>\n",
              "  </div>\n",
              "  "
            ]
          },
          "metadata": {},
          "execution_count": 33
        }
      ]
    },
    {
      "cell_type": "markdown",
      "source": [
        "## Run the full dataset"
      ],
      "metadata": {
        "id": "Q3Ppqee5GWK6"
      }
    },
    {
      "cell_type": "markdown",
      "source": [
        "Extract data"
      ],
      "metadata": {
        "id": "NdCLgvQeHLeI"
      }
    },
    {
      "cell_type": "code",
      "source": [
        "main_data_dir_200k = \"/content/pubmed-rct/PubMed_200k_RCT_numbers_replaced_with_at_sign/\"\n",
        "\n",
        "zip_ref = zipfile.ZipFile(main_data_dir_200k+\"train.zip\")\n",
        "zip_ref.extractall(main_data_dir_200k)\n",
        "zip_ref.close()\n",
        "\n",
        "train_dir_200k = main_data_dir_200k+\"train.txt\"\n",
        "val_dir_200k = main_data_dir_200k+\"dev.txt\"\n",
        "test_dir_200k = main_data_dir_200k+\"test.txt\"\n",
        "\n",
        "train_samples_200k = preprocess_text_with_line_numbers(train_dir_200k)\n",
        "val_samples_200k = preprocess_text_with_line_numbers(val_dir_200k)\n",
        "test_samples_200k = preprocess_text_with_line_numbers(test_dir_200k)\n",
        "\n",
        "train_df_200k = pd.DataFrame(train_samples_200k)\n",
        "val_df_200k = pd.DataFrame(val_samples_200k)\n",
        "test_df_200k = pd.DataFrame(test_samples_200k)\n",
        "\n",
        "train_sentences_200k = train_df_200k[\"text\"].to_list()\n",
        "val_sentences_200k = val_df_200k[\"text\"].to_list()\n",
        "test_sentences_200k = test_df_200k[\"text\"].to_list()"
      ],
      "metadata": {
        "id": "jvNCXAfOGYYR"
      },
      "execution_count": 34,
      "outputs": []
    },
    {
      "cell_type": "markdown",
      "source": [
        "Encode labels"
      ],
      "metadata": {
        "id": "2enxkFoLHVZF"
      }
    },
    {
      "cell_type": "code",
      "source": [
        "# using sklearn.preprocessing.LabelEncoder()\n",
        "label_encoder = LabelEncoder()\n",
        "train_labels_encoded_200k = label_encoder.fit_transform(train_df_200k[\"target\"].to_numpy())\n",
        "val_labels_encoded_200k = label_encoder.fit_transform(val_df_200k[\"target\"].to_numpy())\n",
        "test_labels_encoded_200k = label_encoder.fit_transform(test_df_200k[\"target\"].to_numpy())\n",
        "\n",
        "# using sklearn.preprocessing.OneHotEncoder()\n",
        "one_hot_encoder = OneHotEncoder(sparse=False)\n",
        "train_labels_one_hot_200k = one_hot_encoder.fit_transform(train_df_200k[\"target\"].to_numpy().reshape(-1,1))\n",
        "val_labels_one_hot_200k = one_hot_encoder.fit_transform(val_df_200k[\"target\"].to_numpy().reshape(-1,1))\n",
        "test_labels_one_hot_200k = one_hot_encoder.fit_transform(test_df_200k[\"target\"].to_numpy().reshape(-1,1))\n",
        "\n",
        "# using tf.one_hot\n",
        "train_line_number_one_hot_200k = tf.one_hot(train_df_200k[\"line_number\"].to_numpy(),depth=15)\n",
        "val_line_number_one_hot_200k = tf.one_hot(val_df_200k[\"line_number\"].to_numpy(),depth=15)\n",
        "test_line_number_one_hot_200k = tf.one_hot(test_df_200k[\"line_number\"].to_numpy(),depth=15)\n",
        "\n",
        "train_total_lines_one_hot_200k = tf.one_hot(train_df_200k[\"total_lines\"].to_numpy(),depth=20)\n",
        "val_total_lines_one_hot_200k = tf.one_hot(val_df_200k[\"total_lines\"].to_numpy(),depth=20)\n",
        "test_total_lines_one_hot_200k = tf.one_hot(test_df_200k[\"total_lines\"].to_numpy(),depth=20)\n",
        "\n",
        "train_chars_200k = [split_chars(sentence) for sentence in train_sentences_200k] \n",
        "val_chars_200k = [split_chars(sentence) for sentence in val_sentences_200k]\n",
        "test_chars_200k = [split_chars(sentence) for sentence in test_sentences_200k]"
      ],
      "metadata": {
        "id": "0xMEYuxDGmwO"
      },
      "execution_count": 35,
      "outputs": []
    },
    {
      "cell_type": "markdown",
      "source": [
        "Create fast-loading tf.data Datasets"
      ],
      "metadata": {
        "id": "ftg7t56KHX7p"
      }
    },
    {
      "cell_type": "code",
      "source": [
        "# turn the train and val data samples into fast-loading tf.data Datasets\n",
        "train_dataset_data_200k = tf.data.Dataset.from_tensor_slices((train_line_number_one_hot_200k,\n",
        "                                                         train_total_lines_one_hot_200k,\n",
        "                                                         train_sentences_200k,\n",
        "                                                         train_chars_200k))\n",
        "train_dataset_labels_200k = tf.data.Dataset.from_tensor_slices(train_labels_one_hot_200k)\n",
        "train_dataset_200k = tf.data.Dataset.zip((train_dataset_data_200k,train_dataset_labels_200k))\n",
        "train_dataset_200k = train_dataset_200k.batch(32).prefetch(tf.data.AUTOTUNE)\n",
        "\n",
        "val_dataset_data_200k = tf.data.Dataset.from_tensor_slices((val_line_number_one_hot_200k,\n",
        "                                                         val_total_lines_one_hot_200k,\n",
        "                                                         val_sentences_200k,\n",
        "                                                         val_chars_200k))\n",
        "val_dataset_labels_200k = tf.data.Dataset.from_tensor_slices(val_labels_one_hot_200k)\n",
        "val_dataset_200k = tf.data.Dataset.zip((val_dataset_data_200k,val_dataset_labels_200k))\n",
        "val_dataset_200k = val_dataset_200k.batch(32).prefetch(tf.data.AUTOTUNE)"
      ],
      "metadata": {
        "id": "KH4PUv50HbsC"
      },
      "execution_count": 36,
      "outputs": []
    },
    {
      "cell_type": "markdown",
      "source": [
        "Train the model on the full dataset"
      ],
      "metadata": {
        "id": "cfyPs53YHgqQ"
      }
    },
    {
      "cell_type": "code",
      "source": [
        "# train the model on all of the data using:\n",
        "# tf.keras.callbacks.ModelCheckpoint\n",
        "# tf.keras.callbacks.EarlyStopping\n",
        "# stop the model from training once validation loss has stopped improving over 3 epochs\n",
        "model_ckpt_path = \"/tmp/checkpoint\" \n",
        "model_checkpoint_callback = tf.keras.callbacks.ModelCheckpoint(filepath=model_ckpt_path,\n",
        "                                                               save_weights_only=True,\n",
        "                                                               save_best_only=True,\n",
        "                                                               save_freq=\"epoch\")\n",
        "\n",
        "early_stopping_callback = tf.keras.callbacks.EarlyStopping(monitor=\"val_loss\",\n",
        "                                                           patience=3)\n",
        "\n",
        "# train the model\n",
        "history_tribrid_200k = tribrid_model.fit(train_dataset_200k,\n",
        "                                    epochs=50,\n",
        "                                    steps_per_epoch=int(0.1*len(train_dataset_200k)),\n",
        "                                    validation_data=val_dataset_200k,\n",
        "                                    validation_steps=int(0.1*len(val_dataset_200k)),\n",
        "                                    callbacks=[model_checkpoint_callback,\n",
        "                                               early_stopping_callback])"
      ],
      "metadata": {
        "colab": {
          "base_uri": "https://localhost:8080/"
        },
        "id": "KTj-AbHgGsK5",
        "outputId": "d19aff9e-70f1-44f5-b656-f9d7f689672d"
      },
      "execution_count": 37,
      "outputs": [
        {
          "output_type": "stream",
          "name": "stdout",
          "text": [
            "Epoch 1/50\n",
            "6912/6912 [==============================] - 334s 48ms/step - loss: 0.8727 - accuracy: 0.8635 - val_loss: 0.8537 - val_accuracy: 0.8733\n",
            "Epoch 2/50\n",
            "6912/6912 [==============================] - 330s 48ms/step - loss: 0.8638 - accuracy: 0.8693 - val_loss: 0.8444 - val_accuracy: 0.8795\n",
            "Epoch 3/50\n",
            "6912/6912 [==============================] - 347s 50ms/step - loss: 0.8605 - accuracy: 0.8707 - val_loss: 0.8411 - val_accuracy: 0.8833\n",
            "Epoch 4/50\n",
            "6912/6912 [==============================] - 342s 49ms/step - loss: 0.8557 - accuracy: 0.8738 - val_loss: 0.8369 - val_accuracy: 0.8823\n",
            "Epoch 5/50\n",
            "6912/6912 [==============================] - 367s 53ms/step - loss: 0.8545 - accuracy: 0.8758 - val_loss: 0.8363 - val_accuracy: 0.8840\n",
            "Epoch 6/50\n",
            "6912/6912 [==============================] - 373s 54ms/step - loss: 0.8507 - accuracy: 0.8778 - val_loss: 0.8323 - val_accuracy: 0.8868\n",
            "Epoch 7/50\n",
            "6912/6912 [==============================] - 342s 49ms/step - loss: 0.8496 - accuracy: 0.8783 - val_loss: 0.8429 - val_accuracy: 0.8792\n",
            "Epoch 8/50\n",
            "6912/6912 [==============================] - 376s 54ms/step - loss: 0.8474 - accuracy: 0.8801 - val_loss: 0.8321 - val_accuracy: 0.8882\n",
            "Epoch 9/50\n",
            "6912/6912 [==============================] - 354s 51ms/step - loss: 0.8472 - accuracy: 0.8810 - val_loss: 0.8304 - val_accuracy: 0.8899\n",
            "Epoch 10/50\n",
            "6912/6912 [==============================] - 330s 48ms/step - loss: 0.8477 - accuracy: 0.8798 - val_loss: 0.8300 - val_accuracy: 0.8868\n",
            "Epoch 11/50\n",
            "   1/6912 [..............................] - ETA: 5:45 - loss: 1.2677 - accuracy: 0.6667"
          ]
        },
        {
          "output_type": "stream",
          "name": "stderr",
          "text": [
            "WARNING:tensorflow:Your input ran out of data; interrupting training. Make sure that your dataset or generator can generate at least `steps_per_epoch * epochs` batches (in this case, 345600 batches). You may need to use the repeat() function when building your dataset.\n"
          ]
        },
        {
          "output_type": "stream",
          "name": "stdout",
          "text": [
            "\b\b\b\b\b\b\b\b\b\b\b\b\b\b\b\b\b\b\b\b\b\b\b\b\b\b\b\b\b\b\b\b\b\b\b\b\b\b\b\b\b\b\b\b\b\b\b\b\b\b\b\b\b\b\b\b\b\b\b\b\b\b\b\b\b\b\b\b\b\b\b\b\b\b\b\b\b\b\b\b\b\b\b\b\b\b\b\b\r6912/6912 [==============================] - 7s 1ms/step - loss: 1.2677 - accuracy: 0.6667 - val_loss: 0.8299 - val_accuracy: 0.8875\n"
          ]
        }
      ]
    },
    {
      "cell_type": "code",
      "source": [
        "# tribrid_model.save(\"/content/drive/MyDrive/my_200k_data_trained_model\")"
      ],
      "metadata": {
        "id": "5ZgIMmzXG991"
      },
      "execution_count": null,
      "outputs": []
    },
    {
      "cell_type": "markdown",
      "source": [
        "Evaluate on the full test dataset"
      ],
      "metadata": {
        "id": "Xce09AVTHGnS"
      }
    },
    {
      "cell_type": "code",
      "source": [
        "# turn the test data samples into a fast-loading tf.data Dataset\n",
        "test_dataset_data_200k = tf.data.Dataset.from_tensor_slices((test_line_number_one_hot_200k,\n",
        "                                                         test_total_lines_one_hot_200k,\n",
        "                                                         test_sentences_200k,\n",
        "                                                         test_chars_200k))\n",
        "test_dataset_labels_200k = tf.data.Dataset.from_tensor_slices(test_labels_one_hot_200k)\n",
        "test_dataset_200k = tf.data.Dataset.zip((test_dataset_data_200k,test_dataset_labels_200k))\n",
        "test_dataset_200k = test_dataset_200k.batch(32).prefetch(tf.data.AUTOTUNE)\n",
        "\n",
        "# evaluate the final network on the test samples\n",
        "tribrid_model_pred_probs_test_200k = tribrid_model.predict(test_dataset_200k)\n",
        "tribrid_model_preds_test_200k = tf.argmax(tribrid_model_pred_probs_test_200k,axis=1)\n",
        "tribrid_model_results_test_200k = calculate_results(y_true=test_labels_encoded_200k,\n",
        "                                               y_pred=tribrid_model_preds_test_200k)\n",
        "tribrid_model_results_test_200k\n"
      ],
      "metadata": {
        "colab": {
          "base_uri": "https://localhost:8080/"
        },
        "id": "JqG_3D51HFYa",
        "outputId": "e88fb759-75f7-4b12-8f0f-974d06e2c154"
      },
      "execution_count": 38,
      "outputs": [
        {
          "output_type": "stream",
          "name": "stdout",
          "text": [
            "922/922 [==============================] - 24s 26ms/step\n"
          ]
        },
        {
          "output_type": "execute_result",
          "data": {
            "text/plain": [
              "{'accuracy': 88.72952904078933,\n",
              " 'precision': 0.8900000111276817,\n",
              " 'recall': 0.8872952904078933,\n",
              " 'f1': 0.8858397444879298}"
            ]
          },
          "metadata": {},
          "execution_count": 38
        }
      ]
    },
    {
      "cell_type": "markdown",
      "source": [
        "## Try GloVe embeddings"
      ],
      "metadata": {
        "id": "SWhiLRbIHzg4"
      }
    },
    {
      "cell_type": "code",
      "source": [
        "# check out the keras guide on using pretrained GloVe embeddings\n",
        "# https://keras.io/examples/nlp/pretrained_word_embeddings/\n",
        "\n",
        "!wget http://nlp.stanford.edu/data/glove.6B.zip\n",
        "!unzip -q glove.6B.zip\n",
        "\n",
        "path_to_glove_file = \"/content/glove.6B.100d.txt\"\n",
        "\n",
        "embeddings_index = {}\n",
        "with open(path_to_glove_file) as f:\n",
        "  for line in f:\n",
        "    word,coefs = line.split(maxsplit=1)\n",
        "    coefs = np.fromstring(coefs,\"f\",sep=\" \")\n",
        "    embeddings_index[word] = coefs\n",
        "\n",
        "print(f\"found {len(embeddings_index)} word vectors.\")\n",
        "\n",
        "inputs = Input(shape=(1,),dtype=\"string\",name=\"char_inputs\")\n",
        "x = char_vectorizer(inputs)\n",
        "x = char_embedding(x)\n",
        "outputs = Bidirectional(LSTM(24))(x) # in paper, 50, which is 2x25\n",
        "char_model_GLOVE = tf.keras.Model(inputs,outputs,name=\"char_model\")\n",
        "\n",
        "# vectorization for tokens...\n",
        "from tensorflow.keras.layers.experimental.preprocessing import TextVectorization\n",
        "\n",
        "max_tokens = 68000 # from paper\n",
        "output_sequence_length = 48\n",
        "\n",
        "text_vectorizer = TextVectorization(max_tokens=max_tokens,\n",
        "                                    output_sequence_length=output_sequence_length)\n",
        "\n",
        "# adapt text vectorizer to training sentences\n",
        "text_vectorizer.adapt(train_sentences)\n",
        "\n",
        "voc = text_vectorizer.get_vocabulary()\n",
        "word_index = dict(zip(voc,range(len(voc))))\n",
        "\n",
        "num_tokens = len(voc)+2\n",
        "embedding_dim = 100\n",
        "hits = 0\n",
        "misses = 0\n",
        "\n",
        "# prepare embedding matrix\n",
        "embedding_matrix = np.zeros((num_tokens,embedding_dim))\n",
        "\n",
        "for word,i in word_index.items():\n",
        "  embedding_vector = embeddings_index.get(word)\n",
        "  \n",
        "  if embedding_vector is not None:\n",
        "    # words not found in embedding index will be all zeros.\n",
        "    # this includes the representation for \"padding\" and \"00V\"\n",
        "    embedding_matrix[i] = embedding_vector\n",
        "    hits += 1\n",
        "  else:\n",
        "    misses += 1\n",
        "\n",
        "print(f\"converted {hits} words ({misses} misses)\")\n",
        "\n",
        "# you can either fine-tune the embeddings or leave them frozen\n",
        "new_token_embedding = Embedding(input_dim=num_tokens,\n",
        "                                output_dim=embedding_dim,\n",
        "                                embeddings_initializer=tf.keras.initializers.Constant(embedding_matrix),\n",
        "                                trainable=False,\n",
        "                                name=\"token_embedding_GLOVE\")\n",
        "\n",
        "# to finish this out, we would need to:\n",
        "# create a new token_model_GLOVE\n",
        "inputs = Input(shape=(1,),dtype=\"string\",name=\"tribrid_GLOVE_inputs\")\n",
        "x = text_vectorizer(inputs)\n",
        "x = new_token_embedding(x)\n",
        "outputs = Bidirectional(LSTM(24))(x) # in paper, 50, which is 2x25\n",
        "# outputs = Dense(128,activation=\"relu\")(x)\n",
        "token_model_GLOVE = tf.keras.Model(inputs,outputs,name=\"token_model_GLOVE\")\n",
        "\n",
        "# re-concatenate token and char models\n",
        "concat_token_char_GLOVE = Concatenate(name=\"concat_token_char_GLOVE\")([token_model_GLOVE.output,\n",
        "                                                                       char_model_GLOVE.output])\n",
        "\n",
        "# add dropout and dense layers\n",
        "x = Dense(256,activation=\"relu\")(concat_token_char_GLOVE)\n",
        "concat_token_char_GLOVE_embedding = Dropout(0.5,name=\"concat_token_char_GLOVE_embedding\")(x)\n",
        "\n",
        "# re-concatenate combo with line number and total lines models\n",
        "concat_tribrid_GLOVE = Concatenate(name=\"concat_tribrid_GLOVE\")([line_number_model.output,\n",
        "                                                                 total_lines_model.output,\n",
        "                                                                 concat_token_char_GLOVE_embedding])\n",
        "# add final dense layer\n",
        "tribrid_GLOVE_output = Dense(5,activation=\"softmax\",name=\"tribrid_GLOVE_output\")(concat_tribrid_GLOVE)\n",
        "\n",
        "# create the model\n",
        "tribrid_model_GLOVE = tf.keras.Model([line_number_model.input,\n",
        "                                      total_lines_model.input,\n",
        "                                      token_model_GLOVE.input,\n",
        "                                      char_model_GLOVE.input],\n",
        "                                     tribrid_GLOVE_output,\n",
        "                                     name=\"tribrid_model_GLOVE\")\n",
        "\n",
        "# compile the model\n",
        "tribrid_model_GLOVE.compile(loss=tf.keras.losses.CategoricalCrossentropy(label_smoothing=0.2),\n",
        "                            optimizer=tf.keras.optimizers.Adam(),\n",
        "                            metrics=[\"accuracy\"])\n",
        "\n",
        "# original datasets should be fine... haven't overwritten yet\n",
        "# fit the model\n",
        "history_tribrid_model_GLOVE = tribrid_model_GLOVE.fit(train_dataset,\n",
        "                                                      epochs=3,\n",
        "                                                      steps_per_epoch=int(0.1*len(train_dataset)),\n",
        "                                                      validation_data=val_dataset,\n",
        "                                                      validation_steps=int(0.1*len(val_dataset)),\n",
        "                                                      callbacks=[])\n",
        "# evaluate\n",
        "tribrid_model_GLOVE_pred_probs = tribrid_model_GLOVE.predict(val_dataset)\n",
        "tribrid_model_GLOVE_preds = tf.argmax(tribrid_model_GLOVE_pred_probs,axis=1)\n",
        "tribrid_model_GLOVE_results = calculate_results(y_true=val_labels_encoded,\n",
        "                                                y_pred=tribrid_model_GLOVE_preds)\n",
        "tribrid_model_GLOVE_results"
      ],
      "metadata": {
        "colab": {
          "base_uri": "https://localhost:8080/"
        },
        "id": "bwNC5veCH20L",
        "outputId": "c89b8c16-b9cb-4c79-fa02-6e6a02af95fe"
      },
      "execution_count": 39,
      "outputs": [
        {
          "output_type": "stream",
          "name": "stdout",
          "text": [
            "--2023-03-01 23:11:19--  http://nlp.stanford.edu/data/glove.6B.zip\n",
            "Resolving nlp.stanford.edu (nlp.stanford.edu)... 171.64.67.140\n",
            "Connecting to nlp.stanford.edu (nlp.stanford.edu)|171.64.67.140|:80... connected.\n",
            "HTTP request sent, awaiting response... 302 Found\n",
            "Location: https://nlp.stanford.edu/data/glove.6B.zip [following]\n",
            "--2023-03-01 23:11:19--  https://nlp.stanford.edu/data/glove.6B.zip\n",
            "Connecting to nlp.stanford.edu (nlp.stanford.edu)|171.64.67.140|:443... connected.\n",
            "HTTP request sent, awaiting response... 301 Moved Permanently\n",
            "Location: https://downloads.cs.stanford.edu/nlp/data/glove.6B.zip [following]\n",
            "--2023-03-01 23:11:19--  https://downloads.cs.stanford.edu/nlp/data/glove.6B.zip\n",
            "Resolving downloads.cs.stanford.edu (downloads.cs.stanford.edu)... 171.64.64.22\n",
            "Connecting to downloads.cs.stanford.edu (downloads.cs.stanford.edu)|171.64.64.22|:443... connected.\n",
            "HTTP request sent, awaiting response... 200 OK\n",
            "Length: 862182613 (822M) [application/zip]\n",
            "Saving to: ‘glove.6B.zip’\n",
            "\n",
            "glove.6B.zip        100%[===================>] 822.24M  5.01MB/s    in 2m 39s  \n",
            "\n",
            "2023-03-01 23:13:58 (5.18 MB/s) - ‘glove.6B.zip’ saved [862182613/862182613]\n",
            "\n",
            "found 400000 word vectors.\n",
            "converted 29730 words (35111 misses)\n",
            "Epoch 1/3\n",
            "562/562 [==============================] - 53s 60ms/step - loss: 1.0922 - accuracy: 0.7204 - val_loss: 0.9730 - val_accuracy: 0.8092\n",
            "Epoch 2/3\n",
            "562/562 [==============================] - 29s 51ms/step - loss: 0.9656 - accuracy: 0.8158 - val_loss: 0.9387 - val_accuracy: 0.8378\n",
            "Epoch 3/3\n",
            "562/562 [==============================] - 25s 45ms/step - loss: 0.9475 - accuracy: 0.8259 - val_loss: 0.9205 - val_accuracy: 0.8454\n",
            "945/945 [==============================] - 20s 16ms/step\n"
          ]
        },
        {
          "output_type": "execute_result",
          "data": {
            "text/plain": [
              "{'accuracy': 84.15199258572753,\n",
              " 'precision': 0.8411268700202892,\n",
              " 'recall': 0.8415199258572753,\n",
              " 'f1': 0.8410167587097344}"
            ]
          },
          "metadata": {},
          "execution_count": 39
        }
      ]
    },
    {
      "cell_type": "code",
      "source": [
        "token_model_GLOVE.summary()"
      ],
      "metadata": {
        "colab": {
          "base_uri": "https://localhost:8080/"
        },
        "id": "pa5rzvp-IL1j",
        "outputId": "22d068a0-d2eb-459a-9c5c-499c0e2aa8db"
      },
      "execution_count": 40,
      "outputs": [
        {
          "output_type": "stream",
          "name": "stdout",
          "text": [
            "Model: \"token_model_GLOVE\"\n",
            "_________________________________________________________________\n",
            " Layer (type)                Output Shape              Param #   \n",
            "=================================================================\n",
            " tribrid_GLOVE_inputs (Input  [(None, 1)]              0         \n",
            " Layer)                                                          \n",
            "                                                                 \n",
            " text_vectorization (TextVec  (None, 48)               0         \n",
            " torization)                                                     \n",
            "                                                                 \n",
            " token_embedding_GLOVE (Embe  (None, 48, 100)          6484300   \n",
            " dding)                                                          \n",
            "                                                                 \n",
            " bidirectional_2 (Bidirectio  (None, 48)               24000     \n",
            " nal)                                                            \n",
            "                                                                 \n",
            "=================================================================\n",
            "Total params: 6,508,300\n",
            "Trainable params: 24,000\n",
            "Non-trainable params: 6,484,300\n",
            "_________________________________________________________________\n"
          ]
        }
      ]
    },
    {
      "cell_type": "code",
      "source": [
        "char_model_GLOVE.summary()"
      ],
      "metadata": {
        "colab": {
          "base_uri": "https://localhost:8080/"
        },
        "id": "sBNi5pOvI0fK",
        "outputId": "62f11f0d-4f0a-487b-853f-449b17fad0fc"
      },
      "execution_count": 41,
      "outputs": [
        {
          "output_type": "stream",
          "name": "stdout",
          "text": [
            "Model: \"char_model\"\n",
            "_________________________________________________________________\n",
            " Layer (type)                Output Shape              Param #   \n",
            "=================================================================\n",
            " char_inputs (InputLayer)    [(None, 1)]               0         \n",
            "                                                                 \n",
            " char_vectorizer (TextVector  (None, 290)              0         \n",
            " ization)                                                        \n",
            "                                                                 \n",
            " char_embedding (Embedding)  (None, 290, 25)           700       \n",
            "                                                                 \n",
            " bidirectional_1 (Bidirectio  (None, 48)               9600      \n",
            " nal)                                                            \n",
            "                                                                 \n",
            "=================================================================\n",
            "Total params: 10,300\n",
            "Trainable params: 10,300\n",
            "Non-trainable params: 0\n",
            "_________________________________________________________________\n"
          ]
        }
      ]
    },
    {
      "cell_type": "markdown",
      "source": [
        "## Try BERT"
      ],
      "metadata": {
        "id": "2rGRIZ5-H1gu"
      }
    },
    {
      "cell_type": "code",
      "source": [
        "# try replacing the tensorflow hub USE pretrained embedding for the\n",
        "# tensorflow hub BERT PubMed expert pretrained embedding:\n",
        "# https://tfhub.dev/google/experts/bert/pubmed/2\n",
        "\n",
        "# PREVIOUS:\n",
        "  # # create a token-level model (USE)\n",
        "  # import tensorflow_hub as hub\n",
        "  # use_encoder_layer = hub.KerasLayer(\"https://tfhub.dev/google/universal-sentence-encoder/4\",\n",
        "  #                                    trainable=False,\n",
        "  #                                    name=\"USE\")\n",
        "\n",
        "  # from tensorflow.keras.layers import Input, Dense\n",
        "  # inputs = Input(shape=[],dtype=\"string\",name=\"USE_token_inputs\")\n",
        "  # x = use_encoder_layer(inputs)\n",
        "  # outputs = Dense(128,activation=\"relu\")(x)\n",
        "  # token_model_USE = tf.keras.Model(inputs,outputs,name=\"token_model_USE\")\n",
        "\n",
        "!pip3 install --quiet tensorflow-text\n",
        "import tensorflow_text as text # imports tf ops for preprocessing\n",
        "\n",
        "# load BERT encoder and preprocessing models\n",
        "# bert = hub.load(\"https://tfhub.dev/google/experts/bert/pubmed/2\")\n",
        "\n",
        "preprocess_handle = hub.load(\"https://tfhub.dev/tensorflow/bert_en_uncased_preprocess/3\")\n",
        "bert_handle = hub.load(\"https://tfhub.dev/google/experts/bert/pubmed/2\")\n",
        "\n",
        "inputs = Input(shape=(),dtype=\"string\",name=\"BERT_inputs\")\n",
        "preprocessing_layer = hub.KerasLayer(preprocess_handle, name='preprocessing')\n",
        "encoder_inputs = preprocessing_layer(inputs)\n",
        "\n",
        "encoder = hub.KerasLayer(bert_handle, trainable=False, name='BERT_encoder')\n",
        "outputs_BERT = encoder(encoder_inputs)\n",
        "\n",
        "x = outputs_BERT['pooled_output']\n",
        "x = tf.keras.layers.Dropout(0.1)(x)\n",
        "outputs = tf.keras.layers.Dense(128, activation=\"relu\", name='BERT_outputs')(x)\n",
        "token_model_BERT = tf.keras.Model(inputs,outputs,name=\"token_model_BERT\")\n",
        "\n",
        "# does this affect results?\n",
        "# NEED TO FINISH THE REST OF INIT TO SEE...\n",
        "# re-concatenate token and char models\n",
        "concat_token_char_BERT = Concatenate(name=\"concat_token_char_BERT\")([token_model_BERT.output,\n",
        "                                                                     char_model.output])\n",
        "\n",
        "# incorporate the dropout and dense layers\n",
        "x = Dense(256,activation=\"relu\")(concat_token_char_BERT)\n",
        "concat_token_char_BERT_embedding = Dropout(0.5,name=\"concat_token_char_BERT_embedding\")(x)\n",
        "\n",
        "# re-concatenate combined token and char models with line_number and total_lines models\n",
        "concat_tribrid_BERT = Concatenate(name=\"concat_tribrid_BERT\")([line_number_model.output,\n",
        "                                                               total_lines_model.output,\n",
        "                                                               concat_token_char_BERT_embedding])\n",
        "\n",
        "tribrid_BERT_output = Dense(5,activation=\"softmax\",name=\"tribrid_BERT_output\")(concat_tribrid_BERT)\n",
        "tribrid_model_BERT = tf.keras.Model([line_number_model.input,\n",
        "                                     total_lines_model.input,\n",
        "                                     token_model_BERT.input,\n",
        "                                     char_model.input],\n",
        "                                    tribrid_BERT_output,\n",
        "                                    name=\"tribrid_model_BERT\")\n",
        "\n",
        "# compile the new model\n",
        "tribrid_model_BERT.compile(loss=tf.keras.losses.CategoricalCrossentropy(label_smoothing=0.2),\n",
        "                           optimizer=tf.keras.optimizers.Adam(),\n",
        "                           metrics=[\"accuracy\"])\n",
        "\n",
        "# note: using BERT requires an extra preprocessing step for sequences,\n",
        "# as detailed here: https://tfhub.dev/google/experts/bert/pubmed/2\n",
        "\n",
        "# convert the sentences into bert inputs\n",
        "# (previous USE inputs were just the sentences... comes up in dataset generation)\n",
        "# train_bert_sentences = preprocess(train_sentences)\n",
        "# val_bert_sentences = preprocess(val_sentences)\n",
        "# test_bert_sentences = preprocess(test_sentences)\n",
        "\n",
        "# dataset change: instead of incorporating train_sentences, need train_bert_sentences\n",
        "train_dataset_data = tf.data.Dataset.from_tensor_slices((train_line_number_one_hot,\n",
        "                                                         train_total_lines_one_hot,\n",
        "                                                         train_sentences,\n",
        "                                                         train_chars))\n",
        "train_dataset = tf.data.Dataset.zip((train_dataset_data,train_dataset_labels)) # old set of labels works fine\n",
        "train_dataset = train_dataset.batch(32).prefetch(tf.data.AUTOTUNE)\n",
        "\n",
        "val_dataset_data = tf.data.Dataset.from_tensor_slices((val_line_number_one_hot,\n",
        "                                                         val_total_lines_one_hot,\n",
        "                                                         val_sentences,\n",
        "                                                         val_chars))\n",
        "val_dataset = tf.data.Dataset.zip((val_dataset_data,val_dataset_labels)) # old set of labels works fine\n",
        "val_dataset = val_dataset.batch(32).prefetch(tf.data.AUTOTUNE)\n",
        "\n",
        "test_dataset_data = tf.data.Dataset.from_tensor_slices((test_line_number_one_hot,\n",
        "                                                         test_total_lines_one_hot,\n",
        "                                                         test_sentences,\n",
        "                                                         test_chars))\n",
        "test_dataset = tf.data.Dataset.zip((test_dataset_data,test_dataset_labels)) # old set of labels works fine\n",
        "test_dataset = test_dataset.batch(32).prefetch(tf.data.AUTOTUNE)\n",
        "\n",
        "# fit as usual, with these new dataset definitions\n",
        "history_tribrid_model_BERT = tribrid_model_BERT.fit(train_dataset,\n",
        "                                                    epochs=3,\n",
        "                                                    steps_per_epoch=int(0.1*len(train_dataset)),\n",
        "                                                    validation_data=val_dataset,\n",
        "                                                    validation_steps=int(0.1*len(val_dataset)),\n",
        "                                                    callbacks=[])\n",
        "\n",
        "# evaluate\n",
        "tribrid_model_BERT_pred_probs = tribrid_model_BERT.predict(val_dataset)\n",
        "tribrid_model_BERT_preds = tf.argmax(tribrid_model_BERT_pred_probs,axis=1)\n",
        "tribrid_model_BERT_results = calculate_results(y_true=val_labels_encoded,\n",
        "                                               y_pred=tribrid_model_BERT_preds)\n",
        "tribrid_model_BERT_results\n"
      ],
      "metadata": {
        "colab": {
          "base_uri": "https://localhost:8080/"
        },
        "id": "D56bx9m0I1Nr",
        "outputId": "22697230-f256-4af2-e389-ea3e28beac1c"
      },
      "execution_count": 43,
      "outputs": [
        {
          "output_type": "stream",
          "name": "stdout",
          "text": [
            "\u001b[?25l     \u001b[90m━━━━━━━━━━━━━━━━━━━━━━━━━━━━━━━━━━━━━━━━\u001b[0m \u001b[32m0.0/5.8 MB\u001b[0m \u001b[31m?\u001b[0m eta \u001b[36m-:--:--\u001b[0m\r\u001b[2K     \u001b[91m━━━\u001b[0m\u001b[90m╺\u001b[0m\u001b[90m━━━━━━━━━━━━━━━━━━━━━━━━━━━━━━━━━━━━\u001b[0m \u001b[32m0.4/5.8 MB\u001b[0m \u001b[31m13.0 MB/s\u001b[0m eta \u001b[36m0:00:01\u001b[0m\r\u001b[2K     \u001b[91m━━━━━━━━━━━━━━━━━━━━━━━━━━━\u001b[0m\u001b[91m╸\u001b[0m\u001b[90m━━━━━━━━━━━━\u001b[0m \u001b[32m4.0/5.8 MB\u001b[0m \u001b[31m58.0 MB/s\u001b[0m eta \u001b[36m0:00:01\u001b[0m\r\u001b[2K     \u001b[91m━━━━━━━━━━━━━━━━━━━━━━━━━━━━━━━━━━━━━━━\u001b[0m\u001b[91m╸\u001b[0m \u001b[32m5.8/5.8 MB\u001b[0m \u001b[31m73.2 MB/s\u001b[0m eta \u001b[36m0:00:01\u001b[0m\r\u001b[2K     \u001b[90m━━━━━━━━━━━━━━━━━━━━━━━━━━━━━━━━━━━━━━━━\u001b[0m \u001b[32m5.8/5.8 MB\u001b[0m \u001b[31m53.8 MB/s\u001b[0m eta \u001b[36m0:00:00\u001b[0m\n",
            "\u001b[?25hEpoch 1/3\n",
            "562/562 [==============================] - 272s 443ms/step - loss: 0.9701 - accuracy: 0.8187 - val_loss: 0.8769 - val_accuracy: 0.8743\n",
            "Epoch 2/3\n",
            "562/562 [==============================] - 254s 453ms/step - loss: 0.8900 - accuracy: 0.8722 - val_loss: 0.8615 - val_accuracy: 0.8823\n",
            "Epoch 3/3\n",
            "562/562 [==============================] - 245s 436ms/step - loss: 0.8793 - accuracy: 0.8754 - val_loss: 0.8553 - val_accuracy: 0.8896\n",
            "945/945 [==============================] - 331s 345ms/step\n"
          ]
        },
        {
          "output_type": "execute_result",
          "data": {
            "text/plain": [
              "{'accuracy': 88.66675493181518,\n",
              " 'precision': 0.8858008891123565,\n",
              " 'recall': 0.8866675493181517,\n",
              " 'f1': 0.8858523279652152}"
            ]
          },
          "metadata": {},
          "execution_count": 43
        }
      ]
    },
    {
      "cell_type": "markdown",
      "source": [
        "## Aside: various model option examples"
      ],
      "metadata": {
        "id": "twzoSr81I3J1"
      }
    },
    {
      "cell_type": "markdown",
      "source": [
        "Binary LSTM"
      ],
      "metadata": {
        "id": "Xkn9IHYjJRlP"
      }
    },
    {
      "cell_type": "code",
      "source": [
        "# binary LSTM:\n",
        "inputs = layers.Input(shape=(1,),dtype=\"string\")\n",
        "x = text_vectorizer(inputs)\n",
        "x = embedding(x)\n",
        "x = layers.LSTM(64,return_sequences=True)(x) # to return vector for each word\n",
        "x = layers.LSTM(64)(x) # return vector for whole sequence\n",
        "x = layers.Dense(64,activation=\"relu\")(x)\n",
        "outputs = layers.Dense(1,activation=\"sigmoid\")(x)\n",
        "model = tf.keras.Model(inputs,outputs,name=\"model\")"
      ],
      "metadata": {
        "id": "zD9YsjqDJR2R"
      },
      "execution_count": null,
      "outputs": []
    },
    {
      "cell_type": "markdown",
      "source": [
        "Binary GRU"
      ],
      "metadata": {
        "id": "1LJpffyrJYNz"
      }
    },
    {
      "cell_type": "code",
      "source": [
        "# binary GRU\n",
        "inputs = layers.Input(shape=(1,),dtype=\"string\")\n",
        "x = text_vectorizer(inputs)\n",
        "x = embedding(x)\n",
        "x = layers.GRU(64,return_sequences=True)(x) # to return vector for each word\n",
        "x = layers.GRU(64)(x) # return vector for whole sequence\n",
        "x = layers.Dense(64,activation=\"relu\")(x)\n",
        "outputs = layers.Dense(1,activation=\"sigmoid\")(x)\n",
        "model = tf.keras.Model(inputs,outputs,name=\"model\")"
      ],
      "metadata": {
        "id": "inkkEj8ZJZaN"
      },
      "execution_count": null,
      "outputs": []
    },
    {
      "cell_type": "markdown",
      "source": [
        "Binary CNN"
      ],
      "metadata": {
        "id": "fap_XslXJcH1"
      }
    },
    {
      "cell_type": "code",
      "source": [
        "# use RNNs, LSTMs, GRUs, and CNNs in models that work with text\n",
        "inputs = layers.Input(shape=(1,),dtype=\"string\")\n",
        "x = text_vectorizer(inputs)\n",
        "x = embedding(x)\n",
        "x = layers.Conv1D(filters=32,kernel_size=5,activation=\"relu\")(x)\n",
        "x = layers.GlobalMaxPool1D()(x)\n",
        "x = layers.Dense(64,activation=\"relu\")(x)\n",
        "outputs = layers.Dense(1,activation=\"sigmoid\")(x)\n",
        "model = tf.keras.Model(inputs,outputs,name=\"model\")"
      ],
      "metadata": {
        "id": "S7EF509HJcfi"
      },
      "execution_count": null,
      "outputs": []
    }
  ]
}